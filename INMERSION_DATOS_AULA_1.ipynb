{
  "nbformat": 4,
  "nbformat_minor": 0,
  "metadata": {
    "colab": {
      "provenance": [],
      "include_colab_link": true
    },
    "kernelspec": {
      "name": "python3",
      "display_name": "Python 3"
    },
    "language_info": {
      "name": "python"
    }
  },
  "cells": [
    {
      "cell_type": "markdown",
      "metadata": {
        "id": "view-in-github",
        "colab_type": "text"
      },
      "source": [
        "<a href=\"https://colab.research.google.com/github/RockoMdq/Alura-Encriptador/blob/main/INMERSION_DATOS_AULA_1.ipynb\" target=\"_parent\"><img src=\"https://colab.research.google.com/assets/colab-badge.svg\" alt=\"Open In Colab\"/></a>"
      ]
    },
    {
      "cell_type": "markdown",
      "source": [
        "Bienvenido a nuestro primer encuentro de inmersión de datos."
      ],
      "metadata": {
        "id": "qGW8k7mWhP7O"
      }
    },
    {
      "cell_type": "code",
      "source": [
        "from google.colab import drive\n",
        "\n",
        "drive.mount('/content/drive')"
      ],
      "metadata": {
        "id": "Y2BMxIBqhcl7",
        "colab": {
          "base_uri": "https://localhost:8080/"
        },
        "outputId": "0634cfbc-e768-400d-e9be-e4a81d04aa3d"
      },
      "execution_count": 2,
      "outputs": [
        {
          "output_type": "stream",
          "name": "stdout",
          "text": [
            "Mounted at /content/drive\n"
          ]
        }
      ]
    },
    {
      "cell_type": "code",
      "source": [
        "import pandas as pd\n",
        "\n",
        "inmuebles = pd.read_csv('/content/drive/MyDrive/Alura - Inmersion de Datos/inmuebles_bogota.csv') \n",
        "inmuebles.head()"
      ],
      "metadata": {
        "colab": {
          "base_uri": "https://localhost:8080/",
          "height": 206
        },
        "id": "S73Bs_z6j2QX",
        "outputId": "f56c7327-7950-4202-c707-deff60fa07e6"
      },
      "execution_count": 63,
      "outputs": [
        {
          "output_type": "execute_result",
          "data": {
            "text/plain": [
              "          Tipo                                 Descripcion  Habitaciones  \\\n",
              "0  Apartamento  Apartamento en venta en Zona Noroccidental             3   \n",
              "1         Casa                   Casa en venta en Castilla             4   \n",
              "2  Apartamento     Apartamento en venta en Chico Reservado             3   \n",
              "3  Apartamento             Apartamento en venta en Usaquén             3   \n",
              "4  Apartamento         Apartamento en venta en Bella Suiza             2   \n",
              "\n",
              "   Baños  Área              Barrio                                    UPZ  \\\n",
              "0      2    70  Zona Noroccidental     CHAPINERO: Pardo Rubio + Chapinero   \n",
              "1      3   170            Castilla            KENNEDY: Castilla + Bavaria   \n",
              "2      3   144     Chico Reservado     CHAPINERO: Chicó Lago + El Refugio   \n",
              "3      2   154             Usaquén                                Usaquén   \n",
              "4      3   128         Bella Suiza  USAQUÉN: Country Club + Santa Bárbara   \n",
              "\n",
              "             Valor  \n",
              "0    $ 360.000.000  \n",
              "1    $ 670.000.000  \n",
              "2  $ 1.120.000.000  \n",
              "3    $ 890.000.000  \n",
              "4    $ 970.000.000  "
            ],
            "text/html": [
              "\n",
              "  <div id=\"df-6dc036bd-9d6e-4e70-b632-1e8b8fbe96e8\">\n",
              "    <div class=\"colab-df-container\">\n",
              "      <div>\n",
              "<style scoped>\n",
              "    .dataframe tbody tr th:only-of-type {\n",
              "        vertical-align: middle;\n",
              "    }\n",
              "\n",
              "    .dataframe tbody tr th {\n",
              "        vertical-align: top;\n",
              "    }\n",
              "\n",
              "    .dataframe thead th {\n",
              "        text-align: right;\n",
              "    }\n",
              "</style>\n",
              "<table border=\"1\" class=\"dataframe\">\n",
              "  <thead>\n",
              "    <tr style=\"text-align: right;\">\n",
              "      <th></th>\n",
              "      <th>Tipo</th>\n",
              "      <th>Descripcion</th>\n",
              "      <th>Habitaciones</th>\n",
              "      <th>Baños</th>\n",
              "      <th>Área</th>\n",
              "      <th>Barrio</th>\n",
              "      <th>UPZ</th>\n",
              "      <th>Valor</th>\n",
              "    </tr>\n",
              "  </thead>\n",
              "  <tbody>\n",
              "    <tr>\n",
              "      <th>0</th>\n",
              "      <td>Apartamento</td>\n",
              "      <td>Apartamento en venta en Zona Noroccidental</td>\n",
              "      <td>3</td>\n",
              "      <td>2</td>\n",
              "      <td>70</td>\n",
              "      <td>Zona Noroccidental</td>\n",
              "      <td>CHAPINERO: Pardo Rubio + Chapinero</td>\n",
              "      <td>$ 360.000.000</td>\n",
              "    </tr>\n",
              "    <tr>\n",
              "      <th>1</th>\n",
              "      <td>Casa</td>\n",
              "      <td>Casa en venta en Castilla</td>\n",
              "      <td>4</td>\n",
              "      <td>3</td>\n",
              "      <td>170</td>\n",
              "      <td>Castilla</td>\n",
              "      <td>KENNEDY: Castilla + Bavaria</td>\n",
              "      <td>$ 670.000.000</td>\n",
              "    </tr>\n",
              "    <tr>\n",
              "      <th>2</th>\n",
              "      <td>Apartamento</td>\n",
              "      <td>Apartamento en venta en Chico Reservado</td>\n",
              "      <td>3</td>\n",
              "      <td>3</td>\n",
              "      <td>144</td>\n",
              "      <td>Chico Reservado</td>\n",
              "      <td>CHAPINERO: Chicó Lago + El Refugio</td>\n",
              "      <td>$ 1.120.000.000</td>\n",
              "    </tr>\n",
              "    <tr>\n",
              "      <th>3</th>\n",
              "      <td>Apartamento</td>\n",
              "      <td>Apartamento en venta en Usaquén</td>\n",
              "      <td>3</td>\n",
              "      <td>2</td>\n",
              "      <td>154</td>\n",
              "      <td>Usaquén</td>\n",
              "      <td>Usaquén</td>\n",
              "      <td>$ 890.000.000</td>\n",
              "    </tr>\n",
              "    <tr>\n",
              "      <th>4</th>\n",
              "      <td>Apartamento</td>\n",
              "      <td>Apartamento en venta en Bella Suiza</td>\n",
              "      <td>2</td>\n",
              "      <td>3</td>\n",
              "      <td>128</td>\n",
              "      <td>Bella Suiza</td>\n",
              "      <td>USAQUÉN: Country Club + Santa Bárbara</td>\n",
              "      <td>$ 970.000.000</td>\n",
              "    </tr>\n",
              "  </tbody>\n",
              "</table>\n",
              "</div>\n",
              "      <button class=\"colab-df-convert\" onclick=\"convertToInteractive('df-6dc036bd-9d6e-4e70-b632-1e8b8fbe96e8')\"\n",
              "              title=\"Convert this dataframe to an interactive table.\"\n",
              "              style=\"display:none;\">\n",
              "        \n",
              "  <svg xmlns=\"http://www.w3.org/2000/svg\" height=\"24px\"viewBox=\"0 0 24 24\"\n",
              "       width=\"24px\">\n",
              "    <path d=\"M0 0h24v24H0V0z\" fill=\"none\"/>\n",
              "    <path d=\"M18.56 5.44l.94 2.06.94-2.06 2.06-.94-2.06-.94-.94-2.06-.94 2.06-2.06.94zm-11 1L8.5 8.5l.94-2.06 2.06-.94-2.06-.94L8.5 2.5l-.94 2.06-2.06.94zm10 10l.94 2.06.94-2.06 2.06-.94-2.06-.94-.94-2.06-.94 2.06-2.06.94z\"/><path d=\"M17.41 7.96l-1.37-1.37c-.4-.4-.92-.59-1.43-.59-.52 0-1.04.2-1.43.59L10.3 9.45l-7.72 7.72c-.78.78-.78 2.05 0 2.83L4 21.41c.39.39.9.59 1.41.59.51 0 1.02-.2 1.41-.59l7.78-7.78 2.81-2.81c.8-.78.8-2.07 0-2.86zM5.41 20L4 18.59l7.72-7.72 1.47 1.35L5.41 20z\"/>\n",
              "  </svg>\n",
              "      </button>\n",
              "      \n",
              "  <style>\n",
              "    .colab-df-container {\n",
              "      display:flex;\n",
              "      flex-wrap:wrap;\n",
              "      gap: 12px;\n",
              "    }\n",
              "\n",
              "    .colab-df-convert {\n",
              "      background-color: #E8F0FE;\n",
              "      border: none;\n",
              "      border-radius: 50%;\n",
              "      cursor: pointer;\n",
              "      display: none;\n",
              "      fill: #1967D2;\n",
              "      height: 32px;\n",
              "      padding: 0 0 0 0;\n",
              "      width: 32px;\n",
              "    }\n",
              "\n",
              "    .colab-df-convert:hover {\n",
              "      background-color: #E2EBFA;\n",
              "      box-shadow: 0px 1px 2px rgba(60, 64, 67, 0.3), 0px 1px 3px 1px rgba(60, 64, 67, 0.15);\n",
              "      fill: #174EA6;\n",
              "    }\n",
              "\n",
              "    [theme=dark] .colab-df-convert {\n",
              "      background-color: #3B4455;\n",
              "      fill: #D2E3FC;\n",
              "    }\n",
              "\n",
              "    [theme=dark] .colab-df-convert:hover {\n",
              "      background-color: #434B5C;\n",
              "      box-shadow: 0px 1px 3px 1px rgba(0, 0, 0, 0.15);\n",
              "      filter: drop-shadow(0px 1px 2px rgba(0, 0, 0, 0.3));\n",
              "      fill: #FFFFFF;\n",
              "    }\n",
              "  </style>\n",
              "\n",
              "      <script>\n",
              "        const buttonEl =\n",
              "          document.querySelector('#df-6dc036bd-9d6e-4e70-b632-1e8b8fbe96e8 button.colab-df-convert');\n",
              "        buttonEl.style.display =\n",
              "          google.colab.kernel.accessAllowed ? 'block' : 'none';\n",
              "\n",
              "        async function convertToInteractive(key) {\n",
              "          const element = document.querySelector('#df-6dc036bd-9d6e-4e70-b632-1e8b8fbe96e8');\n",
              "          const dataTable =\n",
              "            await google.colab.kernel.invokeFunction('convertToInteractive',\n",
              "                                                     [key], {});\n",
              "          if (!dataTable) return;\n",
              "\n",
              "          const docLinkHtml = 'Like what you see? Visit the ' +\n",
              "            '<a target=\"_blank\" href=https://colab.research.google.com/notebooks/data_table.ipynb>data table notebook</a>'\n",
              "            + ' to learn more about interactive tables.';\n",
              "          element.innerHTML = '';\n",
              "          dataTable['output_type'] = 'display_data';\n",
              "          await google.colab.output.renderOutput(dataTable, element);\n",
              "          const docLink = document.createElement('div');\n",
              "          docLink.innerHTML = docLinkHtml;\n",
              "          element.appendChild(docLink);\n",
              "        }\n",
              "      </script>\n",
              "    </div>\n",
              "  </div>\n",
              "  "
            ]
          },
          "metadata": {},
          "execution_count": 63
        }
      ]
    },
    {
      "cell_type": "code",
      "source": [
        "inmuebles"
      ],
      "metadata": {
        "colab": {
          "base_uri": "https://localhost:8080/",
          "height": 424
        },
        "id": "qkcJjAQrmyfN",
        "outputId": "c5586bfb-ebf9-469d-b024-b7e65515c130"
      },
      "execution_count": 64,
      "outputs": [
        {
          "output_type": "execute_result",
          "data": {
            "text/plain": [
              "             Tipo                                     Descripcion  \\\n",
              "0     Apartamento      Apartamento en venta en Zona Noroccidental   \n",
              "1            Casa                       Casa en venta en Castilla   \n",
              "2     Apartamento         Apartamento en venta en Chico Reservado   \n",
              "3     Apartamento                 Apartamento en venta en Usaquén   \n",
              "4     Apartamento             Apartamento en venta en Bella Suiza   \n",
              "...           ...                                             ...   \n",
              "9515  Apartamento                 Apartamento en venta en Kennedy   \n",
              "9516  Apartamento  Apartamento en venta en Parque Central Bavaria   \n",
              "9517        Local                      Local en venta en Restrepo   \n",
              "9518         Casa                       Casa en venta en Engativa   \n",
              "9519  Apartamento                 Apartamento en venta en Tintala   \n",
              "\n",
              "      Habitaciones  Baños  Área                  Barrio  \\\n",
              "0                3      2    70      Zona Noroccidental   \n",
              "1                4      3   170                Castilla   \n",
              "2                3      3   144         Chico Reservado   \n",
              "3                3      2   154                 Usaquén   \n",
              "4                2      3   128             Bella Suiza   \n",
              "...            ...    ...   ...                     ...   \n",
              "9515             3      2    70                 Kennedy   \n",
              "9516             2      2   100  Parque Central Bavaria   \n",
              "9517             8      6   383                Restrepo   \n",
              "9518             3      2   183                Engativa   \n",
              "9519             3      1    52                 Tintala   \n",
              "\n",
              "                                         UPZ            Valor  \n",
              "0         CHAPINERO: Pardo Rubio + Chapinero    $ 360.000.000  \n",
              "1                KENNEDY: Castilla + Bavaria    $ 670.000.000  \n",
              "2         CHAPINERO: Chicó Lago + El Refugio  $ 1.120.000.000  \n",
              "3                                    Usaquén    $ 890.000.000  \n",
              "4      USAQUÉN: Country Club + Santa Bárbara    $ 970.000.000  \n",
              "...                                      ...              ...  \n",
              "9515                         Kennedy Central    $ 290.000.000  \n",
              "9516  SANTA FE: Las Nieves + Sagrado Corazón    $ 670.000.000  \n",
              "9517                                Restrepo    $ 900.000.000  \n",
              "9518                                Engativá    $ 335.000.000  \n",
              "9519                                 Tintala    $ 144.990.000  \n",
              "\n",
              "[9520 rows x 8 columns]"
            ],
            "text/html": [
              "\n",
              "  <div id=\"df-bb9c71eb-f07f-49a0-93ed-6327b00ec552\">\n",
              "    <div class=\"colab-df-container\">\n",
              "      <div>\n",
              "<style scoped>\n",
              "    .dataframe tbody tr th:only-of-type {\n",
              "        vertical-align: middle;\n",
              "    }\n",
              "\n",
              "    .dataframe tbody tr th {\n",
              "        vertical-align: top;\n",
              "    }\n",
              "\n",
              "    .dataframe thead th {\n",
              "        text-align: right;\n",
              "    }\n",
              "</style>\n",
              "<table border=\"1\" class=\"dataframe\">\n",
              "  <thead>\n",
              "    <tr style=\"text-align: right;\">\n",
              "      <th></th>\n",
              "      <th>Tipo</th>\n",
              "      <th>Descripcion</th>\n",
              "      <th>Habitaciones</th>\n",
              "      <th>Baños</th>\n",
              "      <th>Área</th>\n",
              "      <th>Barrio</th>\n",
              "      <th>UPZ</th>\n",
              "      <th>Valor</th>\n",
              "    </tr>\n",
              "  </thead>\n",
              "  <tbody>\n",
              "    <tr>\n",
              "      <th>0</th>\n",
              "      <td>Apartamento</td>\n",
              "      <td>Apartamento en venta en Zona Noroccidental</td>\n",
              "      <td>3</td>\n",
              "      <td>2</td>\n",
              "      <td>70</td>\n",
              "      <td>Zona Noroccidental</td>\n",
              "      <td>CHAPINERO: Pardo Rubio + Chapinero</td>\n",
              "      <td>$ 360.000.000</td>\n",
              "    </tr>\n",
              "    <tr>\n",
              "      <th>1</th>\n",
              "      <td>Casa</td>\n",
              "      <td>Casa en venta en Castilla</td>\n",
              "      <td>4</td>\n",
              "      <td>3</td>\n",
              "      <td>170</td>\n",
              "      <td>Castilla</td>\n",
              "      <td>KENNEDY: Castilla + Bavaria</td>\n",
              "      <td>$ 670.000.000</td>\n",
              "    </tr>\n",
              "    <tr>\n",
              "      <th>2</th>\n",
              "      <td>Apartamento</td>\n",
              "      <td>Apartamento en venta en Chico Reservado</td>\n",
              "      <td>3</td>\n",
              "      <td>3</td>\n",
              "      <td>144</td>\n",
              "      <td>Chico Reservado</td>\n",
              "      <td>CHAPINERO: Chicó Lago + El Refugio</td>\n",
              "      <td>$ 1.120.000.000</td>\n",
              "    </tr>\n",
              "    <tr>\n",
              "      <th>3</th>\n",
              "      <td>Apartamento</td>\n",
              "      <td>Apartamento en venta en Usaquén</td>\n",
              "      <td>3</td>\n",
              "      <td>2</td>\n",
              "      <td>154</td>\n",
              "      <td>Usaquén</td>\n",
              "      <td>Usaquén</td>\n",
              "      <td>$ 890.000.000</td>\n",
              "    </tr>\n",
              "    <tr>\n",
              "      <th>4</th>\n",
              "      <td>Apartamento</td>\n",
              "      <td>Apartamento en venta en Bella Suiza</td>\n",
              "      <td>2</td>\n",
              "      <td>3</td>\n",
              "      <td>128</td>\n",
              "      <td>Bella Suiza</td>\n",
              "      <td>USAQUÉN: Country Club + Santa Bárbara</td>\n",
              "      <td>$ 970.000.000</td>\n",
              "    </tr>\n",
              "    <tr>\n",
              "      <th>...</th>\n",
              "      <td>...</td>\n",
              "      <td>...</td>\n",
              "      <td>...</td>\n",
              "      <td>...</td>\n",
              "      <td>...</td>\n",
              "      <td>...</td>\n",
              "      <td>...</td>\n",
              "      <td>...</td>\n",
              "    </tr>\n",
              "    <tr>\n",
              "      <th>9515</th>\n",
              "      <td>Apartamento</td>\n",
              "      <td>Apartamento en venta en Kennedy</td>\n",
              "      <td>3</td>\n",
              "      <td>2</td>\n",
              "      <td>70</td>\n",
              "      <td>Kennedy</td>\n",
              "      <td>Kennedy Central</td>\n",
              "      <td>$ 290.000.000</td>\n",
              "    </tr>\n",
              "    <tr>\n",
              "      <th>9516</th>\n",
              "      <td>Apartamento</td>\n",
              "      <td>Apartamento en venta en Parque Central Bavaria</td>\n",
              "      <td>2</td>\n",
              "      <td>2</td>\n",
              "      <td>100</td>\n",
              "      <td>Parque Central Bavaria</td>\n",
              "      <td>SANTA FE: Las Nieves + Sagrado Corazón</td>\n",
              "      <td>$ 670.000.000</td>\n",
              "    </tr>\n",
              "    <tr>\n",
              "      <th>9517</th>\n",
              "      <td>Local</td>\n",
              "      <td>Local en venta en Restrepo</td>\n",
              "      <td>8</td>\n",
              "      <td>6</td>\n",
              "      <td>383</td>\n",
              "      <td>Restrepo</td>\n",
              "      <td>Restrepo</td>\n",
              "      <td>$ 900.000.000</td>\n",
              "    </tr>\n",
              "    <tr>\n",
              "      <th>9518</th>\n",
              "      <td>Casa</td>\n",
              "      <td>Casa en venta en Engativa</td>\n",
              "      <td>3</td>\n",
              "      <td>2</td>\n",
              "      <td>183</td>\n",
              "      <td>Engativa</td>\n",
              "      <td>Engativá</td>\n",
              "      <td>$ 335.000.000</td>\n",
              "    </tr>\n",
              "    <tr>\n",
              "      <th>9519</th>\n",
              "      <td>Apartamento</td>\n",
              "      <td>Apartamento en venta en Tintala</td>\n",
              "      <td>3</td>\n",
              "      <td>1</td>\n",
              "      <td>52</td>\n",
              "      <td>Tintala</td>\n",
              "      <td>Tintala</td>\n",
              "      <td>$ 144.990.000</td>\n",
              "    </tr>\n",
              "  </tbody>\n",
              "</table>\n",
              "<p>9520 rows × 8 columns</p>\n",
              "</div>\n",
              "      <button class=\"colab-df-convert\" onclick=\"convertToInteractive('df-bb9c71eb-f07f-49a0-93ed-6327b00ec552')\"\n",
              "              title=\"Convert this dataframe to an interactive table.\"\n",
              "              style=\"display:none;\">\n",
              "        \n",
              "  <svg xmlns=\"http://www.w3.org/2000/svg\" height=\"24px\"viewBox=\"0 0 24 24\"\n",
              "       width=\"24px\">\n",
              "    <path d=\"M0 0h24v24H0V0z\" fill=\"none\"/>\n",
              "    <path d=\"M18.56 5.44l.94 2.06.94-2.06 2.06-.94-2.06-.94-.94-2.06-.94 2.06-2.06.94zm-11 1L8.5 8.5l.94-2.06 2.06-.94-2.06-.94L8.5 2.5l-.94 2.06-2.06.94zm10 10l.94 2.06.94-2.06 2.06-.94-2.06-.94-.94-2.06-.94 2.06-2.06.94z\"/><path d=\"M17.41 7.96l-1.37-1.37c-.4-.4-.92-.59-1.43-.59-.52 0-1.04.2-1.43.59L10.3 9.45l-7.72 7.72c-.78.78-.78 2.05 0 2.83L4 21.41c.39.39.9.59 1.41.59.51 0 1.02-.2 1.41-.59l7.78-7.78 2.81-2.81c.8-.78.8-2.07 0-2.86zM5.41 20L4 18.59l7.72-7.72 1.47 1.35L5.41 20z\"/>\n",
              "  </svg>\n",
              "      </button>\n",
              "      \n",
              "  <style>\n",
              "    .colab-df-container {\n",
              "      display:flex;\n",
              "      flex-wrap:wrap;\n",
              "      gap: 12px;\n",
              "    }\n",
              "\n",
              "    .colab-df-convert {\n",
              "      background-color: #E8F0FE;\n",
              "      border: none;\n",
              "      border-radius: 50%;\n",
              "      cursor: pointer;\n",
              "      display: none;\n",
              "      fill: #1967D2;\n",
              "      height: 32px;\n",
              "      padding: 0 0 0 0;\n",
              "      width: 32px;\n",
              "    }\n",
              "\n",
              "    .colab-df-convert:hover {\n",
              "      background-color: #E2EBFA;\n",
              "      box-shadow: 0px 1px 2px rgba(60, 64, 67, 0.3), 0px 1px 3px 1px rgba(60, 64, 67, 0.15);\n",
              "      fill: #174EA6;\n",
              "    }\n",
              "\n",
              "    [theme=dark] .colab-df-convert {\n",
              "      background-color: #3B4455;\n",
              "      fill: #D2E3FC;\n",
              "    }\n",
              "\n",
              "    [theme=dark] .colab-df-convert:hover {\n",
              "      background-color: #434B5C;\n",
              "      box-shadow: 0px 1px 3px 1px rgba(0, 0, 0, 0.15);\n",
              "      filter: drop-shadow(0px 1px 2px rgba(0, 0, 0, 0.3));\n",
              "      fill: #FFFFFF;\n",
              "    }\n",
              "  </style>\n",
              "\n",
              "      <script>\n",
              "        const buttonEl =\n",
              "          document.querySelector('#df-bb9c71eb-f07f-49a0-93ed-6327b00ec552 button.colab-df-convert');\n",
              "        buttonEl.style.display =\n",
              "          google.colab.kernel.accessAllowed ? 'block' : 'none';\n",
              "\n",
              "        async function convertToInteractive(key) {\n",
              "          const element = document.querySelector('#df-bb9c71eb-f07f-49a0-93ed-6327b00ec552');\n",
              "          const dataTable =\n",
              "            await google.colab.kernel.invokeFunction('convertToInteractive',\n",
              "                                                     [key], {});\n",
              "          if (!dataTable) return;\n",
              "\n",
              "          const docLinkHtml = 'Like what you see? Visit the ' +\n",
              "            '<a target=\"_blank\" href=https://colab.research.google.com/notebooks/data_table.ipynb>data table notebook</a>'\n",
              "            + ' to learn more about interactive tables.';\n",
              "          element.innerHTML = '';\n",
              "          dataTable['output_type'] = 'display_data';\n",
              "          await google.colab.output.renderOutput(dataTable, element);\n",
              "          const docLink = document.createElement('div');\n",
              "          docLink.innerHTML = docLinkHtml;\n",
              "          element.appendChild(docLink);\n",
              "        }\n",
              "      </script>\n",
              "    </div>\n",
              "  </div>\n",
              "  "
            ]
          },
          "metadata": {},
          "execution_count": 64
        }
      ]
    },
    {
      "cell_type": "code",
      "source": [
        "inmuebles.columns"
      ],
      "metadata": {
        "colab": {
          "base_uri": "https://localhost:8080/"
        },
        "id": "K-4LMluEnha_",
        "outputId": "010eaa4e-d1b7-427a-be22-fb6ed313cc6a"
      },
      "execution_count": 65,
      "outputs": [
        {
          "output_type": "execute_result",
          "data": {
            "text/plain": [
              "Index(['Tipo', 'Descripcion', 'Habitaciones', 'Baños', 'Área', 'Barrio', 'UPZ',\n",
              "       'Valor'],\n",
              "      dtype='object')"
            ]
          },
          "metadata": {},
          "execution_count": 65
        }
      ]
    },
    {
      "cell_type": "code",
      "source": [
        "columnas = {'Baños':'Banos','Área':'Area'}\n",
        "inmuebles = inmuebles.rename(columns=columnas)\n",
        "inmuebles.sample(20)"
      ],
      "metadata": {
        "colab": {
          "base_uri": "https://localhost:8080/",
          "height": 677
        },
        "id": "X2nLnlFIn2EM",
        "outputId": "4c53414d-a96c-466c-bea5-6d74e54b87a7"
      },
      "execution_count": 66,
      "outputs": [
        {
          "output_type": "execute_result",
          "data": {
            "text/plain": [
              "             Tipo                                 Descripcion  Habitaciones  \\\n",
              "7559         Casa                    Casa en venta en Kennedy             8   \n",
              "4130  Apartamento             Apartamento en venta en Kennedy             3   \n",
              "4248         Casa              Casa en venta en Santa Librada             5   \n",
              "4474  Apartamento      Apartamento en venta en Barrios Unidos             3   \n",
              "1534  Apartamento  Apartamento en venta en Zona Noroccidental             2   \n",
              "5617  Apartamento             Apartamento en venta en Usaquén             3   \n",
              "8500  Apartamento           Apartamento en venta en Chapinero             2   \n",
              "3382  Apartamento      Apartamento en venta en Ciudad Bolívar             2   \n",
              "7594  Apartamento                Apartamento en venta en Suba             3   \n",
              "5049     Edificio               Edificio en venta en Restrepo            13   \n",
              "494   Apartamento            Apartamento en venta en Cedritos             1   \n",
              "3644  Apartamento                Apartamento en venta en Usme             2   \n",
              "1546         Casa                       Casa en venta en Suba             4   \n",
              "4176  Apartamento                Apartamento en venta en Bosa             3   \n",
              "8896  Apartamento      Apartamento en venta en Ciudad Salitre             3   \n",
              "8210  Apartamento         Apartamento en venta en Teusaquillo             4   \n",
              "1704  Apartamento            Apartamento en venta en Cedritos             3   \n",
              "3817  Apartamento             Apartamento en venta en Mazuren             3   \n",
              "1282  Apartamento             Apartamento en venta en Usaquén             2   \n",
              "467   Apartamento            Apartamento en venta en Cedritos             3   \n",
              "\n",
              "      Banos  Area              Barrio  \\\n",
              "7559      8   320             Kennedy   \n",
              "4130      1    51             Kennedy   \n",
              "4248      4   316       Santa Librada   \n",
              "4474      3    80      Barrios Unidos   \n",
              "1534      1    41  Zona Noroccidental   \n",
              "5617      2    61             Usaquén   \n",
              "8500      3   103           Chapinero   \n",
              "3382      1    38      Ciudad Bolívar   \n",
              "7594      2    78                Suba   \n",
              "5049      6   600            Restrepo   \n",
              "494       2    42            Cedritos   \n",
              "3644      1    44                Usme   \n",
              "1546      6   425                Suba   \n",
              "4176      1    54                Bosa   \n",
              "8896      2    80      Ciudad Salitre   \n",
              "8210      2   130         Teusaquillo   \n",
              "1704      2    78            Cedritos   \n",
              "3817      2   120             Mazuren   \n",
              "1282      1    88             Usaquén   \n",
              "467       2    60            Cedritos   \n",
              "\n",
              "                                                    UPZ            Valor  \n",
              "7559                                    Kennedy Central  $ 1.400.000.000  \n",
              "4130                                    Kennedy Central    $ 169.000.000  \n",
              "4248                               Localidad Usme resto    $ 820.000.000  \n",
              "4474                                          Los Andes    $ 389.649.984  \n",
              "1534                 CHAPINERO: Pardo Rubio + Chapinero    $ 200.000.000  \n",
              "5617                                            Usaquén    $ 270.000.000  \n",
              "8500                 CHAPINERO: Pardo Rubio + Chapinero  $ 1.573.191.375  \n",
              "3382  CIUDAD BOLÍVAR: Monteblanco + El Tesoro + El M...    $ 165.000.000  \n",
              "7594                                               Suba    $ 320.000.000  \n",
              "5049                                           Restrepo  $ 1.300.000.000  \n",
              "494                                             Usaquén    $ 307.000.000  \n",
              "3644                  USME: Alfonso López + Ciudad Usme     $ 82.170.000  \n",
              "1546                                               Suba  $ 3.300.000.000  \n",
              "4176                                       Bosa Central    $ 158.000.000  \n",
              "8896                            Ciudad Salitre Oriental    $ 502.000.000  \n",
              "8210                                        Teusaquillo  $ 1.120.000.000  \n",
              "1704                                            Usaquén    $ 300.000.000  \n",
              "3817                                           El Prado    $ 390.000.000  \n",
              "1282                                            Usaquén    $ 408.000.000  \n",
              "467                                             Usaquén    $ 123.000.000  "
            ],
            "text/html": [
              "\n",
              "  <div id=\"df-c6d9b013-1d15-4ae5-be9c-19aa563f8065\">\n",
              "    <div class=\"colab-df-container\">\n",
              "      <div>\n",
              "<style scoped>\n",
              "    .dataframe tbody tr th:only-of-type {\n",
              "        vertical-align: middle;\n",
              "    }\n",
              "\n",
              "    .dataframe tbody tr th {\n",
              "        vertical-align: top;\n",
              "    }\n",
              "\n",
              "    .dataframe thead th {\n",
              "        text-align: right;\n",
              "    }\n",
              "</style>\n",
              "<table border=\"1\" class=\"dataframe\">\n",
              "  <thead>\n",
              "    <tr style=\"text-align: right;\">\n",
              "      <th></th>\n",
              "      <th>Tipo</th>\n",
              "      <th>Descripcion</th>\n",
              "      <th>Habitaciones</th>\n",
              "      <th>Banos</th>\n",
              "      <th>Area</th>\n",
              "      <th>Barrio</th>\n",
              "      <th>UPZ</th>\n",
              "      <th>Valor</th>\n",
              "    </tr>\n",
              "  </thead>\n",
              "  <tbody>\n",
              "    <tr>\n",
              "      <th>7559</th>\n",
              "      <td>Casa</td>\n",
              "      <td>Casa en venta en Kennedy</td>\n",
              "      <td>8</td>\n",
              "      <td>8</td>\n",
              "      <td>320</td>\n",
              "      <td>Kennedy</td>\n",
              "      <td>Kennedy Central</td>\n",
              "      <td>$ 1.400.000.000</td>\n",
              "    </tr>\n",
              "    <tr>\n",
              "      <th>4130</th>\n",
              "      <td>Apartamento</td>\n",
              "      <td>Apartamento en venta en Kennedy</td>\n",
              "      <td>3</td>\n",
              "      <td>1</td>\n",
              "      <td>51</td>\n",
              "      <td>Kennedy</td>\n",
              "      <td>Kennedy Central</td>\n",
              "      <td>$ 169.000.000</td>\n",
              "    </tr>\n",
              "    <tr>\n",
              "      <th>4248</th>\n",
              "      <td>Casa</td>\n",
              "      <td>Casa en venta en Santa Librada</td>\n",
              "      <td>5</td>\n",
              "      <td>4</td>\n",
              "      <td>316</td>\n",
              "      <td>Santa Librada</td>\n",
              "      <td>Localidad Usme resto</td>\n",
              "      <td>$ 820.000.000</td>\n",
              "    </tr>\n",
              "    <tr>\n",
              "      <th>4474</th>\n",
              "      <td>Apartamento</td>\n",
              "      <td>Apartamento en venta en Barrios Unidos</td>\n",
              "      <td>3</td>\n",
              "      <td>3</td>\n",
              "      <td>80</td>\n",
              "      <td>Barrios Unidos</td>\n",
              "      <td>Los Andes</td>\n",
              "      <td>$ 389.649.984</td>\n",
              "    </tr>\n",
              "    <tr>\n",
              "      <th>1534</th>\n",
              "      <td>Apartamento</td>\n",
              "      <td>Apartamento en venta en Zona Noroccidental</td>\n",
              "      <td>2</td>\n",
              "      <td>1</td>\n",
              "      <td>41</td>\n",
              "      <td>Zona Noroccidental</td>\n",
              "      <td>CHAPINERO: Pardo Rubio + Chapinero</td>\n",
              "      <td>$ 200.000.000</td>\n",
              "    </tr>\n",
              "    <tr>\n",
              "      <th>5617</th>\n",
              "      <td>Apartamento</td>\n",
              "      <td>Apartamento en venta en Usaquén</td>\n",
              "      <td>3</td>\n",
              "      <td>2</td>\n",
              "      <td>61</td>\n",
              "      <td>Usaquén</td>\n",
              "      <td>Usaquén</td>\n",
              "      <td>$ 270.000.000</td>\n",
              "    </tr>\n",
              "    <tr>\n",
              "      <th>8500</th>\n",
              "      <td>Apartamento</td>\n",
              "      <td>Apartamento en venta en Chapinero</td>\n",
              "      <td>2</td>\n",
              "      <td>3</td>\n",
              "      <td>103</td>\n",
              "      <td>Chapinero</td>\n",
              "      <td>CHAPINERO: Pardo Rubio + Chapinero</td>\n",
              "      <td>$ 1.573.191.375</td>\n",
              "    </tr>\n",
              "    <tr>\n",
              "      <th>3382</th>\n",
              "      <td>Apartamento</td>\n",
              "      <td>Apartamento en venta en Ciudad Bolívar</td>\n",
              "      <td>2</td>\n",
              "      <td>1</td>\n",
              "      <td>38</td>\n",
              "      <td>Ciudad Bolívar</td>\n",
              "      <td>CIUDAD BOLÍVAR: Monteblanco + El Tesoro + El M...</td>\n",
              "      <td>$ 165.000.000</td>\n",
              "    </tr>\n",
              "    <tr>\n",
              "      <th>7594</th>\n",
              "      <td>Apartamento</td>\n",
              "      <td>Apartamento en venta en Suba</td>\n",
              "      <td>3</td>\n",
              "      <td>2</td>\n",
              "      <td>78</td>\n",
              "      <td>Suba</td>\n",
              "      <td>Suba</td>\n",
              "      <td>$ 320.000.000</td>\n",
              "    </tr>\n",
              "    <tr>\n",
              "      <th>5049</th>\n",
              "      <td>Edificio</td>\n",
              "      <td>Edificio en venta en Restrepo</td>\n",
              "      <td>13</td>\n",
              "      <td>6</td>\n",
              "      <td>600</td>\n",
              "      <td>Restrepo</td>\n",
              "      <td>Restrepo</td>\n",
              "      <td>$ 1.300.000.000</td>\n",
              "    </tr>\n",
              "    <tr>\n",
              "      <th>494</th>\n",
              "      <td>Apartamento</td>\n",
              "      <td>Apartamento en venta en Cedritos</td>\n",
              "      <td>1</td>\n",
              "      <td>2</td>\n",
              "      <td>42</td>\n",
              "      <td>Cedritos</td>\n",
              "      <td>Usaquén</td>\n",
              "      <td>$ 307.000.000</td>\n",
              "    </tr>\n",
              "    <tr>\n",
              "      <th>3644</th>\n",
              "      <td>Apartamento</td>\n",
              "      <td>Apartamento en venta en Usme</td>\n",
              "      <td>2</td>\n",
              "      <td>1</td>\n",
              "      <td>44</td>\n",
              "      <td>Usme</td>\n",
              "      <td>USME: Alfonso López + Ciudad Usme</td>\n",
              "      <td>$ 82.170.000</td>\n",
              "    </tr>\n",
              "    <tr>\n",
              "      <th>1546</th>\n",
              "      <td>Casa</td>\n",
              "      <td>Casa en venta en Suba</td>\n",
              "      <td>4</td>\n",
              "      <td>6</td>\n",
              "      <td>425</td>\n",
              "      <td>Suba</td>\n",
              "      <td>Suba</td>\n",
              "      <td>$ 3.300.000.000</td>\n",
              "    </tr>\n",
              "    <tr>\n",
              "      <th>4176</th>\n",
              "      <td>Apartamento</td>\n",
              "      <td>Apartamento en venta en Bosa</td>\n",
              "      <td>3</td>\n",
              "      <td>1</td>\n",
              "      <td>54</td>\n",
              "      <td>Bosa</td>\n",
              "      <td>Bosa Central</td>\n",
              "      <td>$ 158.000.000</td>\n",
              "    </tr>\n",
              "    <tr>\n",
              "      <th>8896</th>\n",
              "      <td>Apartamento</td>\n",
              "      <td>Apartamento en venta en Ciudad Salitre</td>\n",
              "      <td>3</td>\n",
              "      <td>2</td>\n",
              "      <td>80</td>\n",
              "      <td>Ciudad Salitre</td>\n",
              "      <td>Ciudad Salitre Oriental</td>\n",
              "      <td>$ 502.000.000</td>\n",
              "    </tr>\n",
              "    <tr>\n",
              "      <th>8210</th>\n",
              "      <td>Apartamento</td>\n",
              "      <td>Apartamento en venta en Teusaquillo</td>\n",
              "      <td>4</td>\n",
              "      <td>2</td>\n",
              "      <td>130</td>\n",
              "      <td>Teusaquillo</td>\n",
              "      <td>Teusaquillo</td>\n",
              "      <td>$ 1.120.000.000</td>\n",
              "    </tr>\n",
              "    <tr>\n",
              "      <th>1704</th>\n",
              "      <td>Apartamento</td>\n",
              "      <td>Apartamento en venta en Cedritos</td>\n",
              "      <td>3</td>\n",
              "      <td>2</td>\n",
              "      <td>78</td>\n",
              "      <td>Cedritos</td>\n",
              "      <td>Usaquén</td>\n",
              "      <td>$ 300.000.000</td>\n",
              "    </tr>\n",
              "    <tr>\n",
              "      <th>3817</th>\n",
              "      <td>Apartamento</td>\n",
              "      <td>Apartamento en venta en Mazuren</td>\n",
              "      <td>3</td>\n",
              "      <td>2</td>\n",
              "      <td>120</td>\n",
              "      <td>Mazuren</td>\n",
              "      <td>El Prado</td>\n",
              "      <td>$ 390.000.000</td>\n",
              "    </tr>\n",
              "    <tr>\n",
              "      <th>1282</th>\n",
              "      <td>Apartamento</td>\n",
              "      <td>Apartamento en venta en Usaquén</td>\n",
              "      <td>2</td>\n",
              "      <td>1</td>\n",
              "      <td>88</td>\n",
              "      <td>Usaquén</td>\n",
              "      <td>Usaquén</td>\n",
              "      <td>$ 408.000.000</td>\n",
              "    </tr>\n",
              "    <tr>\n",
              "      <th>467</th>\n",
              "      <td>Apartamento</td>\n",
              "      <td>Apartamento en venta en Cedritos</td>\n",
              "      <td>3</td>\n",
              "      <td>2</td>\n",
              "      <td>60</td>\n",
              "      <td>Cedritos</td>\n",
              "      <td>Usaquén</td>\n",
              "      <td>$ 123.000.000</td>\n",
              "    </tr>\n",
              "  </tbody>\n",
              "</table>\n",
              "</div>\n",
              "      <button class=\"colab-df-convert\" onclick=\"convertToInteractive('df-c6d9b013-1d15-4ae5-be9c-19aa563f8065')\"\n",
              "              title=\"Convert this dataframe to an interactive table.\"\n",
              "              style=\"display:none;\">\n",
              "        \n",
              "  <svg xmlns=\"http://www.w3.org/2000/svg\" height=\"24px\"viewBox=\"0 0 24 24\"\n",
              "       width=\"24px\">\n",
              "    <path d=\"M0 0h24v24H0V0z\" fill=\"none\"/>\n",
              "    <path d=\"M18.56 5.44l.94 2.06.94-2.06 2.06-.94-2.06-.94-.94-2.06-.94 2.06-2.06.94zm-11 1L8.5 8.5l.94-2.06 2.06-.94-2.06-.94L8.5 2.5l-.94 2.06-2.06.94zm10 10l.94 2.06.94-2.06 2.06-.94-2.06-.94-.94-2.06-.94 2.06-2.06.94z\"/><path d=\"M17.41 7.96l-1.37-1.37c-.4-.4-.92-.59-1.43-.59-.52 0-1.04.2-1.43.59L10.3 9.45l-7.72 7.72c-.78.78-.78 2.05 0 2.83L4 21.41c.39.39.9.59 1.41.59.51 0 1.02-.2 1.41-.59l7.78-7.78 2.81-2.81c.8-.78.8-2.07 0-2.86zM5.41 20L4 18.59l7.72-7.72 1.47 1.35L5.41 20z\"/>\n",
              "  </svg>\n",
              "      </button>\n",
              "      \n",
              "  <style>\n",
              "    .colab-df-container {\n",
              "      display:flex;\n",
              "      flex-wrap:wrap;\n",
              "      gap: 12px;\n",
              "    }\n",
              "\n",
              "    .colab-df-convert {\n",
              "      background-color: #E8F0FE;\n",
              "      border: none;\n",
              "      border-radius: 50%;\n",
              "      cursor: pointer;\n",
              "      display: none;\n",
              "      fill: #1967D2;\n",
              "      height: 32px;\n",
              "      padding: 0 0 0 0;\n",
              "      width: 32px;\n",
              "    }\n",
              "\n",
              "    .colab-df-convert:hover {\n",
              "      background-color: #E2EBFA;\n",
              "      box-shadow: 0px 1px 2px rgba(60, 64, 67, 0.3), 0px 1px 3px 1px rgba(60, 64, 67, 0.15);\n",
              "      fill: #174EA6;\n",
              "    }\n",
              "\n",
              "    [theme=dark] .colab-df-convert {\n",
              "      background-color: #3B4455;\n",
              "      fill: #D2E3FC;\n",
              "    }\n",
              "\n",
              "    [theme=dark] .colab-df-convert:hover {\n",
              "      background-color: #434B5C;\n",
              "      box-shadow: 0px 1px 3px 1px rgba(0, 0, 0, 0.15);\n",
              "      filter: drop-shadow(0px 1px 2px rgba(0, 0, 0, 0.3));\n",
              "      fill: #FFFFFF;\n",
              "    }\n",
              "  </style>\n",
              "\n",
              "      <script>\n",
              "        const buttonEl =\n",
              "          document.querySelector('#df-c6d9b013-1d15-4ae5-be9c-19aa563f8065 button.colab-df-convert');\n",
              "        buttonEl.style.display =\n",
              "          google.colab.kernel.accessAllowed ? 'block' : 'none';\n",
              "\n",
              "        async function convertToInteractive(key) {\n",
              "          const element = document.querySelector('#df-c6d9b013-1d15-4ae5-be9c-19aa563f8065');\n",
              "          const dataTable =\n",
              "            await google.colab.kernel.invokeFunction('convertToInteractive',\n",
              "                                                     [key], {});\n",
              "          if (!dataTable) return;\n",
              "\n",
              "          const docLinkHtml = 'Like what you see? Visit the ' +\n",
              "            '<a target=\"_blank\" href=https://colab.research.google.com/notebooks/data_table.ipynb>data table notebook</a>'\n",
              "            + ' to learn more about interactive tables.';\n",
              "          element.innerHTML = '';\n",
              "          dataTable['output_type'] = 'display_data';\n",
              "          await google.colab.output.renderOutput(dataTable, element);\n",
              "          const docLink = document.createElement('div');\n",
              "          docLink.innerHTML = docLinkHtml;\n",
              "          element.appendChild(docLink);\n",
              "        }\n",
              "      </script>\n",
              "    </div>\n",
              "  </div>\n",
              "  "
            ]
          },
          "metadata": {},
          "execution_count": 66
        }
      ]
    },
    {
      "cell_type": "code",
      "source": [
        "inmuebles.info()"
      ],
      "metadata": {
        "colab": {
          "base_uri": "https://localhost:8080/"
        },
        "id": "KJT8oyJgo2hU",
        "outputId": "92a215fb-92ac-43d4-c310-2a8f32928ac6"
      },
      "execution_count": 67,
      "outputs": [
        {
          "output_type": "stream",
          "name": "stdout",
          "text": [
            "<class 'pandas.core.frame.DataFrame'>\n",
            "RangeIndex: 9520 entries, 0 to 9519\n",
            "Data columns (total 8 columns):\n",
            " #   Column        Non-Null Count  Dtype \n",
            "---  ------        --------------  ----- \n",
            " 0   Tipo          9520 non-null   object\n",
            " 1   Descripcion   9520 non-null   object\n",
            " 2   Habitaciones  9520 non-null   int64 \n",
            " 3   Banos         9520 non-null   int64 \n",
            " 4   Area          9520 non-null   int64 \n",
            " 5   Barrio        9520 non-null   object\n",
            " 6   UPZ           9478 non-null   object\n",
            " 7   Valor         9520 non-null   object\n",
            "dtypes: int64(3), object(5)\n",
            "memory usage: 595.1+ KB\n"
          ]
        }
      ]
    },
    {
      "cell_type": "code",
      "source": [
        "inmuebles.iloc[0]"
      ],
      "metadata": {
        "colab": {
          "base_uri": "https://localhost:8080/"
        },
        "id": "eyrj-ItzplxW",
        "outputId": "6169ade6-fa79-4ca2-fd14-9f037cb7e638"
      },
      "execution_count": 68,
      "outputs": [
        {
          "output_type": "execute_result",
          "data": {
            "text/plain": [
              "Tipo                                           Apartamento\n",
              "Descripcion     Apartamento en venta en Zona Noroccidental\n",
              "Habitaciones                                             3\n",
              "Banos                                                    2\n",
              "Area                                                    70\n",
              "Barrio                                  Zona Noroccidental\n",
              "UPZ                     CHAPINERO: Pardo Rubio + Chapinero\n",
              "Valor                                        $ 360.000.000\n",
              "Name: 0, dtype: object"
            ]
          },
          "metadata": {},
          "execution_count": 68
        }
      ]
    },
    {
      "cell_type": "code",
      "source": [
        "inmuebles.iloc[300:305]"
      ],
      "metadata": {
        "colab": {
          "base_uri": "https://localhost:8080/",
          "height": 206
        },
        "id": "NiK43WPcr0GG",
        "outputId": "8b490e1e-09bd-40e6-9b3d-fe0f16d25c6d"
      },
      "execution_count": 69,
      "outputs": [
        {
          "output_type": "execute_result",
          "data": {
            "text/plain": [
              "            Tipo                          Descripcion  Habitaciones  Banos  \\\n",
              "300  Apartamento      Apartamento en venta en Kennedy             2      1   \n",
              "301  Apartamento  Apartamento en venta en Chico Norte             2      2   \n",
              "302  Apartamento      Apartamento en venta en Kennedy             3      2   \n",
              "303  Apartamento      Apartamento en venta en Kennedy             3      2   \n",
              "304  Apartamento     Apartamento en venta en Cedritos             4      4   \n",
              "\n",
              "     Area       Barrio                                 UPZ          Valor  \n",
              "300    42      Kennedy                     Kennedy Central  $ 116.100.000  \n",
              "301    95  Chico Norte  CHAPINERO: Chicó Lago + El Refugio  $ 980.000.000  \n",
              "302    54      Kennedy                     Kennedy Central  $ 237.000.000  \n",
              "303    67      Kennedy                     Kennedy Central  $ 320.000.000  \n",
              "304   132     Cedritos                             Usaquén  $ 530.000.000  "
            ],
            "text/html": [
              "\n",
              "  <div id=\"df-b811ccc8-a731-44b5-b7ba-964a5986ea0a\">\n",
              "    <div class=\"colab-df-container\">\n",
              "      <div>\n",
              "<style scoped>\n",
              "    .dataframe tbody tr th:only-of-type {\n",
              "        vertical-align: middle;\n",
              "    }\n",
              "\n",
              "    .dataframe tbody tr th {\n",
              "        vertical-align: top;\n",
              "    }\n",
              "\n",
              "    .dataframe thead th {\n",
              "        text-align: right;\n",
              "    }\n",
              "</style>\n",
              "<table border=\"1\" class=\"dataframe\">\n",
              "  <thead>\n",
              "    <tr style=\"text-align: right;\">\n",
              "      <th></th>\n",
              "      <th>Tipo</th>\n",
              "      <th>Descripcion</th>\n",
              "      <th>Habitaciones</th>\n",
              "      <th>Banos</th>\n",
              "      <th>Area</th>\n",
              "      <th>Barrio</th>\n",
              "      <th>UPZ</th>\n",
              "      <th>Valor</th>\n",
              "    </tr>\n",
              "  </thead>\n",
              "  <tbody>\n",
              "    <tr>\n",
              "      <th>300</th>\n",
              "      <td>Apartamento</td>\n",
              "      <td>Apartamento en venta en Kennedy</td>\n",
              "      <td>2</td>\n",
              "      <td>1</td>\n",
              "      <td>42</td>\n",
              "      <td>Kennedy</td>\n",
              "      <td>Kennedy Central</td>\n",
              "      <td>$ 116.100.000</td>\n",
              "    </tr>\n",
              "    <tr>\n",
              "      <th>301</th>\n",
              "      <td>Apartamento</td>\n",
              "      <td>Apartamento en venta en Chico Norte</td>\n",
              "      <td>2</td>\n",
              "      <td>2</td>\n",
              "      <td>95</td>\n",
              "      <td>Chico Norte</td>\n",
              "      <td>CHAPINERO: Chicó Lago + El Refugio</td>\n",
              "      <td>$ 980.000.000</td>\n",
              "    </tr>\n",
              "    <tr>\n",
              "      <th>302</th>\n",
              "      <td>Apartamento</td>\n",
              "      <td>Apartamento en venta en Kennedy</td>\n",
              "      <td>3</td>\n",
              "      <td>2</td>\n",
              "      <td>54</td>\n",
              "      <td>Kennedy</td>\n",
              "      <td>Kennedy Central</td>\n",
              "      <td>$ 237.000.000</td>\n",
              "    </tr>\n",
              "    <tr>\n",
              "      <th>303</th>\n",
              "      <td>Apartamento</td>\n",
              "      <td>Apartamento en venta en Kennedy</td>\n",
              "      <td>3</td>\n",
              "      <td>2</td>\n",
              "      <td>67</td>\n",
              "      <td>Kennedy</td>\n",
              "      <td>Kennedy Central</td>\n",
              "      <td>$ 320.000.000</td>\n",
              "    </tr>\n",
              "    <tr>\n",
              "      <th>304</th>\n",
              "      <td>Apartamento</td>\n",
              "      <td>Apartamento en venta en Cedritos</td>\n",
              "      <td>4</td>\n",
              "      <td>4</td>\n",
              "      <td>132</td>\n",
              "      <td>Cedritos</td>\n",
              "      <td>Usaquén</td>\n",
              "      <td>$ 530.000.000</td>\n",
              "    </tr>\n",
              "  </tbody>\n",
              "</table>\n",
              "</div>\n",
              "      <button class=\"colab-df-convert\" onclick=\"convertToInteractive('df-b811ccc8-a731-44b5-b7ba-964a5986ea0a')\"\n",
              "              title=\"Convert this dataframe to an interactive table.\"\n",
              "              style=\"display:none;\">\n",
              "        \n",
              "  <svg xmlns=\"http://www.w3.org/2000/svg\" height=\"24px\"viewBox=\"0 0 24 24\"\n",
              "       width=\"24px\">\n",
              "    <path d=\"M0 0h24v24H0V0z\" fill=\"none\"/>\n",
              "    <path d=\"M18.56 5.44l.94 2.06.94-2.06 2.06-.94-2.06-.94-.94-2.06-.94 2.06-2.06.94zm-11 1L8.5 8.5l.94-2.06 2.06-.94-2.06-.94L8.5 2.5l-.94 2.06-2.06.94zm10 10l.94 2.06.94-2.06 2.06-.94-2.06-.94-.94-2.06-.94 2.06-2.06.94z\"/><path d=\"M17.41 7.96l-1.37-1.37c-.4-.4-.92-.59-1.43-.59-.52 0-1.04.2-1.43.59L10.3 9.45l-7.72 7.72c-.78.78-.78 2.05 0 2.83L4 21.41c.39.39.9.59 1.41.59.51 0 1.02-.2 1.41-.59l7.78-7.78 2.81-2.81c.8-.78.8-2.07 0-2.86zM5.41 20L4 18.59l7.72-7.72 1.47 1.35L5.41 20z\"/>\n",
              "  </svg>\n",
              "      </button>\n",
              "      \n",
              "  <style>\n",
              "    .colab-df-container {\n",
              "      display:flex;\n",
              "      flex-wrap:wrap;\n",
              "      gap: 12px;\n",
              "    }\n",
              "\n",
              "    .colab-df-convert {\n",
              "      background-color: #E8F0FE;\n",
              "      border: none;\n",
              "      border-radius: 50%;\n",
              "      cursor: pointer;\n",
              "      display: none;\n",
              "      fill: #1967D2;\n",
              "      height: 32px;\n",
              "      padding: 0 0 0 0;\n",
              "      width: 32px;\n",
              "    }\n",
              "\n",
              "    .colab-df-convert:hover {\n",
              "      background-color: #E2EBFA;\n",
              "      box-shadow: 0px 1px 2px rgba(60, 64, 67, 0.3), 0px 1px 3px 1px rgba(60, 64, 67, 0.15);\n",
              "      fill: #174EA6;\n",
              "    }\n",
              "\n",
              "    [theme=dark] .colab-df-convert {\n",
              "      background-color: #3B4455;\n",
              "      fill: #D2E3FC;\n",
              "    }\n",
              "\n",
              "    [theme=dark] .colab-df-convert:hover {\n",
              "      background-color: #434B5C;\n",
              "      box-shadow: 0px 1px 3px 1px rgba(0, 0, 0, 0.15);\n",
              "      filter: drop-shadow(0px 1px 2px rgba(0, 0, 0, 0.3));\n",
              "      fill: #FFFFFF;\n",
              "    }\n",
              "  </style>\n",
              "\n",
              "      <script>\n",
              "        const buttonEl =\n",
              "          document.querySelector('#df-b811ccc8-a731-44b5-b7ba-964a5986ea0a button.colab-df-convert');\n",
              "        buttonEl.style.display =\n",
              "          google.colab.kernel.accessAllowed ? 'block' : 'none';\n",
              "\n",
              "        async function convertToInteractive(key) {\n",
              "          const element = document.querySelector('#df-b811ccc8-a731-44b5-b7ba-964a5986ea0a');\n",
              "          const dataTable =\n",
              "            await google.colab.kernel.invokeFunction('convertToInteractive',\n",
              "                                                     [key], {});\n",
              "          if (!dataTable) return;\n",
              "\n",
              "          const docLinkHtml = 'Like what you see? Visit the ' +\n",
              "            '<a target=\"_blank\" href=https://colab.research.google.com/notebooks/data_table.ipynb>data table notebook</a>'\n",
              "            + ' to learn more about interactive tables.';\n",
              "          element.innerHTML = '';\n",
              "          dataTable['output_type'] = 'display_data';\n",
              "          await google.colab.output.renderOutput(dataTable, element);\n",
              "          const docLink = document.createElement('div');\n",
              "          docLink.innerHTML = docLinkHtml;\n",
              "          element.appendChild(docLink);\n",
              "        }\n",
              "      </script>\n",
              "    </div>\n",
              "  </div>\n",
              "  "
            ]
          },
          "metadata": {},
          "execution_count": 69
        }
      ]
    },
    {
      "cell_type": "code",
      "source": [
        "inmuebles['Valor'][300]"
      ],
      "metadata": {
        "colab": {
          "base_uri": "https://localhost:8080/",
          "height": 35
        },
        "id": "65he94kAsMXL",
        "outputId": "5f71be8c-5d32-4b47-f5dc-a2e6f73581e4"
      },
      "execution_count": 70,
      "outputs": [
        {
          "output_type": "execute_result",
          "data": {
            "text/plain": [
              "'$ 116.100.000'"
            ],
            "application/vnd.google.colaboratory.intrinsic+json": {
              "type": "string"
            }
          },
          "metadata": {},
          "execution_count": 70
        }
      ]
    },
    {
      "cell_type": "code",
      "source": [
        "inmuebles['Valor'][300:305]\n",
        "type(inmuebles['Valor'][300:305])\n"
      ],
      "metadata": {
        "colab": {
          "base_uri": "https://localhost:8080/"
        },
        "id": "iFH5bi8EsbRe",
        "outputId": "f8e72665-aede-4b67-8823-57e306dfb634"
      },
      "execution_count": 71,
      "outputs": [
        {
          "output_type": "execute_result",
          "data": {
            "text/plain": [
              "pandas.core.series.Series"
            ]
          },
          "metadata": {},
          "execution_count": 71
        }
      ]
    },
    {
      "cell_type": "code",
      "source": [
        "inmuebles.columns"
      ],
      "metadata": {
        "colab": {
          "base_uri": "https://localhost:8080/"
        },
        "id": "601xMJ2ashKu",
        "outputId": "ad872658-f014-4575-a3ae-3711f5327ab8"
      },
      "execution_count": 72,
      "outputs": [
        {
          "output_type": "execute_result",
          "data": {
            "text/plain": [
              "Index(['Tipo', 'Descripcion', 'Habitaciones', 'Banos', 'Area', 'Barrio', 'UPZ',\n",
              "       'Valor'],\n",
              "      dtype='object')"
            ]
          },
          "metadata": {},
          "execution_count": 72
        }
      ]
    },
    {
      "cell_type": "code",
      "source": [
        "inmuebles.Area.mean()"
      ],
      "metadata": {
        "colab": {
          "base_uri": "https://localhost:8080/"
        },
        "id": "I1pyNc9Xs85S",
        "outputId": "39fbfbb2-dc9a-44dc-9fe9-b6b37262a968"
      },
      "execution_count": 73,
      "outputs": [
        {
          "output_type": "execute_result",
          "data": {
            "text/plain": [
              "146.66470588235293"
            ]
          },
          "metadata": {},
          "execution_count": 73
        }
      ]
    },
    {
      "cell_type": "code",
      "source": [
        "inmuebles.Barrio.sample(3)"
      ],
      "metadata": {
        "colab": {
          "base_uri": "https://localhost:8080/"
        },
        "id": "iYqOIwb_tPfj",
        "outputId": "b0c715b2-893e-427d-e606-3eb299707dd7"
      },
      "execution_count": 74,
      "outputs": [
        {
          "output_type": "execute_result",
          "data": {
            "text/plain": [
              "3234          Tintala\n",
              "3223          Kennedy\n",
              "6891    Santa Barbara\n",
              "Name: Barrio, dtype: object"
            ]
          },
          "metadata": {},
          "execution_count": 74
        }
      ]
    },
    {
      "cell_type": "code",
      "source": [
        "(inmuebles.Area == 'Chico Reservado')"
      ],
      "metadata": {
        "colab": {
          "base_uri": "https://localhost:8080/"
        },
        "id": "YY-zAytFuBsA",
        "outputId": "1f23b147-2f8f-40d7-f398-e4fd113e06b1"
      },
      "execution_count": 75,
      "outputs": [
        {
          "output_type": "execute_result",
          "data": {
            "text/plain": [
              "0       False\n",
              "1       False\n",
              "2       False\n",
              "3       False\n",
              "4       False\n",
              "        ...  \n",
              "9515    False\n",
              "9516    False\n",
              "9517    False\n",
              "9518    False\n",
              "9519    False\n",
              "Name: Area, Length: 9520, dtype: bool"
            ]
          },
          "metadata": {},
          "execution_count": 75
        }
      ]
    },
    {
      "cell_type": "code",
      "source": [
        "sum((inmuebles.Barrio == 'Chico Reservado'))"
      ],
      "metadata": {
        "colab": {
          "base_uri": "https://localhost:8080/"
        },
        "id": "3OJg8M1TuwcZ",
        "outputId": "d600d278-04d2-4af5-9e50-3fef264f7a80"
      },
      "execution_count": 17,
      "outputs": [
        {
          "output_type": "execute_result",
          "data": {
            "text/plain": [
              "225"
            ]
          },
          "metadata": {},
          "execution_count": 17
        }
      ]
    },
    {
      "cell_type": "code",
      "source": [
        "inmuebles_chico = (inmuebles.Barrio == 'Chico Reservado')\n",
        "type(inmuebles_chico)"
      ],
      "metadata": {
        "colab": {
          "base_uri": "https://localhost:8080/"
        },
        "id": "HtT_ZLvGu_CP",
        "outputId": "9f253d38-bff2-42ba-bb62-131e12051f3b"
      },
      "execution_count": 18,
      "outputs": [
        {
          "output_type": "execute_result",
          "data": {
            "text/plain": [
              "pandas.core.series.Series"
            ]
          },
          "metadata": {},
          "execution_count": 18
        }
      ]
    },
    {
      "cell_type": "code",
      "source": [
        "chico_reservado = inmuebles[inmuebles_chico]\n",
        "chico_reservado"
      ],
      "metadata": {
        "colab": {
          "base_uri": "https://localhost:8080/",
          "height": 424
        },
        "id": "mQJesAi_vLbs",
        "outputId": "3e69ce48-e2d6-4e33-fc8a-2887d08db163"
      },
      "execution_count": 19,
      "outputs": [
        {
          "output_type": "execute_result",
          "data": {
            "text/plain": [
              "             Tipo                              Descripcion  Habitaciones  \\\n",
              "2     Apartamento  Apartamento en venta en Chico Reservado             3   \n",
              "39    Apartamento  Apartamento en venta en Chico Reservado             1   \n",
              "72    Apartamento  Apartamento en venta en Chico Reservado             1   \n",
              "126   Apartamento  Apartamento en venta en Chico Reservado             3   \n",
              "143   Apartamento  Apartamento en venta en Chico Reservado             2   \n",
              "...           ...                                      ...           ...   \n",
              "9299  Apartamento  Apartamento en venta en Chico Reservado             3   \n",
              "9335  Apartamento  Apartamento en venta en Chico Reservado             3   \n",
              "9341  Apartamento  Apartamento en venta en Chico Reservado             2   \n",
              "9472  Apartamento  Apartamento en venta en Chico Reservado             3   \n",
              "9506  Apartamento  Apartamento en venta en Chico Reservado             3   \n",
              "\n",
              "      Banos  Area           Barrio                                 UPZ  \\\n",
              "2         3   144  Chico Reservado  CHAPINERO: Chicó Lago + El Refugio   \n",
              "39        1    64  Chico Reservado  CHAPINERO: Chicó Lago + El Refugio   \n",
              "72        1    64  Chico Reservado  CHAPINERO: Chicó Lago + El Refugio   \n",
              "126       4   150  Chico Reservado  CHAPINERO: Chicó Lago + El Refugio   \n",
              "143       4   104  Chico Reservado  CHAPINERO: Chicó Lago + El Refugio   \n",
              "...     ...   ...              ...                                 ...   \n",
              "9299      3   148  Chico Reservado  CHAPINERO: Chicó Lago + El Refugio   \n",
              "9335      3   176  Chico Reservado  CHAPINERO: Chicó Lago + El Refugio   \n",
              "9341      3   118  Chico Reservado  CHAPINERO: Chicó Lago + El Refugio   \n",
              "9472      1    49  Chico Reservado  CHAPINERO: Chicó Lago + El Refugio   \n",
              "9506      4   390  Chico Reservado  CHAPINERO: Chicó Lago + El Refugio   \n",
              "\n",
              "                Valor  \n",
              "2     $ 1.120.000.000  \n",
              "39      $ 495.000.000  \n",
              "72      $ 495.000.000  \n",
              "126   $ 1.300.000.000  \n",
              "143   $ 1.100.000.000  \n",
              "...               ...  \n",
              "9299    $ 780.000.000  \n",
              "9335    $ 850.000.000  \n",
              "9341    $ 700.000.000  \n",
              "9472    $ 200.000.000  \n",
              "9506  $ 3.200.000.000  \n",
              "\n",
              "[225 rows x 8 columns]"
            ],
            "text/html": [
              "\n",
              "  <div id=\"df-bb70f1c6-4d0a-4e87-81f0-461ed8d42463\">\n",
              "    <div class=\"colab-df-container\">\n",
              "      <div>\n",
              "<style scoped>\n",
              "    .dataframe tbody tr th:only-of-type {\n",
              "        vertical-align: middle;\n",
              "    }\n",
              "\n",
              "    .dataframe tbody tr th {\n",
              "        vertical-align: top;\n",
              "    }\n",
              "\n",
              "    .dataframe thead th {\n",
              "        text-align: right;\n",
              "    }\n",
              "</style>\n",
              "<table border=\"1\" class=\"dataframe\">\n",
              "  <thead>\n",
              "    <tr style=\"text-align: right;\">\n",
              "      <th></th>\n",
              "      <th>Tipo</th>\n",
              "      <th>Descripcion</th>\n",
              "      <th>Habitaciones</th>\n",
              "      <th>Banos</th>\n",
              "      <th>Area</th>\n",
              "      <th>Barrio</th>\n",
              "      <th>UPZ</th>\n",
              "      <th>Valor</th>\n",
              "    </tr>\n",
              "  </thead>\n",
              "  <tbody>\n",
              "    <tr>\n",
              "      <th>2</th>\n",
              "      <td>Apartamento</td>\n",
              "      <td>Apartamento en venta en Chico Reservado</td>\n",
              "      <td>3</td>\n",
              "      <td>3</td>\n",
              "      <td>144</td>\n",
              "      <td>Chico Reservado</td>\n",
              "      <td>CHAPINERO: Chicó Lago + El Refugio</td>\n",
              "      <td>$ 1.120.000.000</td>\n",
              "    </tr>\n",
              "    <tr>\n",
              "      <th>39</th>\n",
              "      <td>Apartamento</td>\n",
              "      <td>Apartamento en venta en Chico Reservado</td>\n",
              "      <td>1</td>\n",
              "      <td>1</td>\n",
              "      <td>64</td>\n",
              "      <td>Chico Reservado</td>\n",
              "      <td>CHAPINERO: Chicó Lago + El Refugio</td>\n",
              "      <td>$ 495.000.000</td>\n",
              "    </tr>\n",
              "    <tr>\n",
              "      <th>72</th>\n",
              "      <td>Apartamento</td>\n",
              "      <td>Apartamento en venta en Chico Reservado</td>\n",
              "      <td>1</td>\n",
              "      <td>1</td>\n",
              "      <td>64</td>\n",
              "      <td>Chico Reservado</td>\n",
              "      <td>CHAPINERO: Chicó Lago + El Refugio</td>\n",
              "      <td>$ 495.000.000</td>\n",
              "    </tr>\n",
              "    <tr>\n",
              "      <th>126</th>\n",
              "      <td>Apartamento</td>\n",
              "      <td>Apartamento en venta en Chico Reservado</td>\n",
              "      <td>3</td>\n",
              "      <td>4</td>\n",
              "      <td>150</td>\n",
              "      <td>Chico Reservado</td>\n",
              "      <td>CHAPINERO: Chicó Lago + El Refugio</td>\n",
              "      <td>$ 1.300.000.000</td>\n",
              "    </tr>\n",
              "    <tr>\n",
              "      <th>143</th>\n",
              "      <td>Apartamento</td>\n",
              "      <td>Apartamento en venta en Chico Reservado</td>\n",
              "      <td>2</td>\n",
              "      <td>4</td>\n",
              "      <td>104</td>\n",
              "      <td>Chico Reservado</td>\n",
              "      <td>CHAPINERO: Chicó Lago + El Refugio</td>\n",
              "      <td>$ 1.100.000.000</td>\n",
              "    </tr>\n",
              "    <tr>\n",
              "      <th>...</th>\n",
              "      <td>...</td>\n",
              "      <td>...</td>\n",
              "      <td>...</td>\n",
              "      <td>...</td>\n",
              "      <td>...</td>\n",
              "      <td>...</td>\n",
              "      <td>...</td>\n",
              "      <td>...</td>\n",
              "    </tr>\n",
              "    <tr>\n",
              "      <th>9299</th>\n",
              "      <td>Apartamento</td>\n",
              "      <td>Apartamento en venta en Chico Reservado</td>\n",
              "      <td>3</td>\n",
              "      <td>3</td>\n",
              "      <td>148</td>\n",
              "      <td>Chico Reservado</td>\n",
              "      <td>CHAPINERO: Chicó Lago + El Refugio</td>\n",
              "      <td>$ 780.000.000</td>\n",
              "    </tr>\n",
              "    <tr>\n",
              "      <th>9335</th>\n",
              "      <td>Apartamento</td>\n",
              "      <td>Apartamento en venta en Chico Reservado</td>\n",
              "      <td>3</td>\n",
              "      <td>3</td>\n",
              "      <td>176</td>\n",
              "      <td>Chico Reservado</td>\n",
              "      <td>CHAPINERO: Chicó Lago + El Refugio</td>\n",
              "      <td>$ 850.000.000</td>\n",
              "    </tr>\n",
              "    <tr>\n",
              "      <th>9341</th>\n",
              "      <td>Apartamento</td>\n",
              "      <td>Apartamento en venta en Chico Reservado</td>\n",
              "      <td>2</td>\n",
              "      <td>3</td>\n",
              "      <td>118</td>\n",
              "      <td>Chico Reservado</td>\n",
              "      <td>CHAPINERO: Chicó Lago + El Refugio</td>\n",
              "      <td>$ 700.000.000</td>\n",
              "    </tr>\n",
              "    <tr>\n",
              "      <th>9472</th>\n",
              "      <td>Apartamento</td>\n",
              "      <td>Apartamento en venta en Chico Reservado</td>\n",
              "      <td>3</td>\n",
              "      <td>1</td>\n",
              "      <td>49</td>\n",
              "      <td>Chico Reservado</td>\n",
              "      <td>CHAPINERO: Chicó Lago + El Refugio</td>\n",
              "      <td>$ 200.000.000</td>\n",
              "    </tr>\n",
              "    <tr>\n",
              "      <th>9506</th>\n",
              "      <td>Apartamento</td>\n",
              "      <td>Apartamento en venta en Chico Reservado</td>\n",
              "      <td>3</td>\n",
              "      <td>4</td>\n",
              "      <td>390</td>\n",
              "      <td>Chico Reservado</td>\n",
              "      <td>CHAPINERO: Chicó Lago + El Refugio</td>\n",
              "      <td>$ 3.200.000.000</td>\n",
              "    </tr>\n",
              "  </tbody>\n",
              "</table>\n",
              "<p>225 rows × 8 columns</p>\n",
              "</div>\n",
              "      <button class=\"colab-df-convert\" onclick=\"convertToInteractive('df-bb70f1c6-4d0a-4e87-81f0-461ed8d42463')\"\n",
              "              title=\"Convert this dataframe to an interactive table.\"\n",
              "              style=\"display:none;\">\n",
              "        \n",
              "  <svg xmlns=\"http://www.w3.org/2000/svg\" height=\"24px\"viewBox=\"0 0 24 24\"\n",
              "       width=\"24px\">\n",
              "    <path d=\"M0 0h24v24H0V0z\" fill=\"none\"/>\n",
              "    <path d=\"M18.56 5.44l.94 2.06.94-2.06 2.06-.94-2.06-.94-.94-2.06-.94 2.06-2.06.94zm-11 1L8.5 8.5l.94-2.06 2.06-.94-2.06-.94L8.5 2.5l-.94 2.06-2.06.94zm10 10l.94 2.06.94-2.06 2.06-.94-2.06-.94-.94-2.06-.94 2.06-2.06.94z\"/><path d=\"M17.41 7.96l-1.37-1.37c-.4-.4-.92-.59-1.43-.59-.52 0-1.04.2-1.43.59L10.3 9.45l-7.72 7.72c-.78.78-.78 2.05 0 2.83L4 21.41c.39.39.9.59 1.41.59.51 0 1.02-.2 1.41-.59l7.78-7.78 2.81-2.81c.8-.78.8-2.07 0-2.86zM5.41 20L4 18.59l7.72-7.72 1.47 1.35L5.41 20z\"/>\n",
              "  </svg>\n",
              "      </button>\n",
              "      \n",
              "  <style>\n",
              "    .colab-df-container {\n",
              "      display:flex;\n",
              "      flex-wrap:wrap;\n",
              "      gap: 12px;\n",
              "    }\n",
              "\n",
              "    .colab-df-convert {\n",
              "      background-color: #E8F0FE;\n",
              "      border: none;\n",
              "      border-radius: 50%;\n",
              "      cursor: pointer;\n",
              "      display: none;\n",
              "      fill: #1967D2;\n",
              "      height: 32px;\n",
              "      padding: 0 0 0 0;\n",
              "      width: 32px;\n",
              "    }\n",
              "\n",
              "    .colab-df-convert:hover {\n",
              "      background-color: #E2EBFA;\n",
              "      box-shadow: 0px 1px 2px rgba(60, 64, 67, 0.3), 0px 1px 3px 1px rgba(60, 64, 67, 0.15);\n",
              "      fill: #174EA6;\n",
              "    }\n",
              "\n",
              "    [theme=dark] .colab-df-convert {\n",
              "      background-color: #3B4455;\n",
              "      fill: #D2E3FC;\n",
              "    }\n",
              "\n",
              "    [theme=dark] .colab-df-convert:hover {\n",
              "      background-color: #434B5C;\n",
              "      box-shadow: 0px 1px 3px 1px rgba(0, 0, 0, 0.15);\n",
              "      filter: drop-shadow(0px 1px 2px rgba(0, 0, 0, 0.3));\n",
              "      fill: #FFFFFF;\n",
              "    }\n",
              "  </style>\n",
              "\n",
              "      <script>\n",
              "        const buttonEl =\n",
              "          document.querySelector('#df-bb70f1c6-4d0a-4e87-81f0-461ed8d42463 button.colab-df-convert');\n",
              "        buttonEl.style.display =\n",
              "          google.colab.kernel.accessAllowed ? 'block' : 'none';\n",
              "\n",
              "        async function convertToInteractive(key) {\n",
              "          const element = document.querySelector('#df-bb70f1c6-4d0a-4e87-81f0-461ed8d42463');\n",
              "          const dataTable =\n",
              "            await google.colab.kernel.invokeFunction('convertToInteractive',\n",
              "                                                     [key], {});\n",
              "          if (!dataTable) return;\n",
              "\n",
              "          const docLinkHtml = 'Like what you see? Visit the ' +\n",
              "            '<a target=\"_blank\" href=https://colab.research.google.com/notebooks/data_table.ipynb>data table notebook</a>'\n",
              "            + ' to learn more about interactive tables.';\n",
              "          element.innerHTML = '';\n",
              "          dataTable['output_type'] = 'display_data';\n",
              "          await google.colab.output.renderOutput(dataTable, element);\n",
              "          const docLink = document.createElement('div');\n",
              "          docLink.innerHTML = docLinkHtml;\n",
              "          element.appendChild(docLink);\n",
              "        }\n",
              "      </script>\n",
              "    </div>\n",
              "  </div>\n",
              "  "
            ]
          },
          "metadata": {},
          "execution_count": 19
        }
      ]
    },
    {
      "cell_type": "code",
      "source": [
        "inmuebles.Area.mean()"
      ],
      "metadata": {
        "colab": {
          "base_uri": "https://localhost:8080/"
        },
        "id": "P7V5_WzXxCDl",
        "outputId": "c0ffdffc-2266-4ebe-8dcf-cce11f7b7ac7"
      },
      "execution_count": 20,
      "outputs": [
        {
          "output_type": "execute_result",
          "data": {
            "text/plain": [
              "146.66470588235293"
            ]
          },
          "metadata": {},
          "execution_count": 20
        }
      ]
    },
    {
      "cell_type": "code",
      "source": [
        "len(inmuebles.Barrio.value_counts())"
      ],
      "metadata": {
        "colab": {
          "base_uri": "https://localhost:8080/"
        },
        "id": "54SeSdSFxZ9v",
        "outputId": "a6dcf1f6-aba0-4ffa-e005-9f35e953f469"
      },
      "execution_count": 21,
      "outputs": [
        {
          "output_type": "execute_result",
          "data": {
            "text/plain": [
              "149"
            ]
          },
          "metadata": {},
          "execution_count": 21
        }
      ]
    },
    {
      "cell_type": "code",
      "source": [
        "inmuebles.Barrio.value_counts()"
      ],
      "metadata": {
        "colab": {
          "base_uri": "https://localhost:8080/"
        },
        "id": "aJz7RkSBxpVf",
        "outputId": "1cb379d7-35aa-4be3-91ea-09ae9825afd0"
      },
      "execution_count": 22,
      "outputs": [
        {
          "output_type": "execute_result",
          "data": {
            "text/plain": [
              "Usaquén               1105\n",
              "Zona Noroccidental     877\n",
              "Bosa                   589\n",
              "Kennedy                589\n",
              "Cedritos               554\n",
              "                      ... \n",
              "Colinas De Suba          1\n",
              "La Estanzuela            1\n",
              "Roma                     1\n",
              "Alameda                  1\n",
              "Prado Veraniego          1\n",
              "Name: Barrio, Length: 149, dtype: int64"
            ]
          },
          "metadata": {},
          "execution_count": 22
        }
      ]
    },
    {
      "cell_type": "code",
      "source": [
        "len(inmuebles.UPZ.value_counts())"
      ],
      "metadata": {
        "colab": {
          "base_uri": "https://localhost:8080/"
        },
        "id": "eN0cDITxxtvH",
        "outputId": "ebc3375f-c371-4419-d682-88ba7fe4155a"
      },
      "execution_count": 23,
      "outputs": [
        {
          "output_type": "execute_result",
          "data": {
            "text/plain": [
              "63"
            ]
          },
          "metadata": {},
          "execution_count": 23
        }
      ]
    },
    {
      "cell_type": "code",
      "source": [
        "inmuebles_barrio = inmuebles.Area.value_counts()"
      ],
      "metadata": {
        "id": "BcKfcc3nx9fg"
      },
      "execution_count": 36,
      "outputs": []
    },
    {
      "cell_type": "code",
      "source": [
        "inmuebles_barrio.head(5).plot.bar()"
      ],
      "metadata": {
        "colab": {
          "base_uri": "https://localhost:8080/",
          "height": 285
        },
        "id": "EXzn-YDLybRx",
        "outputId": "099a790c-76ca-467c-d716-60d350b1298e"
      },
      "execution_count": 25,
      "outputs": [
        {
          "output_type": "execute_result",
          "data": {
            "text/plain": [
              "<Axes: >"
            ]
          },
          "metadata": {},
          "execution_count": 25
        },
        {
          "output_type": "display_data",
          "data": {
            "text/plain": [
              "<Figure size 432x288 with 1 Axes>"
            ],
            "image/png": "[encoded data removed]"
          },
          "metadata": {
            "needs_background": "light"
          }
        }
      ]
    },
    {
      "cell_type": "markdown",
      "source": [
        "**Desafío**\n",
        "\n",
        "\n",
        "1. Promedio de área de todos los inmuebles en los barrios en el dataset. El top 10.\n",
        "\n",
        "2. Consultar otros datos estadísticos, conteo, mediana, valores mínimo y máximo."
      ],
      "metadata": {
        "id": "owP_SeWgzaYR"
      }
    },
    {
      "cell_type": "markdown",
      "source": [
        "## Promedio Area Barrio"
      ],
      "metadata": {
        "id": "VrBRrKL4fxY8"
      }
    },
    {
      "cell_type": "code",
      "source": [
        "inmuebles.groupby('Barrio')['Area'].mean().sort_values(ascending = False).head(10).plot.bar()"
      ],
      "metadata": {
        "colab": {
          "base_uri": "https://localhost:8080/",
          "height": 392
        },
        "id": "EnevjAnaPhn3",
        "outputId": "64550b6b-38e3-4d5d-a211-49b641411a82"
      },
      "execution_count": 76,
      "outputs": [
        {
          "output_type": "execute_result",
          "data": {
            "text/plain": [
              "<Axes: xlabel='Barrio'>"
            ]
          },
          "metadata": {},
          "execution_count": 76
        },
        {
          "output_type": "display_data",
          "data": {
            "text/plain": [
              "<Figure size 432x288 with 1 Axes>"
            ],
            "image/png": "[encoded data removed]"
          },
          "metadata": {
            "needs_background": "light"
          }
        }
      ]
    },
    {
      "cell_type": "markdown",
      "source": [
        "### 2 Ejercicio"
      ],
      "metadata": {
        "id": "jZ7-Lskkf6yO"
      }
    },
    {
      "cell_type": "code",
      "source": [],
      "metadata": {
        "id": "QXbZvYrfgAeL"
      },
      "execution_count": 76,
      "outputs": []
    },
    {
      "cell_type": "code",
      "source": [
        " inmuebles.max()"
      ],
      "metadata": {
        "id": "grknaP5DTfae",
        "colab": {
          "base_uri": "https://localhost:8080/"
        },
        "outputId": "ffa16418-d7d5-41d3-a718-1bb24386c7aa"
      },
      "execution_count": 52,
      "outputs": [
        {
          "output_type": "stream",
          "name": "stderr",
          "text": [
            "<ipython-input-52-61d810277e7b>:1: FutureWarning: Dropping of nuisance columns in DataFrame reductions (with 'numeric_only=None') is deprecated; in a future version this will raise TypeError.  Select only valid columns before calling the reduction.\n",
            "  inmuebles.max()\n"
          ]
        },
        {
          "output_type": "execute_result",
          "data": {
            "text/plain": [
              "Tipo                                          Oficina/Consultorio\n",
              "Descripcion     Oficina/Consultorio en venta en Zona Noroccide...\n",
              "Habitaciones                                                  110\n",
              "Baños                                                           9\n",
              "Área                                                       166243\n",
              "Barrio                                         Zona Noroccidental\n",
              "Valor                                               $ 999.000.000\n",
              "dtype: object"
            ]
          },
          "metadata": {},
          "execution_count": 52
        }
      ]
    },
    {
      "cell_type": "code",
      "source": [
        "Max_prom.groupby('Barrio')['Area'].mean().sort_values(ascending = False).head(10).plot.bar()"
      ],
      "metadata": {
        "colab": {
          "base_uri": "https://localhost:8080/",
          "height": 287
        },
        "id": "PeRhcrUSgqd8",
        "outputId": "3d7fa99d-c065-4019-f8fe-56c49e3294ea"
      },
      "execution_count": 53,
      "outputs": [
        {
          "output_type": "error",
          "ename": "AttributeError",
          "evalue": "ignored",
          "traceback": [
            "\u001b[0;31m---------------------------------------------------------------------------\u001b[0m",
            "\u001b[0;31mAttributeError\u001b[0m                            Traceback (most recent call last)",
            "\u001b[0;32m<ipython-input-53-731a6af18821>\u001b[0m in \u001b[0;36m<module>\u001b[0;34m\u001b[0m\n\u001b[0;32m----> 1\u001b[0;31m \u001b[0mMax_prom\u001b[0m\u001b[0;34m.\u001b[0m\u001b[0mgroupby\u001b[0m\u001b[0;34m(\u001b[0m\u001b[0;34m'Barrio'\u001b[0m\u001b[0;34m)\u001b[0m\u001b[0;34m[\u001b[0m\u001b[0;34m'Area'\u001b[0m\u001b[0;34m]\u001b[0m\u001b[0;34m.\u001b[0m\u001b[0mmean\u001b[0m\u001b[0;34m(\u001b[0m\u001b[0;34m)\u001b[0m\u001b[0;34m.\u001b[0m\u001b[0msort_values\u001b[0m\u001b[0;34m(\u001b[0m\u001b[0mascending\u001b[0m \u001b[0;34m=\u001b[0m \u001b[0;32mFalse\u001b[0m\u001b[0;34m)\u001b[0m\u001b[0;34m.\u001b[0m\u001b[0mhead\u001b[0m\u001b[0;34m(\u001b[0m\u001b[0;36m10\u001b[0m\u001b[0;34m)\u001b[0m\u001b[0;34m.\u001b[0m\u001b[0mplot\u001b[0m\u001b[0;34m.\u001b[0m\u001b[0mbar\u001b[0m\u001b[0;34m(\u001b[0m\u001b[0;34m)\u001b[0m\u001b[0;34m\u001b[0m\u001b[0;34m\u001b[0m\u001b[0m\n\u001b[0m",
            "\u001b[0;32m/usr/local/lib/python3.9/dist-packages/pandas/core/groupby/groupby.py\u001b[0m in \u001b[0;36m__getattr__\u001b[0;34m(self, attr)\u001b[0m\n\u001b[1;32m    902\u001b[0m             \u001b[0;32mreturn\u001b[0m \u001b[0mself\u001b[0m\u001b[0;34m[\u001b[0m\u001b[0mattr\u001b[0m\u001b[0;34m]\u001b[0m\u001b[0;34m\u001b[0m\u001b[0;34m\u001b[0m\u001b[0m\n\u001b[1;32m    903\u001b[0m \u001b[0;34m\u001b[0m\u001b[0m\n\u001b[0;32m--> 904\u001b[0;31m         raise AttributeError(\n\u001b[0m\u001b[1;32m    905\u001b[0m             \u001b[0;34mf\"'{type(self).__name__}' object has no attribute '{attr}'\"\u001b[0m\u001b[0;34m\u001b[0m\u001b[0;34m\u001b[0m\u001b[0m\n\u001b[1;32m    906\u001b[0m         )\n",
            "\u001b[0;31mAttributeError\u001b[0m: 'DataFrameGroupBy' object has no attribute 'groupby'"
          ]
        }
      ]
    },
    {
      "cell_type": "markdown",
      "source": [
        "#**Aula 2**"
      ],
      "metadata": {
        "id": "YFNuHdUZJJtL"
      }
    },
    {
      "cell_type": "code",
      "source": [
        "inmuebles.sample(5)"
      ],
      "metadata": {
        "colab": {
          "base_uri": "https://localhost:8080/",
          "height": 336
        },
        "id": "HuNvVUa2ypG4",
        "outputId": "5be50e45-6322-4df7-cfdd-07ad8caf5eb5"
      },
      "execution_count": null,
      "outputs": [
        {
          "output_type": "execute_result",
          "data": {
            "text/plain": [
              "             Tipo                                 Descripcion  Habitaciones  \\\n",
              "531   Apartamento                Apartamento en venta en Bosa             3   \n",
              "1533  Apartamento  Apartamento en venta en Zona Noroccidental             3   \n",
              "2186  Apartamento            Apartamento en venta en El Batán             2   \n",
              "7386  Apartamento             Apartamento en venta en Usaquén             2   \n",
              "7159  Apartamento      Apartamento en venta en Antonio Nariño             2   \n",
              "\n",
              "      Banos  Area              Barrio                                 UPZ  \\\n",
              "531       1    53                Bosa                        Bosa Central   \n",
              "1533      3    98  Zona Noroccidental  CHAPINERO: Pardo Rubio + Chapinero   \n",
              "2186      2    91            El Batán                         La Alhambra   \n",
              "7386      1    45             Usaquén                             Usaquén   \n",
              "7159      1    39      Antonio Nariño                            Restrepo   \n",
              "\n",
              "              Valor  \n",
              "531   $ 142.000.000  \n",
              "1533  $ 601.000.000  \n",
              "2186  $ 465.000.000  \n",
              "7386  $ 185.869.000  \n",
              "7159  $ 180.000.000  "
            ],
            "text/html": [
              "\n",
              "  <div id=\"df-c4f567a2-0da6-4e48-b091-f1e62f9b3da1\">\n",
              "    <div class=\"colab-df-container\">\n",
              "      <div>\n",
              "<style scoped>\n",
              "    .dataframe tbody tr th:only-of-type {\n",
              "        vertical-align: middle;\n",
              "    }\n",
              "\n",
              "    .dataframe tbody tr th {\n",
              "        vertical-align: top;\n",
              "    }\n",
              "\n",
              "    .dataframe thead th {\n",
              "        text-align: right;\n",
              "    }\n",
              "</style>\n",
              "<table border=\"1\" class=\"dataframe\">\n",
              "  <thead>\n",
              "    <tr style=\"text-align: right;\">\n",
              "      <th></th>\n",
              "      <th>Tipo</th>\n",
              "      <th>Descripcion</th>\n",
              "      <th>Habitaciones</th>\n",
              "      <th>Banos</th>\n",
              "      <th>Area</th>\n",
              "      <th>Barrio</th>\n",
              "      <th>UPZ</th>\n",
              "      <th>Valor</th>\n",
              "    </tr>\n",
              "  </thead>\n",
              "  <tbody>\n",
              "    <tr>\n",
              "      <th>531</th>\n",
              "      <td>Apartamento</td>\n",
              "      <td>Apartamento en venta en Bosa</td>\n",
              "      <td>3</td>\n",
              "      <td>1</td>\n",
              "      <td>53</td>\n",
              "      <td>Bosa</td>\n",
              "      <td>Bosa Central</td>\n",
              "      <td>$ 142.000.000</td>\n",
              "    </tr>\n",
              "    <tr>\n",
              "      <th>1533</th>\n",
              "      <td>Apartamento</td>\n",
              "      <td>Apartamento en venta en Zona Noroccidental</td>\n",
              "      <td>3</td>\n",
              "      <td>3</td>\n",
              "      <td>98</td>\n",
              "      <td>Zona Noroccidental</td>\n",
              "      <td>CHAPINERO: Pardo Rubio + Chapinero</td>\n",
              "      <td>$ 601.000.000</td>\n",
              "    </tr>\n",
              "    <tr>\n",
              "      <th>2186</th>\n",
              "      <td>Apartamento</td>\n",
              "      <td>Apartamento en venta en El Batán</td>\n",
              "      <td>2</td>\n",
              "      <td>2</td>\n",
              "      <td>91</td>\n",
              "      <td>El Batán</td>\n",
              "      <td>La Alhambra</td>\n",
              "      <td>$ 465.000.000</td>\n",
              "    </tr>\n",
              "    <tr>\n",
              "      <th>7386</th>\n",
              "      <td>Apartamento</td>\n",
              "      <td>Apartamento en venta en Usaquén</td>\n",
              "      <td>2</td>\n",
              "      <td>1</td>\n",
              "      <td>45</td>\n",
              "      <td>Usaquén</td>\n",
              "      <td>Usaquén</td>\n",
              "      <td>$ 185.869.000</td>\n",
              "    </tr>\n",
              "    <tr>\n",
              "      <th>7159</th>\n",
              "      <td>Apartamento</td>\n",
              "      <td>Apartamento en venta en Antonio Nariño</td>\n",
              "      <td>2</td>\n",
              "      <td>1</td>\n",
              "      <td>39</td>\n",
              "      <td>Antonio Nariño</td>\n",
              "      <td>Restrepo</td>\n",
              "      <td>$ 180.000.000</td>\n",
              "    </tr>\n",
              "  </tbody>\n",
              "</table>\n",
              "</div>\n",
              "      <button class=\"colab-df-convert\" onclick=\"convertToInteractive('df-c4f567a2-0da6-4e48-b091-f1e62f9b3da1')\"\n",
              "              title=\"Convert this dataframe to an interactive table.\"\n",
              "              style=\"display:none;\">\n",
              "        \n",
              "  <svg xmlns=\"http://www.w3.org/2000/svg\" height=\"24px\"viewBox=\"0 0 24 24\"\n",
              "       width=\"24px\">\n",
              "    <path d=\"M0 0h24v24H0V0z\" fill=\"none\"/>\n",
              "    <path d=\"M18.56 5.44l.94 2.06.94-2.06 2.06-.94-2.06-.94-.94-2.06-.94 2.06-2.06.94zm-11 1L8.5 8.5l.94-2.06 2.06-.94-2.06-.94L8.5 2.5l-.94 2.06-2.06.94zm10 10l.94 2.06.94-2.06 2.06-.94-2.06-.94-.94-2.06-.94 2.06-2.06.94z\"/><path d=\"M17.41 7.96l-1.37-1.37c-.4-.4-.92-.59-1.43-.59-.52 0-1.04.2-1.43.59L10.3 9.45l-7.72 7.72c-.78.78-.78 2.05 0 2.83L4 21.41c.39.39.9.59 1.41.59.51 0 1.02-.2 1.41-.59l7.78-7.78 2.81-2.81c.8-.78.8-2.07 0-2.86zM5.41 20L4 18.59l7.72-7.72 1.47 1.35L5.41 20z\"/>\n",
              "  </svg>\n",
              "      </button>\n",
              "      \n",
              "  <style>\n",
              "    .colab-df-container {\n",
              "      display:flex;\n",
              "      flex-wrap:wrap;\n",
              "      gap: 12px;\n",
              "    }\n",
              "\n",
              "    .colab-df-convert {\n",
              "      background-color: #E8F0FE;\n",
              "      border: none;\n",
              "      border-radius: 50%;\n",
              "      cursor: pointer;\n",
              "      display: none;\n",
              "      fill: #1967D2;\n",
              "      height: 32px;\n",
              "      padding: 0 0 0 0;\n",
              "      width: 32px;\n",
              "    }\n",
              "\n",
              "    .colab-df-convert:hover {\n",
              "      background-color: #E2EBFA;\n",
              "      box-shadow: 0px 1px 2px rgba(60, 64, 67, 0.3), 0px 1px 3px 1px rgba(60, 64, 67, 0.15);\n",
              "      fill: #174EA6;\n",
              "    }\n",
              "\n",
              "    [theme=dark] .colab-df-convert {\n",
              "      background-color: #3B4455;\n",
              "      fill: #D2E3FC;\n",
              "    }\n",
              "\n",
              "    [theme=dark] .colab-df-convert:hover {\n",
              "      background-color: #434B5C;\n",
              "      box-shadow: 0px 1px 3px 1px rgba(0, 0, 0, 0.15);\n",
              "      filter: drop-shadow(0px 1px 2px rgba(0, 0, 0, 0.3));\n",
              "      fill: #FFFFFF;\n",
              "    }\n",
              "  </style>\n",
              "\n",
              "      <script>\n",
              "        const buttonEl =\n",
              "          document.querySelector('#df-c4f567a2-0da6-4e48-b091-f1e62f9b3da1 button.colab-df-convert');\n",
              "        buttonEl.style.display =\n",
              "          google.colab.kernel.accessAllowed ? 'block' : 'none';\n",
              "\n",
              "        async function convertToInteractive(key) {\n",
              "          const element = document.querySelector('#df-c4f567a2-0da6-4e48-b091-f1e62f9b3da1');\n",
              "          const dataTable =\n",
              "            await google.colab.kernel.invokeFunction('convertToInteractive',\n",
              "                                                     [key], {});\n",
              "          if (!dataTable) return;\n",
              "\n",
              "          const docLinkHtml = 'Like what you see? Visit the ' +\n",
              "            '<a target=\"_blank\" href=https://colab.research.google.com/notebooks/data_table.ipynb>data table notebook</a>'\n",
              "            + ' to learn more about interactive tables.';\n",
              "          element.innerHTML = '';\n",
              "          dataTable['output_type'] = 'display_data';\n",
              "          await google.colab.output.renderOutput(dataTable, element);\n",
              "          const docLink = document.createElement('div');\n",
              "          docLink.innerHTML = docLinkHtml;\n",
              "          element.appendChild(docLink);\n",
              "        }\n",
              "      </script>\n",
              "    </div>\n",
              "  </div>\n",
              "  "
            ]
          },
          "metadata": {},
          "execution_count": 31
        }
      ]
    },
    {
      "cell_type": "code",
      "source": [
        "inmuebles.info()"
      ],
      "metadata": {
        "colab": {
          "base_uri": "https://localhost:8080/"
        },
        "id": "jt_0FzVFz30-",
        "outputId": "44655bfd-2974-44bd-df85-52007cd743af"
      },
      "execution_count": null,
      "outputs": [
        {
          "output_type": "stream",
          "name": "stdout",
          "text": [
            "<class 'pandas.core.frame.DataFrame'>\n",
            "RangeIndex: 9520 entries, 0 to 9519\n",
            "Data columns (total 8 columns):\n",
            " #   Column        Non-Null Count  Dtype \n",
            "---  ------        --------------  ----- \n",
            " 0   Tipo          9520 non-null   object\n",
            " 1   Descripcion   9520 non-null   object\n",
            " 2   Habitaciones  9520 non-null   int64 \n",
            " 3   Banos         9520 non-null   int64 \n",
            " 4   Area          9520 non-null   int64 \n",
            " 5   Barrio        9520 non-null   object\n",
            " 6   UPZ           9478 non-null   object\n",
            " 7   Valor         9520 non-null   object\n",
            "dtypes: int64(3), object(5)\n",
            "memory usage: 595.1+ KB\n"
          ]
        }
      ]
    },
    {
      "cell_type": "code",
      "source": [
        "type(inmuebles.Valor[0])"
      ],
      "metadata": {
        "colab": {
          "base_uri": "https://localhost:8080/"
        },
        "id": "nz5JDL5LLh5A",
        "outputId": "7f57ad13-0735-4dfb-b929-463ed9b5fbbc"
      },
      "execution_count": null,
      "outputs": [
        {
          "output_type": "execute_result",
          "data": {
            "text/plain": [
              "str"
            ]
          },
          "metadata": {},
          "execution_count": 34
        }
      ]
    },
    {
      "cell_type": "code",
      "source": [
        "inmuebles.Valor[0]+inmuebles.Valor[1]+inmuebles.Valor[:5]"
      ],
      "metadata": {
        "colab": {
          "base_uri": "https://localhost:8080/"
        },
        "id": "fVgx7E33L9IJ",
        "outputId": "375a0a4d-54c5-4b50-fdf8-7d1495df5899"
      },
      "execution_count": null,
      "outputs": [
        {
          "output_type": "execute_result",
          "data": {
            "text/plain": [
              "0      $ 360.000.000$ 670.000.000$ 360.000.000\n",
              "1      $ 360.000.000$ 670.000.000$ 670.000.000\n",
              "2    $ 360.000.000$ 670.000.000$ 1.120.000.000\n",
              "3      $ 360.000.000$ 670.000.000$ 890.000.000\n",
              "4      $ 360.000.000$ 670.000.000$ 970.000.000\n",
              "Name: Valor, dtype: object"
            ]
          },
          "metadata": {},
          "execution_count": 36
        }
      ]
    },
    {
      "cell_type": "code",
      "source": [
        "inmuebles.Valor[0].split()"
      ],
      "metadata": {
        "colab": {
          "base_uri": "https://localhost:8080/"
        },
        "id": "RRDkYvkjMWtA",
        "outputId": "5a55ac95-5629-4d8d-af3c-a2cd2d05a4ca"
      },
      "execution_count": null,
      "outputs": [
        {
          "output_type": "execute_result",
          "data": {
            "text/plain": [
              "['$', '360.000.000']"
            ]
          },
          "metadata": {},
          "execution_count": 37
        }
      ]
    },
    {
      "cell_type": "code",
      "source": [
        "valor = inmuebles.Valor.str.split(expand=True)\n",
        "inmuebles['Moneda'] = valor[0]\n",
        "inmuebles['Precio'] = valor[1]\n",
        "inmuebles.sample(3)"
      ],
      "metadata": {
        "colab": {
          "base_uri": "https://localhost:8080/",
          "height": 308
        },
        "id": "JL4ilS3UMzlq",
        "outputId": "2a5ea16d-3c07-4469-8492-1451be0d276e"
      },
      "execution_count": null,
      "outputs": [
        {
          "output_type": "execute_result",
          "data": {
            "text/plain": [
              "             Tipo                                 Descripcion  Habitaciones  \\\n",
              "5850  Apartamento            Apartamento en venta en Engativa             3   \n",
              "48    Apartamento  Apartamento en venta en Zona Noroccidental             3   \n",
              "761   Apartamento            Apartamento en venta en Cedritos             3   \n",
              "\n",
              "      Banos  Area              Barrio                                 UPZ  \\\n",
              "5850      2    70            Engativa                            Engativá   \n",
              "48        2    78  Zona Noroccidental  CHAPINERO: Pardo Rubio + Chapinero   \n",
              "761       2    76            Cedritos                             Usaquén   \n",
              "\n",
              "              Valor Moneda       Precio  \n",
              "5850  $ 226.000.000      $  226.000.000  \n",
              "48    $ 259.000.000      $  259.000.000  \n",
              "761   $ 350.000.000      $  350.000.000  "
            ],
            "text/html": [
              "\n",
              "  <div id=\"df-bac75c3a-d868-4303-8aed-0e5605592b2a\">\n",
              "    <div class=\"colab-df-container\">\n",
              "      <div>\n",
              "<style scoped>\n",
              "    .dataframe tbody tr th:only-of-type {\n",
              "        vertical-align: middle;\n",
              "    }\n",
              "\n",
              "    .dataframe tbody tr th {\n",
              "        vertical-align: top;\n",
              "    }\n",
              "\n",
              "    .dataframe thead th {\n",
              "        text-align: right;\n",
              "    }\n",
              "</style>\n",
              "<table border=\"1\" class=\"dataframe\">\n",
              "  <thead>\n",
              "    <tr style=\"text-align: right;\">\n",
              "      <th></th>\n",
              "      <th>Tipo</th>\n",
              "      <th>Descripcion</th>\n",
              "      <th>Habitaciones</th>\n",
              "      <th>Banos</th>\n",
              "      <th>Area</th>\n",
              "      <th>Barrio</th>\n",
              "      <th>UPZ</th>\n",
              "      <th>Valor</th>\n",
              "      <th>Moneda</th>\n",
              "      <th>Precio</th>\n",
              "    </tr>\n",
              "  </thead>\n",
              "  <tbody>\n",
              "    <tr>\n",
              "      <th>5850</th>\n",
              "      <td>Apartamento</td>\n",
              "      <td>Apartamento en venta en Engativa</td>\n",
              "      <td>3</td>\n",
              "      <td>2</td>\n",
              "      <td>70</td>\n",
              "      <td>Engativa</td>\n",
              "      <td>Engativá</td>\n",
              "      <td>$ 226.000.000</td>\n",
              "      <td>$</td>\n",
              "      <td>226.000.000</td>\n",
              "    </tr>\n",
              "    <tr>\n",
              "      <th>48</th>\n",
              "      <td>Apartamento</td>\n",
              "      <td>Apartamento en venta en Zona Noroccidental</td>\n",
              "      <td>3</td>\n",
              "      <td>2</td>\n",
              "      <td>78</td>\n",
              "      <td>Zona Noroccidental</td>\n",
              "      <td>CHAPINERO: Pardo Rubio + Chapinero</td>\n",
              "      <td>$ 259.000.000</td>\n",
              "      <td>$</td>\n",
              "      <td>259.000.000</td>\n",
              "    </tr>\n",
              "    <tr>\n",
              "      <th>761</th>\n",
              "      <td>Apartamento</td>\n",
              "      <td>Apartamento en venta en Cedritos</td>\n",
              "      <td>3</td>\n",
              "      <td>2</td>\n",
              "      <td>76</td>\n",
              "      <td>Cedritos</td>\n",
              "      <td>Usaquén</td>\n",
              "      <td>$ 350.000.000</td>\n",
              "      <td>$</td>\n",
              "      <td>350.000.000</td>\n",
              "    </tr>\n",
              "  </tbody>\n",
              "</table>\n",
              "</div>\n",
              "      <button class=\"colab-df-convert\" onclick=\"convertToInteractive('df-bac75c3a-d868-4303-8aed-0e5605592b2a')\"\n",
              "              title=\"Convert this dataframe to an interactive table.\"\n",
              "              style=\"display:none;\">\n",
              "        \n",
              "  <svg xmlns=\"http://www.w3.org/2000/svg\" height=\"24px\"viewBox=\"0 0 24 24\"\n",
              "       width=\"24px\">\n",
              "    <path d=\"M0 0h24v24H0V0z\" fill=\"none\"/>\n",
              "    <path d=\"M18.56 5.44l.94 2.06.94-2.06 2.06-.94-2.06-.94-.94-2.06-.94 2.06-2.06.94zm-11 1L8.5 8.5l.94-2.06 2.06-.94-2.06-.94L8.5 2.5l-.94 2.06-2.06.94zm10 10l.94 2.06.94-2.06 2.06-.94-2.06-.94-.94-2.06-.94 2.06-2.06.94z\"/><path d=\"M17.41 7.96l-1.37-1.37c-.4-.4-.92-.59-1.43-.59-.52 0-1.04.2-1.43.59L10.3 9.45l-7.72 7.72c-.78.78-.78 2.05 0 2.83L4 21.41c.39.39.9.59 1.41.59.51 0 1.02-.2 1.41-.59l7.78-7.78 2.81-2.81c.8-.78.8-2.07 0-2.86zM5.41 20L4 18.59l7.72-7.72 1.47 1.35L5.41 20z\"/>\n",
              "  </svg>\n",
              "      </button>\n",
              "      \n",
              "  <style>\n",
              "    .colab-df-container {\n",
              "      display:flex;\n",
              "      flex-wrap:wrap;\n",
              "      gap: 12px;\n",
              "    }\n",
              "\n",
              "    .colab-df-convert {\n",
              "      background-color: #E8F0FE;\n",
              "      border: none;\n",
              "      border-radius: 50%;\n",
              "      cursor: pointer;\n",
              "      display: none;\n",
              "      fill: #1967D2;\n",
              "      height: 32px;\n",
              "      padding: 0 0 0 0;\n",
              "      width: 32px;\n",
              "    }\n",
              "\n",
              "    .colab-df-convert:hover {\n",
              "      background-color: #E2EBFA;\n",
              "      box-shadow: 0px 1px 2px rgba(60, 64, 67, 0.3), 0px 1px 3px 1px rgba(60, 64, 67, 0.15);\n",
              "      fill: #174EA6;\n",
              "    }\n",
              "\n",
              "    [theme=dark] .colab-df-convert {\n",
              "      background-color: #3B4455;\n",
              "      fill: #D2E3FC;\n",
              "    }\n",
              "\n",
              "    [theme=dark] .colab-df-convert:hover {\n",
              "      background-color: #434B5C;\n",
              "      box-shadow: 0px 1px 3px 1px rgba(0, 0, 0, 0.15);\n",
              "      filter: drop-shadow(0px 1px 2px rgba(0, 0, 0, 0.3));\n",
              "      fill: #FFFFFF;\n",
              "    }\n",
              "  </style>\n",
              "\n",
              "      <script>\n",
              "        const buttonEl =\n",
              "          document.querySelector('#df-bac75c3a-d868-4303-8aed-0e5605592b2a button.colab-df-convert');\n",
              "        buttonEl.style.display =\n",
              "          google.colab.kernel.accessAllowed ? 'block' : 'none';\n",
              "\n",
              "        async function convertToInteractive(key) {\n",
              "          const element = document.querySelector('#df-bac75c3a-d868-4303-8aed-0e5605592b2a');\n",
              "          const dataTable =\n",
              "            await google.colab.kernel.invokeFunction('convertToInteractive',\n",
              "                                                     [key], {});\n",
              "          if (!dataTable) return;\n",
              "\n",
              "          const docLinkHtml = 'Like what you see? Visit the ' +\n",
              "            '<a target=\"_blank\" href=https://colab.research.google.com/notebooks/data_table.ipynb>data table notebook</a>'\n",
              "            + ' to learn more about interactive tables.';\n",
              "          element.innerHTML = '';\n",
              "          dataTable['output_type'] = 'display_data';\n",
              "          await google.colab.output.renderOutput(dataTable, element);\n",
              "          const docLink = document.createElement('div');\n",
              "          docLink.innerHTML = docLinkHtml;\n",
              "          element.appendChild(docLink);\n",
              "        }\n",
              "      </script>\n",
              "    </div>\n",
              "  </div>\n",
              "  "
            ]
          },
          "metadata": {},
          "execution_count": 41
        }
      ]
    },
    {
      "cell_type": "code",
      "source": [
        "inmuebles.info()"
      ],
      "metadata": {
        "colab": {
          "base_uri": "https://localhost:8080/"
        },
        "id": "S0QYDqaPNLhq",
        "outputId": "f0ffb6f1-1f2c-4a6e-d4ad-90b77a42cb38"
      },
      "execution_count": null,
      "outputs": [
        {
          "output_type": "stream",
          "name": "stdout",
          "text": [
            "<class 'pandas.core.frame.DataFrame'>\n",
            "RangeIndex: 9520 entries, 0 to 9519\n",
            "Data columns (total 10 columns):\n",
            " #   Column        Non-Null Count  Dtype \n",
            "---  ------        --------------  ----- \n",
            " 0   Tipo          9520 non-null   object\n",
            " 1   Descripcion   9520 non-null   object\n",
            " 2   Habitaciones  9520 non-null   int64 \n",
            " 3   Banos         9520 non-null   int64 \n",
            " 4   Area          9520 non-null   int64 \n",
            " 5   Barrio        9520 non-null   object\n",
            " 6   UPZ           9478 non-null   object\n",
            " 7   Valor         9520 non-null   object\n",
            " 8   Moneda        9520 non-null   object\n",
            " 9   Precio        9520 non-null   object\n",
            "dtypes: int64(3), object(7)\n",
            "memory usage: 743.9+ KB\n"
          ]
        }
      ]
    },
    {
      "cell_type": "code",
      "source": [
        "inmuebles['Precio'].sum()"
      ],
      "metadata": {
        "colab": {
          "base_uri": "https://localhost:8080/",
          "height": 179
        },
        "id": "qwRAIGd9OCYq",
        "outputId": "9aa9a2de-4fd1-4145-cb8f-a0fa48a016aa"
      },
      "execution_count": null,
      "outputs": [
        {
          "output_type": "execute_result",
          "data": {
            "text/plain": [
              "'360.000.000670.000.0001.120.000.000890.000.000970.000.000510.000.000500.000.0002.350.000.000850.000.000642.000.000652.000.000168.000.000205.000.000300.000.000680.000.0002.519.000.000420.000.000620.000.000239.000.0001.600.000.000420.000.000625.000.0002.799.000.0001.450.000.0002.000.000.000670.000.0001.800.000.000469.000.000580.000.000445.000.000261.500.000278.000.000258.000.000520.000.000200.000.000129.000.000350.000.000290.500.000750.000.000495.000.000285.000.000900.000.0001.800.000.000990.000.000418.000.000349.000.000565.000.000370.000.000259.000.000310.000.000354.000.000372.000.000500.000.000420.000.0001.050.000.000185.000.000349.000.000515.000.000287.000.000265.000.000500.000.000261.500.000300.000.000278.000.000258.000.000520.000.000350.000.000290.500.000129.000.000200.000.000750.000.000418.000.000495.000.000349.000.000310.000.000565.000.000370.000.000259.000.000354.000.000285.000.000420.000.000372.000.000500.000.000185.000.0001.050.000.000349.000.0001.800.000.000900.000.000990.000.000225.000.000148.000.000331.500.000300.000.0001.030.000.000195.000.000200.000.000168.000.000323.000.000275.000.000510.000.000176.000.000680.000.000680.000.000217.000.0001.050.000.000375.000.000458.000.0002.000.000.000425.000.000318.000.000660.000.000730.000.000140.000.000343.000.000385.000.0001.300.000.0001.195.000.000519.000.000350.000.000202.000.000429.000.000640.000.000435.000.000610.000.000650.000.000421.000.0001.300.000.000155.000.000530.000.000330.000.000225.000.000143.000.000245.500.000433.000.000315.000.000450.000.000350.000.000205.000.0001.200.000.000169.000.000375.000.000460.000.000308.000.0001.100.000.000400.000.000860.000.0001.650.000.000565.000.000238.000.000503.000.000330.000.000400.000.0001.650.000.000580.000.000503.000.000635.000.000499.000.000371.000.000179.000.000348.200.000238.000.000173.000.000257.000.0001.100.000.000298.500.000680.000.000680.000.000217.000.0001.050.000.000375.000.000660.000.000318.000.000458.000.000425.000.0002.000.000.000343.000.000730.000.000140.000.0001.300.000.000385.000.000369.000.000366.000.000378.000.000355.000.000700.000.000990.000.000600.000.000516.000.000350.000.000475.000.000749.000.0001.195.000.000498.000.000269.000.000153.000.000335.000.000399.000.000373.000.000415.000.0001.550.000.000460.000.000225.000.000200.000.000234.000.000199.000.000450.000.0001.400.000.000202.000.000350.000.000519.000.000310.000.000355.000.000545.000.000720.000.000650.000.000343.000.000127.000.000370.000.000162.000.0001.560.000.000136.000.000265.000.000131.000.000416.000.000161.000.000900.000.000389.000.000190.000.000139.000.000319.000.000327.000.000474.500.000308.000.000720.000.000310.000.000177.500.0001.200.000.000380.000.000210.000.0001.290.000.000320.000.000445.000.000340.000.000510.000.000465.000.000220.000.000337.000.000260.000.000445.000.000290.000.000342.514.000625.000.000490.000.000350.000.000444.150.000360.000.000370.000.000150.000.000232.500.000271.000.000450.000.000163.500.000390.000.000300.000.000406.000.000465.000.000390.000.000175.000.000445.000.000422.000.000690.000.000445.000.000357.000.000465.000.000164.000.000300.000.000406.000.0001.700.000.000570.000.000460.000.000960.000.000510.000.000520.000.000142.000.000750.000.000160.000.000445.000.000570.000.000319.981.523510.000.000380.000.000134.000.000120.000.000460.000.000560.000.000351.000.0001.390.000.000422.000.000260.000.000980.000.000116.100.000980.000.000237.000.000320.000.000530.000.000503.000.000117.000.0001.300.000.000477.000.000450.000.000515.000.000730.000.000600.000.000480.000.000560.000.000308.000.000365.000.0001.200.000.000371.000.000850.000.000428.000.000421.000.000650.000.000295.000.000144.000.000280.000.000162.000.000620.000.0001.200.000.000360.000.000350.000.000650.000.000560.000.000295.000.000413.500.0001.200.000.000370.000.000600.000.000390.000.000447.500.000132.000.000180.000.000285.000.000620.000.000400.000.0001.380.000.000335.238.800820.000.000545.000.000217.000.000495.000.000330.000.000570.000.000280.000.0002.000.000.000390.000.000311.000.000164.000.000510.000.000319.000.000510.000.000303.960.000387.000.000390.000.000315.000.000245.000.000136.000.000151.000.000129.500.000150.000.000360.000.000141.000.000371.000.000272.000.000113.000.000237.000.000122.000.000243.000.000420.000.000125.000.000134.000.000177.000.000116.000.000930.000.000390.000.000490.000.000449.964.000650.000.000420.000.000600.000.000800.000.000134.000.000298.000.000315.000.000162.000.0002.570.000.000375.000.000400.000.000330.000.000447.500.000167.500.000125.000.000400.000.000310.000.000287.000.000516.000.000416.000.000144.000.000192.000.000290.000.000121.500.000413.500.000570.000.000110.000.000508.000.000124.000.000185.000.000290.000.000495.000.000750.000.000327.000.000390.000.000290.000.000310.000.000278.000.000330.000.000490.000.000249.000.000180.000.000370.000.000134.000.000450.000.000340.000.000144.000.000120.000.000131.000.000138.000.000357.000.000316.000.000162.000.000155.000.000290.000.000474.000.000295.000.000127.000.000390.000.000262.000.000117.000.0001.200.000.000990.000.000383.045.000371.000.000516.500.000750.000.000282.000.000371.000.000110.000.000144.000.000357.000.000134.000.000160.000.000850.000.000120.000.000116.000.000250.000.000111.000.000107.000.000123.000.000347.000.000400.000.000300.000.000141.000.000277.000.000420.000.000275.000.000850.000.000390.000.000445.000.000310.000.000277.000.000290.000.000347.000.000123.000.000340.000.000156.000.000395.000.000245.000.000130.000.000136.000.000476.500.000476.500.000225.000.000165.000.000451.000.000307.000.000138.000.000180.000.000620.000.000398.000.000276.000.000750.000.000245.000.000555.000.000450.000.000370.000.000162.000.000173.000.000629.000.000220.000.000390.000.000390.000.000314.000.000170.000.000200.000.000251.000.000168.000.000200.000.000340.000.000103.000.000230.000.0001.200.000.000355.000.000600.000.000378.300.0001.900.000.000160.000.000650.000.000102.000.000148.000.000500.000.000131.000.000142.000.000389.000.000522.500.000465.000.0001.250.000.000235.000.000164.000.000416.000.000318.000.000180.000.000390.000.000258.500.000205.000.000192.000.000522.500.000235.000.0001.250.000.000240.000.000320.000.000116.100.000224.000.000192.000.000250.000.000500.000.000345.000.000256.500.000323.000.000150.000.000245.000.000850.000.000127.000.000210.000.000354.000.000281.000.000200.000.000500.000.000300.000.000400.000.000330.000.000163.000.000430.000.000330.000.000320.000.000281.000.000850.000.000210.000.000127.000.000260.000.000525.000.000760.000.000387.000.000360.000.000246.000.000319.000.000190.000.000500.000.0001.400.000.000491.000.000970.000.000145.000.000420.000.000660.000.000515.000.000520.000.000770.000.000495.000.000160.000.000134.000.000489.900.000310.000.000270.000.000600.000.000261.500.000440.000.000372.000.000270.000.000880.000.000500.000.000590.000.000615.000.000131.000.000131.000.000131.000.000145.000.000125.000.000820.000.000319.000.000131.000.000142.000.000150.000.000125.000.000261.500.000248.000.000311.000.000620.000.000491.000.000460.000.000416.000.000216.000.000505.000.000492.000.000408.000.000245.000.000550.000.000177.000.000575.000.000270.000.000150.000.000270.000.000750.000.000880.000.000215.625.000176.000.000404.000.000250.000.000237.000.000340.000.000466.000.0002.900.000.000168.000.000168.000.000508.000.000160.000.000230.000.000426.000.000520.000.0003.500.000.000535.000.000373.000.000354.000.000245.000.000250.000.000500.000.000256.500.000210.000.000850.000.000525.000.000760.000.000260.000.000163.000.000430.000.000320.000.000330.000.000246.000.000300.000.000387.000.000360.000.000220.000.000193.000.000410.000.000247.990.000127.000.000281.000.000345.000.000183.000.000319.000.000500.000.000160.000.000270.000.000435.600.000491.000.000565.000.000159.000.000500.000.000322.000.000186.000.000444.000.000390.000.000202.000.000175.000.000190.000.000175.000.000386.990.000163.000.000530.000.000298.000.000238.000.000550.000.000145.000.000163.000.000570.000.000425.000.000330.700.000485.000.000500.000.000150.500.000367.000.000371.000.000394.500.000680.000.000600.000.000420.000.0001.650.000.000478.000.0001.350.000.000460.000.000455.000.000950.000.000620.000.000730.000.000800.000.000115.000.000503.000.000351.000.000325.000.000520.000.000330.000.000660.000.000570.000.000970.000.000450.000.000730.000.000400.000.000165.000.000630.000.000280.000.000315.000.000780.000.000138.000.000220.000.000300.000.000140.000.000425.000.000149.000.000163.000.000225.000.000332.000.000355.000.000136.000.000233.000.000350.000.000310.000.000450.000.000500.000.000340.000.000430.000.000258.000.000300.000.000745.000.000410.000.000440.000.000260.000.000600.000.000685.000.000870.000.000565.000.000460.000.000215.000.000400.000.000460.000.000215.000.000205.000.000280.000.000170.000.0001.050.000.000285.000.000530.000.0001.200.000.000800.000.000280.000.000280.000.000240.000.000290.000.000600.000.000250.000.000160.000.000550.000.000240.000.000315.000.000280.000.000400.000.000750.000.000520.000.000250.000.000440.000.000960.000.0002.200.000.000630.000.000970.000.0003.500.000.000265.500.000394.058.882220.000.000380.000.000509.395.301389.227.370300.000.000252.000.000233.000.000350.000.000175.000.000275.000.000330.000.000160.000.000510.000.000510.000.000495.000.000272.000.000312.000.000255.000.000317.000.000365.000.000510.000.000473.000.000272.000.000326.000.000245.000.000130.000.000250.000.000700.000.000444.000.000296.000.000565.000.000335.000.000498.000.000495.000.000342.000.000505.000.000295.000.000150.000.000450.000.000300.000.000534.000.000390.000.000500.000.000560.000.000490.000.000480.000.000190.000.000580.000.000118.000.000110.000.000420.000.000195.000.000491.000.0001.110.000.000350.000.000310.000.000490.000.0001.399.000.000400.000.000815.000.000160.000.000300.000.000280.000.000295.000.000175.000.000360.000.000550.000.000900.000.000519.000.000495.000.000840.000.0002.200.000.000720.000.000350.000.0001.350.000.000320.000.000650.000.000868.000.000305.000.000475.000.0001.200.000.000125.000.0001.800.000.000370.000.000480.000.000880.000.000483.000.000329.000.000198.000.000483.000.000530.000.000500.000.000491.000.000479.000.000519.000.000178.000.000491.000.000168.000.0001.000.000.000340.500.000366.000.000265.000.000500.000.000210.000.000388.000.000413.500.000282.000.000298.000.000350.000.000915.000.000240.000.000450.000.000237.000.000212.500.000535.000.000451.000.000499.800.000535.000.000550.000.000296.000.000530.000.000421.000.000435.800.000561.000.000167.000.000600.000.000530.000.0001.295.000.000474.500.000500.000.000347.000.000257.000.000315.000.000375.000.000311.000.000490.000.000600.000.000350.000.000330.000.000330.000.000490.000.000550.000.000850.000.000620.000.0001.200.000.000325.000.000460.000.000125.000.0001.550.000.000165.000.000750.000.000280.000.000220.000.000850.000.000155.000.000290.000.000212.500.000190.080.000390.000.000136.000.0001.250.000.000155.000.0001.300.000.0001.250.000.000278.000.000580.000.000340.000.000580.000.0001.500.000.000385.000.000355.000.000445.000.000740.000.0001.190.000.000173.000.000950.000.000355.000.000870.000.000740.000.000445.000.0001.500.000.000385.000.000640.000.000225.000.000137.000.000184.900.000154.000.000340.000.000104.000.000356.000.000460.000.000382.100.0001.700.000.000485.000.000370.000.000438.000.000230.000.000181.000.000113.000.000418.000.000311.000.000162.000.000176.000.000390.000.000136.000.0001.250.000.000155.000.0001.300.000.0001.250.000.000278.000.000580.000.000340.000.000580.000.0001.500.000.000385.000.000355.000.000445.000.000740.000.0001.190.000.000950.000.000144.000.000480.000.0001.080.000.0001.050.000.000178.000.000173.000.000870.000.000154.000.000340.000.000104.000.000225.000.000640.000.000184.900.000240.000.000400.000.000380.000.000260.000.000290.000.0001.350.000.000290.000.000530.000.000540.000.000290.000.000648.000.000300.000.000600.000.000520.000.000520.000.0001.200.000.000470.000.000250.000.000350.000.000322.000.000230.000.000435.000.000289.000.000168.000.000665.000.0004.200.000.000435.000.000580.000.000950.000.000350.000.000749.000.0001.100.000.000720.000.000360.000.0001.400.000.0001.200.000.000260.000.000315.000.000485.000.000380.000.000395.000.000145.000.000795.000.000215.000.0006.100.000.000370.000.000460.000.000910.000.000936.000.000270.000.000415.000.000399.000.000650.000.000970.000.0001.750.000.000510.000.000970.000.0008.800.000.000230.000.000600.000.000630.000.000200.000.000750.000.000489.000.000300.000.000155.500.0001.800.000.0002.100.000.000690.000.000499.000.000330.000.000495.000.000520.000.000470.000.000425.000.000480.000.000348.000.0001.300.000.000980.000.000950.000.000850.000.000650.000.0001.300.000.000260.000.000470.000.000495.000.000665.000.000980.000.000680.000.000495.000.000430.000.000800.000.0001.000.000.000890.000.0001.050.000.000525.000.000290.000.0001.100.000.000380.000.000560.000.000565.000.000570.000.000810.000.000340.000.000420.000.000465.000.000380.000.000484.000.000180.000.000160.000.000160.000.000980.000.000790.000.000790.000.000580.000.000200.000.000890.000.000680.000.000500.000.000400.000.0001.390.000.000220.000.0001.300.000.000280.000.000340.000.000347.000.000980.000.000175.000.000400.000.000825.000.000550.000.0002.000.000.000300.000.0001.100.000.000168.000.000600.000.000390.000.000390.000.000120.000.000390.000.000400.000.000140.580.0001.340.000.000360.000.0001.600.000.0001.200.000.000299.500.000850.000.000322.000.000600.000.000178.000.000160.000.0001.150.000.000290.000.0001.360.000.000601.000.000620.000.000417.780.000422.000.000350.000.000260.000.000280.000.000316.000.000357.000.000630.000.000317.000.000750.000.000220.000.000245.000.000247.000.000319.500.000250.000.000920.000.0003.600.000.000610.000.000430.000.000600.000.000178.000.000160.000.0001.150.000.000290.000.0001.360.000.000601.000.000620.000.000417.780.000422.000.000350.000.000260.000.000280.000.000225.000.000485.000.000325.000.000257.000.000129.000.000135.000.000296.000.000185.000.000209.500.000320.000.000236.000.000144.000.000149.000.000110.000.000335.000.000750.000.000510.000.000135.000.000185.000.000296.000.000209.500.000244.000.000425.000.0002.200.000.000371.000.000245.000.000275.000.000245.000.0001.350.000.000280.000.0002.150.000.000477.000.000675.000.000720.000.0001.250.000.000340.000.000260.000.000549.000.000400.000.000425.000.000280.000.000300.000.000264.000.000550.000.000620.000.000350.000.000245.000.000408.000.0001.120.000.000200.000.000320.000.0003.000.000.000404.000.000549.000.000618.000.0004.200.000.000406.000.000310.000.000810.000.0002.750.000.000330.000.000450.000.0001.800.000.000135.000.0001.650.000.000690.000.0008.550.000.000180.000.000249.000.000347.000.0003.900.000.000610.000.000160.500.000255.000.0003.300.000.000335.000.000189.000.000385.000.000189.000.000240.000.000294.000.000520.000.000475.000.000990.000.000289.000.000495.000.000666.000.000560.000.000518.000.0001.500.000.000170.000.000210.000.000178.000.0001.630.000.000450.000.000435.600.000257.000.000830.000.000485.000.000550.000.000530.000.000290.000.000380.000.000270.000.000480.000.000650.000.000187.000.000200.000.000205.000.000222.750.000486.000.000540.000.000130.000.000587.000.000150.000.000416.790.0001.250.000.000320.000.000540.000.000469.755.000138.000.000300.000.000300.000.0001.050.000.000430.000.000153.000.000420.750.000310.000.000287.000.000634.000.000125.000.000225.000.000374.500.000800.000.000900.000.000640.000.000210.000.000800.000.000327.000.000471.990.000519.800.000282.000.000311.000.000377.350.000316.000.000500.000.000528.000.000398.000.000300.000.000258.000.000356.000.000399.000.000336.000.000545.000.000570.000.000340.000.000451.000.000253.500.000370.990.000440.000.000385.000.000336.000.000357.400.000417.990.000480.650.000550.000.0002.200.000.000440.000.000357.400.000550.000.000163.000.000260.000.000417.990.000670.000.000379.990.000290.000.000500.000.000319.500.000180.000.000290.000.000472.000.000499.990.000559.947.000477.000.000270.000.000292.000.000419.990.000495.000.007276.000.000462.000.000288.000.000480.000.000479.030.000480.000.000534.000.000350.000.000458.000.000522.400.000480.000.000450.000.000322.000.000420.000.000395.990.0001.300.000.000685.000.000491.000.000520.000.000380.000.000633.900.000485.000.000530.000.000213.000.0002.500.000.000466.000.000160.000.000680.000.000432.990.000292.000.000170.000.000310.000.000570.000.000535.000.0001.250.000.000515.000.0002.700.000.000195.000.000325.000.000210.000.000350.000.000192.500.000337.000.000350.000.000311.000.0001.300.000.000940.000.000280.000.000340.000.000550.000.000472.000.000510.000.000380.000.000255.000.000290.000.000390.000.0001.400.000.000330.000.000140.000.000155.000.000680.000.0001.100.000.000360.000.000425.000.000147.000.000190.000.000120.000.000420.000.000505.000.000130.000.0001.380.000.000420.000.000550.000.000420.000.000310.000.000580.000.000980.000.000270.000.000435.000.000900.000.000490.000.000380.000.000660.000.000850.000.0001.550.000.000390.000.000230.000.000620.000.000180.000.000900.000.000660.000.000455.000.000450.000.000700.000.0002.300.000.000280.000.000930.000.000850.000.000980.000.000480.000.000840.000.000410.000.000520.000.000390.000.000535.000.000374.000.000117.000.000520.000.000274.600.000362.000.000601.000.000200.000.000183.000.000260.000.000230.000.000130.000.000300.000.000495.000.000170.000.000650.000.000485.200.000840.000.000520.000.0003.300.000.000420.000.000699.000.0001.150.000.000480.000.000282.000.000450.000.000365.000.000800.000.000483.000.000514.990.000500.000.000850.000.000350.000.000280.000.0003.300.000.000340.000.000609.800.000346.990.000339.000.000116.000.000230.000.0001.100.000.000680.000.000133.200.000423.000.000586.700.0001.080.000.000748.900.000339.000.000370.000.000270.000.000500.000.000268.000.000310.000.000372.760.0001.150.000.0001.500.000.000486.990.000282.000.000450.000.0001.600.000.000305.000.000800.000.000420.000.000480.000.000250.000.000315.000.000120.000.000290.000.000365.000.000800.000.000483.000.000500.000.000346.990.000339.000.000609.800.000514.990.000340.000.000133.200.000680.000.000339.000.0001.100.000.0003.300.000.000445.000.000190.000.000210.000.000510.000.000477.000.000290.000.000406.000.000267.990.000423.000.000296.000.000268.000.000165.000.000500.000.000255.000.000142.000.000365.000.000167.000.000375.000.000287.990.000498.900.000740.000.000270.000.000305.000.000580.000.000327.000.000214.830.0001.500.000.000350.000.000530.000.000310.000.0001.150.000.000372.760.0001.800.000.000520.000.000165.000.000160.000.000600.000.000170.000.000820.000.0001.200.000.000883.000.000750.000.000495.000.000300.000.000220.000.000365.000.000630.000.000490.000.000485.000.000580.000.0001.340.000.000665.000.000490.000.000580.000.000375.000.000470.000.000266.000.000485.000.0001.700.000.0001.400.000.000398.000.000540.000.000350.000.000960.000.000650.000.000420.000.000165.000.000360.000.000850.000.000795.000.000410.000.0001.100.000.000498.000.000345.000.000780.000.000195.000.000295.000.000600.000.000190.000.000193.000.000610.000.000950.000.000700.000.000395.000.000320.000.000560.000.000275.000.000800.000.000360.000.000750.000.000202.000.000565.000.000490.000.000465.000.000300.000.000780.000.000170.000.0001.200.000.000450.000.000770.000.000345.000.0001.300.000.000387.000.000850.000.000200.000.0001.700.000.000699.000.000800.000.000275.000.000265.000.000650.000.000347.000.000560.000.000275.000.000800.000.000331.500.000296.000.000288.000.000410.000.000240.000.000350.000.000235.000.000182.000.000685.000.000830.000.0001.000.000.000740.000.000845.000.000860.000.0003.300.000.000950.000.000720.000.000250.000.000350.000.000235.000.0001.550.000.000365.000.000509.395.301495.000.000400.000.0001.144.253.0001.379.000.0001.393.529.000260.000.000642.437.0001.226.400.000155.000.000175.000.000169.000.000150.000.000360.000.000125.000.000500.000.000365.000.000330.000.000530.000.000485.000.000500.000.000515.000.000518.000.000409.365.000515.000.000447.500.000504.900.000500.000.000360.000.000480.000.0001.789.000.000747.552.8001.400.000.000153.000.000430.000.000490.000.00013.200.000.000900.000.000698.000.0001.385.733.652450.000.0001.200.000.0002.190.000.000875.000.0001.300.000.000500.000.000504.900.000447.500.000360.000.000165.000.000595.000.0001.344.332.0001.860.000.000550.000.000594.000.000711.582.986680.000.0002.333.673.498845.000.000620.000.000385.000.0001.722.400.0001.250.000.0001.250.000.000989.000.000340.000.000225.000.000820.000.000650.000.0001.350.000.000700.000.000450.000.000550.000.000430.000.000280.000.000160.000.000320.000.0002.400.000.000195.000.000200.000.000650.000.000200.000.0001.500.000.000160.000.0001.500.000.000420.000.000450.000.000490.000.0001.800.000.000490.000.000238.000.000870.000.000285.000.000630.000.000990.000.000220.000.000485.000.000235.000.000249.900.000492.134.0001.400.000.000525.000.000820.000.000695.000.000630.000.0001.600.000.000470.500.000243.000.000495.000.000440.000.000157.200.0001.700.000.000375.000.000143.000.000900.000.000630.000.000750.000.000490.000.0002.000.000.000490.000.0001.359.000.0001.100.000.000270.000.000398.800.000878.200.000340.000.000363.000.000260.000.000260.000.000290.000.000600.000.000555.000.000730.000.000500.000.000340.000.000520.000.000750.000.000463.000.0002.300.000.000288.000.000231.298.464450.000.0001.100.000.000250.000.000380.000.000425.000.000750.000.000350.000.0001.200.000.000241.280.000330.000.000232.483.200890.000.000240.000.000486.000.000236.000.000939.275.008750.000.000750.000.000645.000.000395.500.000420.000.000170.000.000390.000.000285.000.000480.000.000260.000.000590.000.000270.000.000630.000.000765.000.000510.000.000386.000.000253.100.000360.000.000374.500.000415.000.000439.000.000144.000.000462.500.000449.000.000450.000.000872.000.000370.000.000142.500.000146.500.000147.000.000164.000.000325.000.000396.000.000396.000.000430.000.000488.000.000750.000.000406.500.000415.000.000579.000.000660.000.0001.500.000.000900.000.000640.000.000379.000.000580.000.0001.580.000.0002.800.000.000700.000.000345.000.000600.000.0005.299.999.744240.000.000432.000.000680.000.000630.000.000335.000.000233.000.000310.000.00094.500.000220.000.000310.000.000410.000.000466.000.000385.000.000415.000.000185.000.000298.500.000930.000.000820.000.000700.000.000425.000.0002.300.000.000850.000.000370.000.0002.600.000.000800.000.000828.400.000310.000.000160.000.0001.100.000.000365.000.000599.000.000220.000.000350.000.0001.350.000.000250.000.000165.000.000520.000.000950.000.000365.000.000690.000.000158.000.000410.000.000580.000.000237.000.000220.000.0001.300.000.000380.000.000594.000.0001.900.000.0001.690.000.0002.400.000.000320.000.0001.300.000.0002.200.000.0002.500.000.0001.050.000.0001.180.000.000360.000.000590.000.000740.607.900250.000.0002.950.000.0001.180.000.000280.000.000639.000.0002.300.000.000144.000.000890.000.000580.000.0001.350.000.000895.000.0002.600.000.000100.000.000270.000.000340.000.000438.000.000780.000.000111.500.000229.000.000350.000.000150.000.000380.000.000170.000.000338.000.000384.000.000311.000.000469.000.000800.000.000170.000.000235.000.000449.500.000270.164.320680.000.000419.000.000680.000.00094.500.000628.000.000520.000.000360.000.000160.000.000460.000.000320.000.000640.000.0001.484.999.936330.000.000750.000.0002.500.000.000670.000.0001.200.000.000400.000.000750.000.000390.000.000800.000.000580.000.000550.000.000165.000.000580.000.000750.000.000990.000.000345.000.0003.200.000.000350.000.000610.000.000599.000.000205.000.000279.280.1601.400.000.0003.149.100.0323.149.100.032280.000.000251.000.0001.200.000.000500.000.000500.000.0005.800.000.000379.000.000680.000.000240.000.000377.000.000197.000.000590.000.0003.627.099.9041.150.000.000230.000.000260.000.0001.700.000.000134.135.000109.700.000324.100.000430.000.0001.100.000.000310.000.000220.000.000425.000.000230.000.000440.000.0003.400.000.000415.000.0001.200.000.000590.000.000280.000.000255.000.0001.600.000.0001.000.000.000331.000.000720.000.000160.000.000200.000.000474.000.000320.000.000500.000.000430.000.0002.200.000.000776.000.000400.000.000450.000.000370.000.000370.000.000175.000.000175.000.0001.650.000.000165.000.000950.000.0001.200.000.000850.000.000700.000.000599.000.000330.000.000120.000.000700.000.000150.000.000750.000.000485.000.000450.000.000555.000.0001.100.000.000170.000.000485.000.0005.299.999.744350.000.0001.200.000.000670.000.0001.100.000.000245.000.000620.000.000690.000.000800.000.000950.000.0001.600.000.000199.000.000460.000.000270.000.000730.000.000650.000.000540.000.000530.000.000389.000.000650.000.000610.000.000174.000.000302.000.000620.000.000285.000.000338.000.000388.500.000406.500.0001.195.000.000530.000.000510.000.000248.500.000465.000.0001.150.000.000550.000.000360.000.0001.250.000.000380.000.000600.000.000430.000.000380.000.000590.000.000350.000.000215.000.000233.000.000930.000.000430.000.000340.000.000280.000.000150.000.000185.000.0001.000.000.000850.000.000310.000.000750.000.000223.000.000370.000.000750.000.0002.470.000.128660.000.000360.000.000223.000.000345.000.000590.000.000730.000.000724.460.000499.000.0002.080.000.000320.000.00084.000.000129.800.000332.500.000600.000.000129.800.000670.000.000199.900.0001.250.000.000699.927.0001.500.000.000775.564.000206.375.776145.000.000470.000.000332.500.000280.500.000157.200.000650.000.0001.100.000.000235.000.000330.000.000470.500.000497.391.000395.000.000157.200.000206.375.776350.000.000155.000.000322.000.000795.000.000157.200.000384.000.000249.900.000249.900.000950.000.000650.000.0002.500.000.0002.400.000.000525.000.0001.740.000.000350.000.0001.970.000.000439.300.000980.000.0001.500.000.000340.000.0001.500.000.000595.000.000120.000.000435.000.000332.000.000575.000.00099.920.000960.000.000770.000.000460.000.0001.000.000.000455.000.000135.000.000897.000.000323.100.000450.000.000250.000.0001.850.000.000152.000.000259.100.000407.342.016130.000.000168.000.0001.246.000.000500.000.000145.000.000120.000.000900.000.0001.200.000.000250.000.000140.000.000385.000.000160.000.000550.000.000580.000.000315.000.000355.000.000400.000.000650.000.000620.000.000400.000.000550.000.000160.000.000731.000.000670.000.0001.050.000.0002.500.000.000750.000.000130.000.000250.000.000160.000.0001.000.000.0001.500.000.000165.000.000615.000.000252.000.000345.000.000550.000.000270.000.000350.000.000350.000.000350.000.000142.000.000249.500.000325.000.000249.000.000298.500.000400.000.0001.330.000.000600.000.000117.000.0001.014.570.000185.000.000185.000.0001.100.000.000470.000.000720.000.0002.095.000.064360.000.0003.200.000.000420.000.000230.000.000233.000.000199.000.000350.000.000320.000.000311.000.000380.000.000100.000.000400.000.000145.000.000474.500.000290.000.000343.000.000620.000.000143.000.000330.000.000197.000.0001.500.000.000498.431.000550.000.000650.000.000327.900.000800.000.000850.000.000690.000.0001.500.000.000900.000.0001.300.000.000830.000.0001.400.000.000340.000.000550.000.000770.000.0002.200.000.0005.500.000.000500.000.0001.600.000.0002.100.000.000350.000.000160.000.0001.450.000.000450.000.000384.500.0001.010.000.000169.500.000275.000.000462.000.000394.500.000368.000.000382.000.000295.000.000155.000.000404.000.0001.250.000.000395.000.000205.000.000453.500.000262.000.000270.000.000420.000.000162.000.000350.000.000384.000.0001.500.000.0001.350.000.000365.000.000310.000.000228.000.000680.000.000310.000.000950.000.000420.000.000430.000.000895.000.000435.000.000897.000.000430.000.000390.000.000360.000.000350.000.000520.000.000330.000.000360.000.0001.090.000.000390.000.0003.300.000.000220.000.000420.000.000790.000.000720.000.000290.000.0004.200.000.000800.000.000520.000.000155.000.000320.000.000136.000.000395.000.000860.000.0002.700.000.000390.000.000995.000.000390.000.0001.500.000.000700.000.000470.000.000140.000.0001.700.000.0002.500.000.000750.000.000280.000.000140.000.000850.000.0001.300.000.00090.000.0003.000.000.000500.000.000120.000.0002.500.000.0002.500.000.000998.000.000914.300.000250.000.000850.000.0001.200.000.000280.000.000580.000.000170.000.000237.000.000245.000.000181.000.000455.000.000150.000.000155.000.000460.000.000540.000.000340.000.000278.000.000790.000.000600.000.000319.000.000177.000.000575.000.000700.000.000132.000.000413.500.000412.000.000120.000.000620.000.0004.200.000.000150.500.000900.000.000230.000.00096.000.000270.000.000270.000.000315.000.000447.500.000150.000.000800.000.000720.000.000440.000.000844.000.000360.000.000200.000.000500.000.0001.500.000.000474.500.0001.500.000.000240.000.000680.000.000660.000.0001.400.000.0004.500.000.000645.000.000980.000.000420.000.000390.000.000240.000.0002.530.000.0005.200.000.000638.000.0001.200.000.0001.100.000.000430.000.0002.400.000.0004.238.000.000380.000.000278.000.000979.999.0001.590.000.000500.000.000850.000.000960.000.000162.000.000400.000.000740.000.0002.250.000.000800.000.000155.000.000580.000.0002.500.000.000357.000.000599.000.0001.950.000.000880.000.000470.000.000147.000.000215.000.0001.700.000.000205.000.000200.000.0003.200.000.000840.000.000743.710.000834.460.000160.000.000270.000.000570.000.000170.000.000990.000.000398.000.0001.400.000.0001.900.000.000720.000.0001.150.000.0001.350.000.000535.000.000500.000.000240.000.0001.200.000.000310.000.000350.000.000320.000.0001.450.000.0002.200.000.000242.000.000350.000.000400.000.000185.000.000485.000.000494.000.000270.000.0001.200.000.000980.000.0001.350.000.000850.000.000256.000.000340.000.000385.000.0002.900.000.000970.000.0001.350.000.000240.000.0007.000.000.0002.650.000.0001.100.000.0002.700.000.0002.500.000.0001.200.000.000230.000.000540.000.000710.000.000610.000.000170.000.0001.700.000.000240.000.0001.299.000.000900.000.000780.000.0002.500.000.000750.000.000495.000.000650.000.0001.000.000.000330.000.000630.000.000850.000.000850.000.000950.000.000900.000.0005.250.000.0001.750.000.000380.000.000960.000.000460.000.0002.755.500.0001.700.000.0001.550.000.000335.000.000590.000.000590.000.000390.000.000265.000.000150.000.000459.000.0002.850.000.000531.000.0001.650.000.0001.200.000.0001.499.999.000405.000.000430.000.000500.000.000560.000.000620.000.000540.000.000550.000.000800.000.000950.000.000525.000.000846.000.000635.000.000345.000.000880.000.000960.000.000460.000.000330.000.000260.000.000430.000.0001.580.000.000540.000.000190.000.000700.000.0003.900.000.0001.200.000.000380.000.000230.000.0001.400.000.000450.000.000920.000.000580.000.000440.000.000980.000.000750.000.000385.000.000450.000.000432.000.000800.000.000410.000.000890.000.000760.000.000206.000.000225.000.0001.800.000.000160.000.000980.000.000592.500.000594.000.000285.000.0001.100.000.0001.800.000.000477.000.000620.000.000650.000.000355.000.000498.000.0001.450.000.000125.000.000660.000.000680.000.000680.000.0001.193.390.000460.000.000795.000.000679.000.000255.000.000190.000.000170.000.000900.000.000530.000.000230.000.000850.000.000450.000.000360.000.000143.000.000806.000.000700.000.000480.000.000500.000.0002.200.000.000280.000.000480.000.000500.000.000508.000.000343.000.000375.000.000310.000.000280.000.000480.000.000350.000.000340.000.000250.000.000260.000.0001.150.000.000300.000.000650.000.000482.000.000129.690.000145.000.000136.000.000150.000.000393.000.000183.000.000136.000.000134.000.000124.000.000129.000.000124.000.000650.000.000155.000.000150.500.000128.000.000128.000.000128.000.000196.000.000196.000.0002.300.000.000690.000.0001.100.000.000550.000.000570.000.000195.000.000350.000.000749.999.999375.000.000535.000.000215.000.000320.000.000160.000.000600.000.000180.000.000130.000.000125.500.000340.000.000131.000.000136.000.000116.000.000136.000.000130.000.000127.500.000145.000.000126.500.000128.500.000155.000.000125.000.000125.000.000150.000.000147.300.000125.730.000150.000.000120.800.000150.000.000102.000.000174.000.000680.000.000720.000.000240.000.000468.270.000145.000.000790.000.0003.807.000.0001.000.000.000450.000.000499.000.000360.000.000310.000.000790.000.000365.000.000210.000.000780.000.000425.000.0001.200.000.0001.000.000.000430.000.000410.000.000700.000.000850.000.0001.500.000.000140.000.000450.000.0001.650.000.0001.250.000.000285.000.000880.000.0001.250.000.000153.000.000850.000.0001.500.000.000323.000.000285.000.000552.600.000430.000.0001.700.000.000182.000.000479.030.000125.000.000176.000.000148.000.000155.000.000136.000.000130.000.000122.000.000148.000.000120.800.000134.000.000125.500.000102.000.000129.000.000450.000.000136.000.000147.300.000332.000.000150.000.000130.000.000205.000.000128.000.000129.000.000126.500.000102.000.000120.800.000131.000.000148.000.000122.000.000142.000.000125.500.000134.000.000125.000.000136.000.000136.000.000126.500.000147.300.000142.000.000280.400.000120.800.000122.000.000125.000.000125.000.000150.000.000136.000.000134.000.000134.000.000159.000.000159.000.000550.000.000880.000.000165.000.0004.250.000.0001.500.000.000600.000.000450.000.000154.000.000550.000.000350.000.000395.000.000464.000.0001.200.000.000160.000.000152.000.000270.000.0009.200.000.000262.000.000543.000.0003.500.000.000275.000.000812.955.500880.000.000745.000.000980.000.0001.500.000.000800.000.000157.000.000150.000.000310.000.000136.000.000153.500.000125.000.000130.000.000128.000.000153.500.000125.500.000134.000.000130.000.000128.000.000150.000.000124.000.000147.300.000131.000.000148.000.000128.000.000128.000.000120.800.000155.000.000134.000.000131.000.000147.300.000124.000.000153.500.000124.000.000129.000.000120.800.000129.000.000129.000.000150.000.000385.000.000188.000.000277.000.000232.000.000285.000.000442.436.000508.000.0003.500.000.000270.000.000411.000.000270.000.000318.000.000298.500.000280.000.000860.000.000116.000.000120.000.0001.100.000.000410.000.000800.000.000516.742.260520.000.000280.000.0001.670.000.0002.000.000.000359.000.0002.900.000.0005.000.000.0001.650.000.0001.070.000.000385.000.000600.000.000299.000.000460.000.000450.000.000354.000.000860.000.000298.500.000280.000.000270.000.000318.000.0001.280.000.0001.900.000.000335.000.000980.000.000450.000.0001.000.000.0002.150.000.0001.100.000.0002.500.000.000400.000.000470.000.000250.000.000510.000.000550.000.000175.000.000650.000.0003.400.000.0001.250.000.0001.100.000.000133.000.000750.000.0001.800.000.000330.000.000188.000.000170.000.000128.000.000540.000.000270.000.000365.000.000382.000.000280.000.000750.000.0001.700.000.000130.000.0001.150.000.000470.000.000350.000.000200.000.0002.200.000.000430.000.000436.000.000429.000.000825.000.000348.000.0001.300.000.000575.000.0001.380.000.000367.500.000251.000.000429.000.000430.000.000436.000.000382.000.000330.000.000380.000.000750.000.000310.000.000800.000.0001.700.000.000750.000.0001.800.000.000280.000.000188.000.000470.000.000200.000.000635.000.000170.000.000778.000.000130.000.0001.150.000.000350.000.000270.000.000365.000.000128.000.000160.000.000540.000.000133.000.000199.000.000750.000.000220.000.000249.000.000365.000.000328.000.000540.000.000460.000.000265.000.000279.400.000377.900.000163.500.000460.000.0003.000.000.000440.000.000345.000.000650.000.0001.250.000.000950.000.0002.800.000.000670.000.000347.000.000760.000.000440.000.000430.000.000820.000.0001.300.000.000139.999.9991.300.000.000749.000.000599.900.0001.500.000.0001.880.000.000890.000.000139.999.999270.000.000420.000.000500.000.000565.000.0001.400.000.000215.000.0001.300.000.000495.000.000865.000.000490.000.000650.000.0002.350.000.0001.600.000.0001.050.000.000745.000.0001.500.000.000360.000.0001.320.000.000295.000.000560.000.000491.000.000695.000.0001.200.000.000422.000.0001.300.000.000590.000.000980.000.0002.190.000.000280.000.000419.600.000160.500.000442.436.000360.000.0001.150.000.0004.000.000.000730.000.0006.500.000.000339.000.000482.000.000405.000.000375.000.000423.000.000500.000.0005.200.000.0001.960.000.000830.000.000980.000.0003.500.000.0001.200.000.0004.800.000.000480.000.0002.800.000.0001.080.000.000950.000.000850.000.000980.000.0001.100.000.000670.000.0001.836.000.000760.000.000440.000.000347.000.000274.000.000290.000.000270.000.0001.300.000.000460.000.0002.190.000.000240.000.000380.000.000215.000.0001.300.000.000495.000.000139.999.999900.000.000390.000.000749.000.000405.084.000458.930.000890.000.0001.880.000.000270.000.000480.000.000545.000.000320.000.000599.900.000815.402.051235.000.000150.000.000510.000.000249.000.000356.000.000303.960.000690.000.000528.000.000739.000.000739.000.000528.000.000850.000.000624.750.000408.000.000462.000.000600.000.000490.000.000462.000.000372.000.000275.000.000115.000.000149.000.000528.000.000310.000.000355.000.000528.000.000739.000.000325.000.000739.000.000320.000.000192.000.0001.100.000.000183.680.000142.000.000390.000.0001.500.000.000150.480.000739.000.000930.000.0002.200.000.000133.000.000212.500.000270.000.000305.000.000270.000.000190.000.000320.000.000210.000.000404.000.000149.000.000190.000.000149.000.000217.000.000111.000.000390.000.000250.000.000650.000.000350.000.000890.000.000320.000.0001.960.000.0005.200.000.0002.500.000.000410.000.000670.000.000650.000.0002.030.000.0001.050.000.0001.490.000.000600.000.000526.000.000483.000.000268.000.000458.000.000273.000.000339.000.000482.000.000315.000.000375.000.000258.000.0001.600.000.0001.050.000.000422.000.000830.000.0003.900.000.000990.000.0004.000.000.000980.000.0005.083.000.0005.400.000.000149.000.0002.700.000.000117.810.000240.000.000210.000.000580.000.0001.600.000.000186.000.000190.000.000110.000.000182.000.000169.000.000205.000.000272.000.000330.000.000295.000.000330.000.000237.000.0001.050.000.000190.000.000295.000.000205.000.000149.000.000126.000.000235.000.000739.000.000404.000.000330.000.000295.000.000500.000.0001.200.000.000739.000.000739.000.000720.000.000739.000.000390.000.000172.000.000250.000.000170.000.000303.960.000303.960.000528.000.000739.000.000311.000.000250.000.000169.000.000258.360.000190.000.000180.000.000205.000.000175.000.000190.000.000190.000.000985.000.000520.000.000900.000.0001.250.000.000650.000.000138.000.000125.000.000123.000.000800.000.000365.000.000170.000.000147.000.000510.000.0001.700.000.000205.000.000212.500.000190.000.0003.200.000.0003.200.000.000739.000.000149.000.0004.750.000.000190.000.000365.000.000212.500.000700.000.000313.000.000850.000.000305.000.000145.000.000739.000.000176.000.000176.000.000176.000.000250.000.000176.000.000170.000.000176.000.000250.000.000169.000.000690.000.0001.890.000.000170.000.000700.000.000165.000.000165.000.000780.000.000207.200.000134.000.000138.000.000115.500.000126.000.000795.000.000499.000.000245.500.000870.000.000634.000.000175.000.000680.000.000900.000.000670.000.000450.000.000500.000.000500.000.000500.000.000175.000.000690.000.000390.000.000390.000.000479.000.000740.000.000390.000.000830.000.000658.000.000820.000.0001.400.000.000550.000.000248.000.000410.000.000420.000.0001.210.000.000260.000.000298.000.000550.000.000171.000.0001.480.000.000870.000.000800.000.000357.000.000300.000.000480.000.000153.000.000147.000.000750.000.000418.000.000600.000.000390.000.000530.000.0001.600.000.000508.000.0001.793.000.0002.095.000.000136.000.000550.000.000870.000.000350.000.000430.000.000550.000.000245.000.000162.000.000680.000.000330.000.000142.000.000119.000.000348.000.000116.000.000119.000.000323.000.000130.000.000130.000.0001.600.000.000228.000.000840.000.000315.000.000325.000.0001.495.000.000397.000.000169.000.000172.000.000176.000.000438.000.000241.200.000528.000.000450.000.000739.000.000739.000.000116.100.000250.000.000172.000.000177.000.000450.000.000310.000.000180.000.000250.000.0001.000.000.000210.000.000380.000.000400.000.0001.890.000.000520.000.000739.000.0001.200.000.000170.000.000395.000.000570.000.000275.000.000190.000.000690.000.000860.000.000795.000.0001.650.000.000630.000.000570.000.000785.000.000250.000.000272.250.000450.000.000455.000.000575.000.000265.000.000750.000.000272.250.000440.000.000500.000.0001.540.000.000119.000.0001.600.000.000475.000.000327.000.000340.000.000710.000.000500.000.000450.000.000440.000.0001.250.000.000590.000.000290.500.000290.500.000171.000.000360.000.000245.000.000245.000.000290.500.0001.590.000.000795.000.000550.000.000350.000.000400.000.000510.000.000690.000.000700.000.000250.000.000169.000.000172.000.000176.000.000116.100.000395.000.000570.000.000275.000.000203.000.000840.000.000466.000.0002.095.000.000550.000.000870.000.0005.000.000.0001.850.000.000194.000.000323.000.000900.000.000950.000.0001.100.000.000285.000.000323.000.000508.000.000720.000.000385.000.000140.000.0001.480.000.0001.190.000.000490.000.000115.000.000670.000.000131.000.000150.000.000300.000.000168.000.000680.000.000160.000.0001.105.000.000354.000.000180.000.000177.000.0001.700.000.000996.000.000121.000.000353.000.000134.000.000115.500.000207.200.000126.000.000498.000.000165.000.000165.000.000780.000.000670.000.000450.000.000500.000.000500.000.000500.000.0001.495.000.0004.000.000.000199.000.000325.000.000840.000.000460.000.000499.500.000430.000.000660.000.0001.790.000.000480.000.000466.000.000466.000.0001.100.000.000508.000.000508.000.000850.000.000230.000.000295.000.000950.000.000550.000.000330.000.000163.000.000339.000.000486.000.000450.000.000260.000.000460.000.0003.000.000.000415.000.000380.000.000136.000.000133.000.000545.000.000760.000.000465.000.000105.000.000134.000.000476.500.000148.000.000360.000.000423.000.000610.000.000400.000.000397.000.000480.000.0001.300.000.00082.170.000354.000.000140.000.000397.000.000430.000.0002.850.000.000466.000.000466.000.0001.100.000.000405.000.000490.000.000508.000.000470.000.000700.000.000508.000.000128.700.000930.000.000660.000.0001.790.000.000480.000.000850.000.000353.000.0001.950.000.000144.000.000144.000.000144.000.000435.000.000585.000.000488.000.000550.000.000153.000.000483.000.000175.000.000245.000.000500.000.000385.000.000285.000.000173.000.000390.500.000550.000.000354.000.000870.000.000449.000.000550.000.000895.000.0001.600.000.000980.000.000360.000.000489.000.000500.000.000620.000.000610.000.000152.000.000650.000.000230.000.000390.000.000330.000.0002.900.000.000850.000.000995.000.000870.000.000634.000.000175.000.000175.000.000207.200.000134.000.000138.000.000115.500.000126.000.000450.000.000500.000.000500.000.000153.000.000500.000.000310.000.000210.000.000475.000.0001.500.000.000485.000.000465.000.0001.495.000.000550.000.000600.000.000425.000.000530.000.0002.200.000.000369.000.000285.000.000300.000.0001.200.000.000300.000.0001.250.000.0001.170.000.000371.000.000300.000.000890.000.000130.000.000499.500.0003.850.000.000460.000.000498.000.000300.000.000480.000.000155.000.000320.000.000217.000.000199.000.0004.000.000.000325.000.000182.000.000200.000.000371.000.000180.180.000720.000.000750.000.000900.000.000650.000.000870.000.000270.000.000213.000.0001.900.000.0002.000.000.000163.000.000620.000.000600.000.0002.100.000.000450.000.000820.000.000750.000.000529.000.000889.000.000319.000.000120.000.000365.000.000360.000.000323.000.000390.000.000390.000.000390.000.000390.000.0002.200.000.000340.000.000720.000.000665.000.0001.350.000.0001.050.000.000270.000.000850.000.000880.000.000150.000.000528.000.000330.000.000525.000.000890.000.000550.000.0001.000.000.000500.000.0002.500.000.0001.200.000.000550.000.000850.000.000400.000.000735.000.0001.250.000.000295.000.000450.000.000514.000.000590.000.000435.000.000630.000.000420.000.000390.000.000390.000.000390.000.000450.000.000140.000.000347.000.000250.000.000165.000.000390.000.000390.000.000130.000.000345.000.0001.500.000.000296.000.000310.000.0001.195.000.000228.000.000585.000.000390.000.000180.000.000470.000.000520.000.000456.000.000390.000.000530.000.000390.000.000390.000.000390.000.000390.000.000250.000.0001.200.000.000278.000.000800.000.000580.000.000390.000.000400.000.000135.000.000720.000.000695.000.000390.500.000490.000.000148.000.000180.000.000176.500.000600.000.0001.290.000.000472.000.000175.000.000380.000.000710.000.000750.000.000390.000.000310.000.000272.250.000137.000.000470.000.000190.000.000400.000.000450.000.000450.000.000515.000.000410.000.000300.000.000650.000.000152.000.000340.000.000173.500.000525.000.0002.700.000.000750.000.000159.000.000159.000.000159.000.000159.000.000437.000.000203.823.000159.000.000437.000.000180.000.000895.000.000645.000.000295.000.000610.000.0001.340.000.000545.000.000331.500.000430.000.000287.000.000990.000.000795.000.000419.600.000196.000.0001.250.000.000360.000.000550.000.000482.000.000335.000.000398.600.000476.500.000515.000.000465.000.0002.300.000.000422.000.000397.000.000411.000.000535.000.000720.000.0001.000.000.000356.000.0001.170.000.000422.000.000560.000.000330.000.000390.500.0001.000.000.000490.000.000163.000.000530.000.000173.000.000422.000.000340.500.000449.500.000850.000.000255.000.000278.000.000395.000.000230.000.000422.000.000400.000.000425.000.000825.000.000298.000.000920.000.000850.000.000900.000.000196.000.0001.100.000.000210.000.000256.000.000320.000.000550.000.0001.500.000.000540.000.000167.000.000153.000.000520.000.000980.000.0004.500.000.0003.300.000.000700.000.0001.615.000.000280.000.0001.250.000.000240.000.000116.000.000265.000.000365.000.000372.760.000358.000.000422.000.000397.000.000720.000.0001.000.000.000356.000.000390.500.0001.000.000.000490.000.000315.000.000355.000.000440.000.000237.000.0001.200.000.000137.000.000470.000.000340.000.000173.500.000400.000.0002.000.000.000422.000.000400.000.000695.000.000770.000.000465.000.000515.000.000465.000.0002.300.000.000116.000.000390.000.000390.000.000630.000.000330.000.0001.050.000.000408.000.000870.000.000409.000.000510.000.000482.000.000430.000.000535.000.0001.250.000.000255.000.000475.000.000177.000.000560.000.000113.000.000675.000.000285.000.000285.000.000142.800.000587.000.000388.000.000430.000.0001.000.000.000372.000.000345.000.000390.000.000700.000.000458.000.0003.800.000.000278.000.000680.000.000730.000.000190.000.000145.000.000220.000.000400.000.000275.000.000316.000.000480.000.000153.000.0001.700.000.000357.000.000470.000.000450.000.000390.000.000390.000.000355.000.000980.000.000134.000.000360.000.000515.000.000214.000.000278.000.000450.000.000270.000.000196.000.000131.000.000255.000.000167.000.0001.250.000.000322.000.0001.100.000.000840.000.0003.800.000.000487.000.000220.000.0001.400.000.0001.700.000.000142.800.000587.000.000388.000.000430.000.0001.000.000.000372.000.000345.000.000390.000.000700.000.000458.000.000404.000.000630.000.0001.036.000.000700.000.000295.000.000330.000.0001.050.000.000408.000.000830.000.0001.395.000.000220.800.000550.000.0001.670.000.000350.000.000375.000.000125.000.000228.000.000408.000.000400.000.000670.000.000690.000.0001.350.000.000338.000.000480.700.000298.000.000500.000.000163.500.000419.600.000172.000.000479.000.000134.000.000437.000.000437.000.0002.700.000.000279.000.000489.000.000220.000.000338.000.0001.100.000.000190.000.000739.000.000190.000.000450.000.000381.000.000950.000.000545.000.000278.000.000169.000.000462.000.0002.200.000.0001.050.000.000479.000.0001.200.000.000739.000.000790.000.000370.000.000440.000.000298.000.000489.000.000880.000.000167.500.000371.000.000595.000.000490.000.000277.000.000168.000.000680.000.000510.000.000158.000.000310.000.000440.000.000165.000.000399.000.000510.000.000282.150.000520.000.000370.260.000373.000.000285.000.0001.000.000.000277.000.000320.000.000387.000.000212.000.000650.000.0001.350.000.000510.000.000260.000.000158.000.000240.000.000158.000.000145.000.000195.000.000158.000.000420.000.000358.000.000323.000.0003.600.000.000545.000.000230.000.000309.000.000624.750.000437.000.000437.000.000310.000.000680.000.000437.000.000570.000.000338.000.0001.100.000.000200.000.000450.000.000119.000.000870.000.000158.000.000170.000.000739.000.000790.000.000370.000.000288.000.000650.000.000489.000.000462.000.000153.000.000408.000.000980.000.000850.000.000524.000.000750.000.000160.500.000177.000.000540.000.0001.150.000.000134.000.000200.000.000528.000.0001.300.000.000528.000.0002.000.000.0001.950.000.000522.500.000130.000.000119.000.000698.000.000175.000.000131.000.000167.000.000249.000.000255.000.000196.000.000207.000.000256.000.000880.000.000624.750.000196.000.000445.000.000115.000.000276.000.000298.000.000550.000.000196.000.000116.820.000550.000.000950.000.000238.000.000820.000.000120.000.000159.000.0001.600.000.000880.000.000445.000.000196.000.000115.000.000256.000.000624.750.000257.000.0001.490.000.000275.000.000600.000.000667.000.000238.000.000480.000.000370.000.000285.000.000195.000.000680.000.0002.000.000.000249.000.000298.500.000207.000.000210.000.000372.000.000205.000.000295.000.0001.450.000.000420.000.000330.000.000330.000.000330.000.000437.000.000437.000.000116.000.0001.200.000.000387.000.000410.000.000483.000.000510.000.000212.000.000277.000.000320.000.000387.000.000650.000.0001.350.000.000510.000.000260.000.000158.000.000240.000.000158.000.000145.000.000145.500.000280.000.000438.000.000474.500.000380.000.000340.000.000517.500.0001.100.000.000290.000.000380.000.000341.000.000320.000.000295.000.000266.000.000485.000.000260.000.000187.000.000595.000.0001.320.000.000750.000.000750.000.000645.000.000395.500.000420.000.000170.000.000390.000.000285.000.000480.000.000260.000.000590.000.000270.000.000630.000.000765.000.000510.000.000386.000.000253.100.000360.000.000374.500.000415.000.000439.000.000144.000.000462.500.000449.000.000450.000.000872.000.000370.000.000142.500.000146.500.000147.000.000164.000.000325.000.000396.000.000396.000.000430.000.000488.000.000750.000.000406.500.000415.000.000579.000.000660.000.0001.500.000.000900.000.000665.000.000395.000.0002.300.000.000390.000.000260.000.000425.000.000690.000.000600.000.000250.000.000800.000.0001.090.000.000540.000.000810.000.000332.500.000214.000.000670.000.000175.000.00085.000.000332.500.000176.000.000235.000.000249.900.000492.134.0001.400.000.000525.000.000820.000.000695.000.000630.000.0001.600.000.000470.500.000850.000.000370.000.0002.600.000.000800.000.000828.400.000310.000.000160.000.0001.100.000.000365.000.000599.000.000220.000.000350.000.0001.350.000.000250.000.000165.000.000520.000.000950.000.000377.000.000800.000.000820.000.000820.000.000690.000.0002.500.000.000240.000.000650.000.000850.000.0001.150.000.000950.000.000950.000.000120.000.000260.000.000290.000.000600.000.000555.000.000730.000.000500.000.000340.000.000520.000.000750.000.000463.000.0002.300.000.000288.000.000231.298.464450.000.0001.100.000.000250.000.000380.000.000425.000.000750.000.000350.000.0001.200.000.000241.280.000330.000.000232.483.200890.000.000240.000.000486.000.000236.000.000939.275.008220.000.000149.600.000620.000.000487.000.000320.000.000664.320.000265.700.0001.150.000.000455.000.0001.000.000.000155.000.000466.000.000330.000.000796.000.000306.200.000124.000.000580.000.000800.000.000820.000.000650.000.000232.483.200389.649.984450.000.000759.000.000410.000.000950.000.000237.716.992260.000.000245.000.000126.050.0002.849.999.872237.716.992260.000.000245.000.000126.050.0002.849.999.872697.000.000340.000.000950.000.000920.000.000650.000.0005.699.999.744885.000.0001.200.000.000330.000.000283.000.0001.400.000.000135.000.000595.000.000215.000.000520.000.000195.500.000780.000.0001.280.000.000338.000.000580.000.0001.250.000.000350.000.000690.000.000511.000.000650.000.000630.000.000475.000.000420.000.000500.000.000125.000.000200.000.0001.250.000.000780.000.000210.000.000250.000.000112.000.000407.342.016518.000.000530.000.000306.000.000235.000.000255.000.0001.150.000.000700.000.000750.000.000185.000.000290.500.000160.000.000560.000.0001.900.000.000465.000.000560.000.000465.000.000129.000.000365.000.000220.000.0001.300.000.000380.000.000594.000.0001.900.000.0001.690.000.0002.400.000.000320.000.0001.300.000.0002.200.000.0002.500.000.0001.050.000.0001.180.000.000360.000.000590.000.000740.607.900250.000.0002.950.000.0001.180.000.000280.000.000639.000.0002.300.000.000144.000.000890.000.000580.000.0001.350.000.000895.000.0002.600.000.000100.000.000270.000.000670.000.0001.100.000.000245.000.000620.000.000690.000.000800.000.000950.000.0001.600.000.000199.000.000460.000.000270.000.000730.000.000650.000.000540.000.000530.000.000389.000.000650.000.000199.000.000240.000.0005.299.999.744360.000.0001.250.000.000680.000.000950.000.000480.000.000435.000.000520.000.000720.000.000250.000.000520.000.000435.000.000520.000.000720.000.000250.000.000520.000.000260.000.000470.000.000330.000.0001.600.000.000950.000.000490.000.000700.000.0001.100.000.000990.000.0002.500.000.0001.200.000.000245.000.000220.000.000335.000.000140.000.000280.000.000599.000.000185.000.0001.000.000.000850.000.000310.000.000750.000.000223.000.000370.000.000750.000.000590.000.000730.000.000724.460.000499.000.0002.080.000.000320.000.00084.000.000129.800.000332.500.000600.000.000129.800.000670.000.000199.900.0001.250.000.000699.927.0001.500.000.000775.564.000345.000.000206.375.776145.000.000470.000.000332.500.000280.500.000157.200.000650.000.0001.100.000.000235.000.000330.000.000470.500.000497.391.000331.000.000720.000.000160.000.000200.000.000474.000.000320.000.000500.000.000430.000.0002.200.000.000776.000.000400.000.000450.000.000370.000.000370.000.000175.000.000175.000.0001.650.000.000165.000.000950.000.0001.200.000.000850.000.000700.000.000599.000.000330.000.000250.000.000800.000.000358.000.000185.000.000530.000.000350.000.000960.000.000770.000.000460.000.0001.000.000.000455.000.000135.000.000897.000.000323.100.000450.000.000250.000.0001.850.000.000152.000.000259.100.000407.342.016130.000.000168.000.0001.246.000.000500.000.000670.000.0002.470.000.128850.000.000270.000.000665.000.000450.000.0001.025.000.00098.000.000329.000.000400.000.0005.200.000.000340.000.0001.250.000.000949.100.0321.250.000.000628.000.000878.200.000425.000.000440.000.000265.000.000240.000.000315.790.016105.000.0001.000.000.000358.500.000120.000.000650.000.000297.500.000300.000.000560.000.000252.000.000345.000.000550.000.000270.000.000350.000.000350.000.000350.000.000142.000.000249.500.000325.000.000249.000.000298.500.000400.000.0001.330.000.000600.000.000117.000.0001.014.570.000185.000.000185.000.0001.100.000.000470.000.000720.000.0002.095.000.064360.000.0003.200.000.000420.000.000230.000.000233.000.000199.000.000350.000.000320.000.000311.000.000380.000.000100.000.000400.000.000145.000.000474.500.000290.000.000343.000.000620.000.000143.000.000330.000.000430.000.000400.000.0001.170.000.0001.900.000.000875.000.000366.000.000980.000.000478.900.0004.300.000.0001.000.000.000470.000.0001.300.000.000520.000.0001.200.000.0006.160.000.000870.000.000420.000.0001.550.000.0001.500.000.0004.000.000.000340.000.000700.000.0001.390.000.000998.000.000157.000.0001.100.000.000490.000.000875.000.000270.000.000610.000.000450.000.000384.500.0001.010.000.000169.500.000275.000.000462.000.000394.500.000368.000.000382.000.000295.000.000155.000.000404.000.0001.250.000.000395.000.000205.000.000453.500.000262.000.000270.000.000420.000.000162.000.000350.000.000384.000.0001.500.000.000650.000.000250.000.000280.000.000560.000.000200.000.0001.700.000.000500.000.00074.300.000144.000.000140.000.00060.000.000400.000.000320.000.000950.000.0001.900.000.0001.120.000.000550.000.000260.000.000450.000.000440.000.0001.350.000.000480.000.000568.000.000145.000.0003.000.000.000155.000.000320.000.000136.000.000395.000.000860.000.0002.700.000.000390.000.000995.000.000390.000.0001.500.000.000700.000.000470.000.000995.000.000390.000.0001.500.000.000700.000.000470.000.000140.000.0001.700.000.0002.500.000.000750.000.000280.000.000140.000.000850.000.0001.300.000.00090.000.0003.000.000.000500.000.000120.000.0002.500.000.0002.500.000.000998.000.000914.300.000250.000.000850.000.0001.200.000.000280.000.000580.000.000170.000.000237.000.000245.000.000181.000.000520.000.000229.000.000135.000.000800.000.000150.000.000596.000.000870.000.000320.000.0001.690.000.000750.000.000750.000.0001.070.000.0001.250.000.0001.690.000.000680.000.000750.000.000800.000.000700.000.000640.000.000618.000.0001.070.000.000320.000.000120.000.000596.000.000897.000.000610.000.000750.000.000320.000.000310.000.000980.000.000117.000.000127.000.000120.000.0003.627.099.90498.000.0001.450.000.000260.000.000264.710.000262.000.000320.000.000229.000.000360.000.000285.500.000252.000.000252.000.000939.275.008435.000.000240.000.000260.000.000125.000.000230.000.000102.000.000550.000.000265.700.000474.000.000215.000.000176.000.000144.000.000170.000.000500.000.000215.000.000176.000.000144.000.000170.000.000500.000.000232.000.000420.500.000409.500.000480.000.000315.000.000990.000.000670.000.000975.000.0001.600.000.0001.450.000.000633.710.0001.900.000.000743.710.000633.710.0002.400.000.0001.550.000.0008.358.000.000743.710.000834.460.000160.000.000270.000.000570.000.000170.000.000990.000.000398.000.000535.000.000500.000.000240.000.0001.200.000.000310.000.000350.000.000320.000.0001.450.000.0002.200.000.000242.000.000350.000.000400.000.000185.000.000485.000.000494.000.000270.000.0001.200.000.000980.000.0001.350.000.000850.000.000256.000.000340.000.000385.000.0002.900.000.000970.000.0001.350.000.000240.000.0007.000.000.0002.650.000.0001.100.000.0002.700.000.0002.500.000.0001.200.000.000230.000.000540.000.000710.000.000610.000.000170.000.0001.700.000.000240.000.0001.299.000.000900.000.000780.000.0002.500.000.000750.000.000495.000.000650.000.000385.000.0001.400.000.0001.820.000.000460.000.000650.000.0001.250.000.000390.000.000480.000.0001.300.000.000550.000.000280.000.0001.250.000.000140.000.000230.000.000650.000.000790.000.000350.000.000880.000.000750.000.000318.000.0001.100.000.000750.000.0001.100.000.000850.000.000790.000.0001.200.000.0002.150.000.000950.000.000360.000.000550.000.000560.000.000620.000.000540.000.000550.000.000800.000.000950.000.000525.000.000846.000.000635.000.000345.000.000880.000.000960.000.000460.000.0002.400.000.0004.238.000.000380.000.000278.000.000979.999.0001.590.000.000500.000.000850.000.000960.000.000162.000.000400.000.000740.000.0002.250.000.000800.000.000155.000.000580.000.0002.500.000.000357.000.000599.000.0001.950.000.000880.000.000470.000.000147.000.000215.000.0001.700.000.000205.000.000200.000.0003.200.000.000840.000.000567.240.000570.000.000830.000.0001.250.000.000520.000.000890.000.000315.000.000900.000.000335.000.0001.350.000.0002.800.000.000360.000.000450.000.000920.000.000610.000.000950.000.000850.000.000870.000.000280.000.000700.000.000335.000.000550.000.000450.000.000960.000.0001.700.000.000345.000.000485.000.000520.000.000330.000.000750.000.000650.000.000585.000.000750.000.000380.000.0004.000.000.000190.000.000370.000.0001.600.000.000285.000.0001.240.000.000975.000.000410.000.000670.000.000230.000.000345.000.000450.000.000960.000.0006.720.791.000370.000.0003.143.226.0001.833.000.0001.150.000.000399.000.0001.750.000.000340.000.0001.000.000.000330.000.000630.000.000850.000.000850.000.000950.000.0003.950.000.000750.000.000130.000.0002.290.000.000760.000.000800.000.000530.000.000140.000.000380.000.000340.000.000285.000.0002.750.000.000930.000.000820.000.000480.000.000750.000.000400.000.000350.000.0001.160.000.0001.500.000.000460.000.000420.000.000220.000.000285.000.000315.000.000560.000.000220.000.000890.000.000980.000.0001.300.000.000800.000.000650.000.000440.000.000280.000.000430.000.000285.000.000690.000.000220.000.000220.000.000315.000.000220.000.000560.000.000285.000.000410.000.0001.000.000.000350.000.000190.000.000174.000.000680.000.000720.000.000240.000.000468.270.000145.000.000790.000.0003.807.000.0001.000.000.000450.000.000499.000.000360.000.000310.000.00016.000.000.000210.000.0001.200.000.000430.000.000320.000.000375.000.000620.000.000359.000.000400.000.0002.750.000.000425.000.000950.000.000950.000.000600.000.000135.000.000587.000.0001.350.000.000550.000.000630.000.000760.000.000242.000.000615.000.000345.000.000740.000.0001.080.000.000190.000.000255.000.000280.000.000480.000.000350.000.000130.000.000148.000.000155.000.000479.030.000120.800.000134.000.000125.500.000122.000.000148.000.000102.000.000125.000.000125.000.000128.000.000148.000.000129.000.000128.000.000102.000.000131.000.000155.000.000145.000.000153.500.000129.000.000131.000.000125.000.000102.000.000128.500.000145.000.000450.000.000153.500.000129.000.000102.000.000131.000.000129.000.000128.000.000125.000.000155.000.000145.000.000125.000.000102.000.000131.000.000128.500.000145.000.000153.500.000129.000.000148.000.000153.500.000129.000.000450.000.000136.000.000612.000.000159.000.000131.000.000129.690.000130.000.000150.000.000130.000.000129.000.000150.000.000124.000.000150.000.000131.000.000128.000.000125.000.000120.800.000150.000.000102.000.000150.000.000125.500.000122.000.000150.000.000122.000.000120.800.000125.000.000120.800.000134.000.000134.000.000145.000.000130.000.000125.730.000128.000.000145.000.000136.000.000125.000.000155.000.000128.500.000145.000.000129.000.000131.000.000129.000.000129.000.000131.000.000102.000.000130.000.000136.000.000124.000.000130.000.000128.000.000131.000.000136.000.000125.000.000153.500.000129.000.000150.000.000128.000.000127.500.000136.000.000125.500.000130.000.000134.000.000125.000.000125.500.000142.000.000136.000.000125.000.000150.000.000145.000.000125.000.000136.000.000147.300.000128.000.000255.000.000540.000.000240.000.000190.000.000466.000.000498.000.000609.000.000336.000.000730.000.000220.000.0001.150.000.000580.000.000620.000.0001.300.000.000350.000.000670.000.000179.999.999460.000.000651.000.000622.000.000419.999.999280.000.000193.000.000460.000.000179.999.000640.000.000390.000.000536.000.000670.000.000600.000.000136.000.000120.800.000134.000.000134.000.000145.000.000130.000.000125.730.000128.000.000145.000.000120.800.000150.000.000136.000.000125.000.000155.000.000102.000.000150.000.000131.000.000128.500.000145.000.000129.000.000129.000.000120.800.000125.000.000125.000.000153.500.000126.500.000128.500.000155.000.000124.000.000147.300.000380.000.000280.000.000188.000.000770.000.000635.000.000750.000.000600.000.000650.000.000410.000.0001.400.000.000218.000.000449.000.000348.000.0001.300.000.000575.000.0001.380.000.000477.000.000367.500.000251.000.000393.400.000592.000.000165.000.000150.500.000298.000.000140.000.000270.000.000285.000.000500.000.000380.000.000240.000.000685.000.000395.000.000320.000.000360.000.000220.000.000195.000.000345.000.000240.000.000214.000.000370.000.000980.000.000249.000.000534.000.0002.200.000.0001.390.000.0001.700.000.000595.000.000450.000.000180.000.000328.000.000163.500.000460.000.0003.000.000.000408.000.000142.000.000419.600.000116.000.000358.000.000160.500.000442.436.000270.000.000318.000.000298.500.000280.000.000860.000.000116.000.000120.000.0001.100.000.000410.000.000800.000.000516.742.260520.000.000280.000.0001.670.000.0002.000.000.000359.000.0002.900.000.0005.000.000.0001.650.000.0001.070.000.000602.113.626882.532.9461.300.000.000565.000.000995.000.0001.400.000.0002.600.000.000850.000.000480.000.000380.000.0004.600.000.0001.850.000.000750.000.000890.000.000820.000.0001.500.000.000650.000.0001.400.000.000730.000.000460.000.0001.260.000.000416.000.000168.000.000416.000.000510.000.000388.000.000320.000.000319.000.000280.000.000350.000.000261.500.000485.000.000180.000.0001.450.000.000250.000.000408.000.000230.000.000477.000.000280.000.000255.000.000330.000.0001.200.000.000345.000.0002.200.000.000450.000.0003.000.000.000595.000.000260.000.000260.000.000640.000.000385.000.000600.000.000475.000.000825.000.000415.000.000430.000.000460.000.000450.000.0003.500.000.000255.000.000260.000.000261.500.000408.000.000408.000.000116.000.000505.000.000510.000.000167.000.000419.600.000534.000.000445.000.000300.000.000354.000.000299.000.000690.000.000508.000.000442.436.000232.000.000285.000.000277.000.000188.000.000385.000.000489.000.000340.000.000323.000.0001.170.000.000450.000.000580.000.000408.000.000730.000.000280.000.000298.500.000411.000.000270.000.000318.000.000550.000.0001.150.000.0001.200.000.0002.900.000.0002.800.000.000900.000.000290.500.000474.500.0001.100.000.000390.000.000875.000.000375.000.000349.000.0001.300.000.0002.865.000.000406.000.000920.000.000519.000.000500.000.0003.600.000.000280.000.000225.000.000451.000.000350.000.000491.000.0001.550.000.000560.000.0001.250.000.000980.000.0001.250.000.0002.800.000.0002.200.000.0005.500.000.000165.000.000261.500.000405.000.000423.000.000500.000.000550.000.0001.050.000.0001.490.000.000600.000.000273.000.000268.000.000315.000.000458.000.000258.000.000670.000.000274.000.000290.000.000347.000.000346.000.000739.000.000900.000.000316.000.000739.000.000739.000.000350.000.000350.000.000739.000.000528.000.000840.000.0001.000.000.000739.000.000330.000.000418.000.000354.000.000490.000.000980.000.000615.000.0001.500.000.000830.000.0002.500.000.000335.000.0002.150.000.0001.000.000.0001.100.000.000450.000.000980.000.000250.000.0001.800.000.0001.500.000.000295.000.0001.280.000.000920.000.000900.000.000870.000.000750.000.0001.700.000.0001.600.000.000860.000.000116.000.000332.808.000340.000.000411.000.000500.000.0001.550.000.0001.080.000.0002.200.000.0007.500.000.000390.000.000245.000.0002.700.000.0001.000.000.000397.000.0007.000.000.000418.000.000468.000.000422.000.000396.000.0007.200.000.000740.000.000451.000.000350.000.000440.000.000720.000.0001.300.000.0001.300.000.0002.300.000.000900.000.000290.500.000474.500.0002.200.000.000120.000.000116.000.000168.000.0001.150.000.0001.680.000.000680.000.000740.000.0001.850.000.000750.000.000820.000.000890.000.0001.500.000.000460.000.0001.350.000.000435.000.0002.000.000.000145.000.000398.000.000320.000.000950.000.000760.000.000550.000.000450.000.000560.000.000880.000.0001.400.000.000730.000.000650.000.000380.000.000550.000.000416.000.000680.000.000330.000.0002.000.000.000170.000.000390.000.000320.000.000890.000.000450.000.000404.000.000150.000.000850.000.000624.750.000249.000.000142.000.000510.000.000235.000.000950.000.000290.000.000900.000.000180.000.000180.000.000310.000.0001.100.000.000303.960.000303.960.0001.040.000.000350.000.000115.000.000330.000.0002.200.000.000129.000.000205.000.000760.000.000311.000.000739.000.000528.000.000739.000.0001.600.000.0001.300.000.000739.000.000528.000.000134.000.0001.750.000.000350.000.000365.000.000550.000.000330.000.000172.000.000169.000.000250.000.000380.000.000170.000.000210.000.0001.000.000.000311.000.000315.000.000148.000.000190.000.000365.000.000169.000.000177.000.000169.000.000200.000.000190.000.000400.000.000176.000.000177.000.000170.000.000172.000.000241.200.000275.000.000700.000.000690.000.000435.000.000415.000.000190.000.000365.000.000226.000.000116.000.000360.000.000739.000.000739.000.000520.000.000170.000.000510.000.000388.000.000261.500.000485.000.000416.000.000180.000.000230.000.000350.000.000430.000.000550.000.000245.000.000162.000.000680.000.000330.000.000142.000.000119.000.000348.000.000116.000.000119.000.000323.000.000130.000.000130.000.0001.600.000.000228.000.000840.000.000315.000.000325.000.0001.495.000.000397.000.000397.000.000455.000.000575.000.000327.000.000750.000.000272.250.000440.000.000265.000.000510.000.000795.000.000550.000.000785.000.000570.000.000340.000.000475.000.000440.000.000500.000.000450.000.0001.540.000.000171.000.000300.000.0001.250.000.000300.000.000155.000.0001.170.000.000890.000.000130.000.000371.000.000320.000.000217.000.000369.000.000285.000.0003.850.000.000460.000.000530.000.0002.200.000.000499.500.0004.000.000.000138.000.000134.000.000115.500.000126.000.000860.000.000500.000.000634.000.000450.000.000500.000.000500.000.000500.000.000870.000.000680.000.000900.000.000670.000.000245.500.0001.650.000.000630.000.000795.000.000690.000.000499.000.0004.000.000.000199.000.000300.000.0001.200.000.000300.000.0001.170.000.000371.000.0001.250.000.000840.000.000337.110.000130.000.0001.480.000.0001.190.000.000115.000.000285.000.000323.000.000194.000.000323.000.0001.100.000.000670.000.000490.000.000630.000.0003.000.000.000400.000.000300.000.000720.000.000800.000.000508.000.000200.000.000620.000.000168.000.000144.000.000715.000.000850.000.000690.000.000400.000.000550.000.000980.000.000385.000.000380.000.000960.000.000560.000.000175.000.000175.000.000500.000.000225.000.000499.500.000980.000.000500.000.000522.000.000895.000.000140.000.000320.000.000354.000.000186.000.000397.000.000397.000.000397.000.000245.000.000354.000.000397.000.000361.000.000397.000.000397.000.000354.000.000190.000.000420.000.000550.000.000220.000.000500.000.000250.000.000177.000.0001.700.000.000165.000.000850.000.000353.000.000680.000.000400.000.000550.000.0002.600.000.000275.000.000475.000.000355.000.000996.000.000180.000.000121.000.000300.000.000167.000.0001.950.000.000650.000.000530.000.000450.000.000275.000.000550.000.0001.090.000.000210.000.000475.000.000500.000.000735.000.0001.000.000.000290.000.000165.000.000169.000.000176.000.0001.950.000.000144.000.000435.000.000175.000.000390.000.000259.000.000368.000.000310.000.000580.000.000360.000.000278.000.000323.000.000176.500.000278.000.000148.000.000250.000.000295.000.000980.000.000230.000.000950.000.000390.500.000460.000.000545.000.0003.000.000.000460.000.000149.000.000149.000.000700.000.000250.000.000550.000.000498.000.000290.500.000158.000.000337.110.000130.000.000490.000.000800.000.0001.395.000.000250.000.000310.000.000168.000.000600.000.0003.000.000.0002.900.000.000115.000.000194.000.000323.000.000900.000.000950.000.0001.100.000.000285.000.000323.000.000508.000.000720.000.000385.000.000486.000.000255.000.000395.000.0002.000.000.000460.000.000470.000.000190.000.000255.000.000278.000.000400.000.000340.000.000173.500.000525.000.000137.000.000390.500.000180.000.000490.000.000148.000.000278.000.000468.000.000360.000.000255.000.000390.500.000490.000.0001.000.000.000720.000.000265.000.000315.000.000680.000.000730.000.000169.000.000177.000.000177.000.000148.000.000190.000.000380.000.000210.000.0001.040.000.000550.000.000111.000.000217.000.000237.000.000220.000.000322.000.000115.000.000310.000.000134.000.000900.000.000311.000.000149.000.0004.750.000.0003.200.000.0003.200.000.000397.000.000397.000.000397.000.000245.000.000186.000.000354.000.000397.000.000395.000.000390.000.000700.000.0001.250.000.000312.000.000460.000.000475.000.000483.000.000449.500.000173.000.000153.000.000285.000.000173.000.000465.000.000630.000.000849.000.000500.000.000700.000.000475.000.000450.000.0002.600.000.000449.500.0001.250.000.000422.000.000483.000.000350.000.000460.000.000430.000.000550.000.000475.000.000995.000.0004.200.000.000356.000.0001.300.000.000400.000.0002.520.000.000426.000.000390.500.0001.450.000.000491.000.000550.000.0001.000.000.000550.000.000960.000.000353.000.000475.000.000260.000.000515.000.0001.600.000.000255.000.000420.000.0001.800.000.000825.000.000289.900.000449.000.000152.000.000980.000.000860.000.0001.480.000.000870.000.0001.950.000.000148.000.000180.000.0001.158.199.973404.000.000360.000.000315.000.000473.000.000203.000.000203.823.0001.200.000.000143.000.000165.000.000235.000.0001.800.000.000360.000.000275.000.000190.000.000400.000.000145.000.000220.000.000515.000.000468.000.000360.000.000411.000.000535.000.000700.000.000520.000.000515.000.000410.000.000220.000.000144.000.000995.000.000980.000.000820.000.000196.000.000535.000.0001.250.000.000255.000.000475.000.000330.000.000295.000.000475.000.000116.000.000377.900.000310.000.000490.000.0002.000.000.000196.000.000560.000.000113.000.000419.000.000345.000.000136.600.000360.000.000550.000.0001.036.000.000700.000.000295.000.000522.500.000225.000.000275.000.000830.000.000420.000.000167.000.000550.000.000422.000.000356.000.000385.000.000175.000.000245.000.000700.000.000245.000.000910.000.000895.000.0001.600.000.000242.550.000242.550.000580.000.000700.000.000149.000.000430.000.000780.000.000850.000.000500.000.000203.823.000390.000.000330.000.000241.200.000490.000.0001.050.000.000850.000.000500.000.000458.000.000404.000.000795.000.000196.000.000419.600.000825.000.000290.000.000196.000.0001.050.000.0001.150.000.000430.000.000482.000.000630.000.000345.000.000390.000.000700.000.000458.000.000142.800.000372.000.0001.050.000.000408.000.000220.000.0001.700.000.000365.000.000515.000.000357.000.000500.000.000155.000.000700.000.000330.000.000170.000.000180.000.000180.000.000180.000.0001.200.000.0001.850.000.000180.000.000449.000.000255.000.000420.000.000590.000.0001.500.000.000350.000.000620.000.000500.000.000422.000.000134.000.000870.000.000360.000.000489.000.000680.000.000322.000.000300.000.000475.000.000750.000.000390.000.000496.000.000327.000.000265.000.000500.000.000440.000.0001.540.000.000870.000.0001.195.000.000585.000.000400.000.000735.000.000390.000.000390.000.000530.000.000390.000.0001.250.000.000630.000.000456.000.000228.000.000180.000.000470.000.000550.000.000415.000.000380.000.000136.000.000900.000.000995.000.000476.500.000460.000.000155.000.000390.000.000259.000.000368.000.000580.000.000278.000.000323.000.000176.500.000472.000.0001.290.000.000380.000.000710.000.000750.000.000272.250.000310.000.000144.000.000435.000.0001.950.000.000175.000.000520.000.000456.000.000168.000.000950.000.000390.500.000250.000.000460.000.000353.000.000585.000.000488.000.000397.000.000720.000.0001.000.000.0001.150.000.000465.000.000390.000.000535.000.000700.000.000483.000.000449.500.0001.250.000.000460.000.000422.000.000475.000.000475.000.000450.000.0002.600.000.0001.250.000.000390.500.000400.000.000356.000.0001.300.000.000491.000.000550.000.0002.900.000.000850.000.000330.000.000995.000.000203.823.000390.000.000230.000.000600.000.000187.000.000687.000.000419.600.000165.000.000399.000.000510.000.000282.150.000520.000.000370.260.000129.000.000550.000.000487.000.000749.000.000373.000.000153.000.000550.000.000516.000.000322.000.000900.000.000354.000.000650.000.000393.000.000210.000.000144.000.000323.000.000270.000.0001.050.000.0001.250.000.0001.000.000.000230.000.000190.080.000150.000.000640.000.000372.000.000460.000.000550.000.000449.000.000354.000.0003.100.000.000830.000.000310.000.000450.000.000490.000.000380.000.0001.500.000.000470.000.000491.000.000390.000.000460.000.000390.000.000270.000.0001.800.000.000430.000.000550.000.000825.000.000475.000.000995.000.000650.000.000610.000.000152.000.000280.000.000820.000.000260.000.000390.000.000153.000.0001.615.000.000520.000.000475.000.000242.550.000255.000.0001.200.000.000491.000.000400.000.000390.500.000390.500.000475.000.0001.550.000.0001.150.000.0001.050.000.000522.500.000245.000.000630.000.000330.000.0001.050.000.000408.000.000870.000.000409.000.000510.000.000482.000.000430.000.000535.000.000372.760.0001.380.000.000450.000.000440.000.0001.600.000.000280.000.000320.000.000390.000.000177.000.000825.000.0001.550.000.000175.000.000167.000.000153.000.000428.000.000530.000.000358.000.000256.000.000525.000.000153.000.000475.000.000210.000.000365.000.000335.000.000520.000.000550.000.000365.000.000116.000.000265.000.000290.000.000250.000.000360.000.0001.350.000.000375.000.000500.000.000780.000.000667.000.000496.000.000372.000.000295.000.000420.000.000330.000.000330.000.000205.000.000116.000.000437.000.000437.000.000330.000.0001.450.000.000365.000.000830.000.000450.000.000530.000.000290.500.000266.000.0002.550.000.000528.000.000130.000.0001.700.000.000980.000.000629.000.000430.000.000360.000.000220.800.0001.050.000.000850.000.000830.000.000220.800.000500.000.000458.000.000196.000.000196.000.000560.000.000113.000.000345.000.0001.036.000.000377.900.000475.000.000310.000.000475.000.000490.000.0002.000.000.000255.000.000550.000.0001.250.000.000700.000.000295.000.000330.000.000630.000.000142.800.000372.000.0001.050.000.000408.000.000345.000.000390.000.000700.000.000458.000.000680.000.000330.000.000158.000.000510.000.000387.000.000310.000.000455.000.000580.000.000739.000.000335.000.000462.000.0001.100.000.000620.000.000880.000.0002.200.000.0001.050.000.0001.200.000.000595.000.000479.000.000371.000.000347.000.000489.000.000298.000.000207.000.000167.000.000850.000.0001.400.000.000601.000.000483.000.000422.000.000350.000.000404.000.000398.422.000285.000.0002.200.000.0001.250.000.000130.000.000130.000.000479.000.000270.000.0001.050.000.000354.000.000900.000.000129.000.000550.000.000153.000.000550.000.000516.000.000650.000.000749.000.000322.000.000487.000.000260.000.000490.000.000322.000.0001.100.000.000370.000.000990.000.000520.000.0001.050.000.000180.000.000381.000.000285.000.000440.000.000277.000.000168.000.000300.000.000145.000.000850.000.000155.000.000587.000.000450.000.000290.000.000385.000.000137.000.0001.100.000.000119.000.000450.000.000870.000.000158.000.000152.000.000177.000.000525.000.000570.000.000167.500.000880.000.000950.000.000116.000.0001.200.000.000298.000.0001.290.000.000800.000.000127.000.000130.000.0002.180.000.000380.000.0001.100.000.000153.000.000160.500.000112.000.000524.000.000750.000.0002.550.000.000385.000.000408.000.000870.000.000158.000.000850.000.000119.000.000450.000.000170.000.000570.000.000920.000.000620.000.000119.000.0002.700.000.000550.000.000980.000.000440.000.000130.000.000460.000.000380.000.000180.000.000560.000.000895.000.000380.000.0001.200.000.000299.900.000330.000.000530.000.000340.000.000300.000.000195.000.000800.000.000660.000.000990.000.0001.100.000.0006.500.000.000800.000.000258.000.000130.000.000540.000.000480.000.000500.000.000500.000.0004.729.592.0005.500.000.000470.000.0001.400.000.000620.000.000580.000.000400.000.0004.000.000.0001.050.000.000650.000.000920.000.000920.000.000295.000.000269.500.000350.000.000950.000.000420.000.000491.000.000650.000.000495.000.000420.000.000234.000.000189.000.000950.000.000686.000.0001.100.000.0001.750.000.000434.000.000331.000.008700.000.000336.000.000700.000.000950.000.000265.200.000190.000.000425.000.000390.000.000338.000.000165.000.000269.500.000150.500.000450.000.000850.000.000370.000.000635.000.000790.000.000340.000.000320.000.000215.000.000423.000.0001.200.000.000430.000.000380.000.008700.000.000370.000.000718.000.000339.800.000450.000.000635.000.000215.000.000820.000.000339.800.0001.200.000.000450.000.000430.000.0081.200.000.000299.900.000330.000.000340.000.000530.000.000300.000.000195.000.000800.000.000990.000.000660.000.0006.500.000.000800.000.000258.000.0001.100.000.0001.400.000.000500.000.000480.000.000540.000.000470.000.0004.729.592.0005.500.000.000130.000.000500.000.000422.000.000167.000.0001.100.000.000298.000.000650.000.000686.000.0001.750.000.000434.000.000350.000.000420.000.000620.000.000495.000.000405.000.0001.300.000.000650.000.000150.000.000330.000.000400.000.000250.000.000920.000.000650.000.0001.630.000.000546.000.000548.000.000495.000.0004.000.000.000269.500.000234.000.000189.000.000420.000.000495.000.000920.000.000150.000.000330.000.000495.000.000650.000.000950.000.0001.050.000.000189.000.000295.000.000269.500.000920.000.000420.000.000950.000.000500.000.000580.000.0002.400.000.000189.000.000818.000.000950.000.000350.000.000165.000.000530.000.000550.000.000880.000.000182.000.000700.000.000980.000.000650.000.000398.000.000385.000.000340.000.000580.000.000140.000.000380.000.000470.000.000545.000.000337.000.000580.000.000500.000.000498.000.000820.000.000116.000.000131.000.000175.000.000460.000.000170.000.000470.000.0001.300.000.000235.000.000289.000.000425.000.000535.000.000598.000.0001.450.000.000534.000.000860.000.000500.000.000800.000.000330.000.000800.000.000330.000.000535.000.000575.000.000120.000.000380.000.000160.000.000146.500.000230.000.000115.000.000780.000.000474.000.000125.500.000519.000.0001.200.000.000720.000.000330.000.000328.000.000110.533.500132.000.0003.960.000.000199.000.000125.000.000375.000.000215.000.000397.000.000263.000.000146.000.000205.000.000139.000.000265.000.000218.000.000428.000.000500.000.000132.000.000110.533.500199.000.000490.000.000380.000.000520.000.000470.000.000370.000.000380.000.0001.300.000.000260.000.000711.000.000450.000.000340.000.000800.000.000132.000.0001.200.000.000128.000.000530.000.000370.000.000620.000.000525.000.000510.000.0001.100.000.000230.000.000395.000.000860.000.000500.000.000800.000.000330.000.000535.000.000575.000.000230.000.000115.000.000780.000.000474.000.0001.200.000.000720.000.000125.500.000397.000.000330.000.000519.000.000215.000.000263.000.000375.000.000125.000.000146.500.000160.000.000380.000.000120.000.000110.533.500205.000.000328.000.000450.000.000428.000.000218.000.000146.000.000139.000.000132.000.000199.000.000500.000.000490.000.0003.960.000.000250.000.000380.000.000850.000.000265.000.000260.000.0001.300.000.000380.000.000520.000.000450.000.000470.000.000370.000.000711.000.000340.000.000800.000.000132.000.0001.200.000.000128.000.000530.000.000205.000.000445.000.000380.000.000889.698.927270.000.000360.000.000450.000.000298.000.000260.000.00098.000.000187.000.000134.000.000117.000.000200.000.000285.000.000215.000.000244.000.000262.000.000500.000.000468.000.000290.000.000330.000.000116.000.000297.000.000242.000.000327.000.000257.000.000465.000.000337.000.000398.422.000163.000.000257.000.000477.000.000298.500.000131.000.000167.000.000380.000.000110.000.000355.000.000160.000.000222.000.000180.000.000407.000.000154.000.000357.000.000152.000.000187.000.000105.000.000154.000.000124.000.000145.660.000152.000.000245.000.00082.000.000396.000.000132.000.000170.000.000250.000.000340.000.000490.000.000328.000.000199.000.000120.000.000121.000.000110.000.000558.000.000150.000.000330.000.000191.070.000230.000.000180.000.000365.000.000133.000.000136.620.000171.000.000118.500.000186.000.000116.000.000500.000.00092.500.000188.000.000146.000.000200.000.000172.000.000168.000.000129.500.000159.000.000418.000.000423.000.000126.000.000448.000.000162.000.000145.000.000133.000.000152.000.000135.000.000167.000.000230.000.000127.500.000408.000.000290.000.000266.000.000278.000.000143.500.000145.530.000159.000.000186.000.000109.000.000177.000.000340.000.000205.000.000200.000.000142.000.000180.000.000397.000.000153.000.000275.000.000118.000.000320.000.000189.000.000480.700.000445.000.000292.000.000450.000.000240.600.000380.000.000133.000.000152.000.000151.500.000500.000.000327.000.000138.000.000204.930.000116.820.000245.000.000442.436.000348.000.000277.000.000126.000.000205.000.000440.000.000251.000.00099.000.000154.000.000172.000.000249.000.000310.000.000202.000.000369.000.000184.500.00084.150.000134.000.000306.000.000170.000.000295.000.000353.000.000270.000.000177.000.000312.000.000270.000.000202.000.000138.000.000327.000.000116.820.000295.000.000296.000.000204.930.000171.000.000186.000.000120.000.000205.000.000440.000.000500.000.000350.000.000167.000.000251.000.000205.000.000225.000.000176.000.000505.000.000280.000.000262.000.000500.000.000468.000.000290.000.000330.000.000116.000.000297.000.000242.000.000327.000.000257.000.000465.000.000337.000.000244.000.000398.422.00098.000.000187.000.000200.000.000285.000.000215.000.000134.000.000117.000.000163.000.000257.000.000477.000.000182.000.000200.000.000141.000.000170.000.000390.000.000320.000.000180.000.000131.000.000171.000.000298.500.000141.000.000320.000.000125.000.000185.000.000126.000.000145.500.000163.500.000332.000.000210.000.000177.000.000180.000.000610.000.000193.000.000152.000.000160.000.000133.000.000190.000.000153.000.000127.500.00095.000.000322.000.000150.000.000115.000.000162.000.000280.000.000129.000.000140.000.000212.000.000123.000.000138.000.000280.000.000162.000.000182.000.000200.000.000110.000.000115.000.000114.000.000380.000.000165.330.000450.000.000160.000.000143.000.000375.000.000292.000.000230.000.000408.000.000290.000.000320.000.000180.000.000153.000.000278.000.000175.000.000397.000.000240.600.000118.000.000275.000.000482.000.000108.000.000234.000.000125.000.000152.000.000133.000.000380.000.000145.000.000145.000.000365.000.000146.000.000180.000.000171.000.000188.000.000133.000.000136.620.000116.000.000500.000.000118.500.000186.000.00092.500.000496.000.000634.000.000350.000.000126.000.000277.000.000185.869.000186.000.000177.000.000205.000.000440.000.000442.436.000348.000.000500.000.000165.000.000309.000.000138.000.000208.000.000300.000.000483.000.000158.000.000110.500.000103.000.000300.000.000102.000.000309.000.000297.000.000182.000.000190.000.000450.000.000132.000.000119.000.000260.000.000200.000.000131.000.000160.000.000112.000.000253.500.000246.000.000510.000.000127.000.000250.000.000136.600.000270.000.000144.000.000197.000.000249.500.000141.000.000387.000.000300.000.000270.000.000119.000.000265.000.000166.000.000181.000.000190.000.000148.000.000560.000.000400.000.0002.000.000.000550.000.000800.000.000700.000.000340.000.000550.000.000450.000.000195.000.000750.000.000240.000.000450.000.000390.000.0001.500.000.000155.000.000320.000.000780.000.000200.000.000560.000.000800.000.000660.000.000380.000.0001.200.000.000155.000.000460.000.000550.000.000800.000.000700.000.000195.000.0001.100.000.000920.000.000150.000.000210.000.000195.000.000133.000.000120.000.000255.000.0001.700.000.000130.000.000180.000.000750.000.000420.000.000265.000.000140.000.0001.400.000.000320.000.000170.000.000420.000.000630.000.000290.000.000750.000.0001.400.000.000120.000.000133.000.000255.000.000130.000.000180.000.000140.000.000420.000.000265.000.000168.000.000295.000.000250.000.000160.000.000300.000.0001.400.000.000500.000.000300.000.000134.999.998280.000.000420.000.000260.000.000140.000.000290.000.0001.300.000.0001.080.000.000145.000.000190.000.000180.000.000450.000.000990.000.0001.900.000.000200.000.000320.000.000300.000.000600.000.000900.000.000320.000.000250.000.000750.000.000160.000.000230.000.0001.350.000.000395.000.000600.000.000150.000.000620.000.000690.000.0001.300.000.0001.590.000.000220.000.000230.000.000340.000.0001.500.000.0001.050.000.000850.000.0001.700.000.0001.650.000.000539.000.000400.000.000165.000.000290.000.000295.000.000250.000.000140.000.000420.000.000300.000.000134.999.998260.000.000280.000.000300.000.0001.400.000.0002.200.000.000700.000.000930.000.000160.000.000500.000.000450.000.000390.000.0001.080.000.000990.000.000145.000.000780.000.0001.900.000.0001.000.000.000320.000.000990.000.000300.000.000160.000.000750.000.000230.000.0001.050.000.0001.350.000.000560.000.0001.850.000.000350.000.000670.000.000370.000.000280.000.000430.000.000450.000.000505.000.000430.000.000450.000.0001.300.000.0001.590.000.000320.000.000320.000.000395.000.000600.000.000900.000.000250.000.000300.000.000780.000.000162.000.0001.590.000.000340.000.0001.500.000.000220.000.000850.000.000780.000.000115.000.000200.000.000550.000.000430.000.000600.000.000465.000.000650.000.000400.000.0001.200.000.000398.000.000160.000.000680.000.000330.000.000649.000.000700.000.000820.000.000180.000.000390.000.0001.080.000.000990.000.000145.000.000190.000.000450.000.000125.000.000580.000.000535.000.0001.350.000.000190.000.000150.000.0001.100.000.000750.000.000180.000.0001.900.000.000750.000.000880.000.000110.000.0001.050.000.000230.000.000240.000.000660.000.000160.000.000170.000.000460.000.000190.000.000540.000.000700.000.000197.000.000130.000.000680.000.000820.000.000649.000.000180.000.000430.000.000470.000.000187.000.0001.100.000.0001.500.000.000490.000.000370.000.000320.000.000275.000.0001.800.000.000320.000.000380.000.000700.000.000230.000.000290.000.0001.150.000.000115.000.000200.000.000470.000.000550.000.000300.000.000650.000.000230.000.000670.000.000355.000.000430.000.000680.000.000330.000.000950.000.000398.000.000465.000.000600.000.000670.000.000360.000.000580.000.000260.000.000550.000.000185.000.000163.000.000665.000.000750.000.000312.000.000300.000.0001.050.000.000460.000.000560.000.000197.000.000580.000.000535.000.0001.350.000.000180.000.0001.900.000.000600.000.000280.000.000140.000.000160.000.000170.000.000660.000.000230.000.000240.000.000110.000.000540.000.0003.500.000.000188.000.000848.000.0001.150.000.000510.000.000310.000.000145.000.000699.000.000490.000.000200.000.000300.000.000196.000.000570.000.000330.000.000480.000.0001.500.000.000900.000.000480.000.0001.100.000.000698.000.0001.300.000.000400.000.000330.000.000650.000.000340.000.0002.000.000.000155.000.000750.000.000155.000.000760.000.000700.000.000430.000.000160.000.000550.000.000465.000.000600.000.000580.000.000398.000.000330.000.000312.000.000560.000.000490.000.000200.000.000650.000.000900.000.0001.850.000.000130.000.000320.000.000150.000.000190.000.000800.000.000190.000.0001.550.000.000400.000.000650.000.000135.000.000550.000.000700.000.0001.600.000.0001.500.000.000205.000.000649.000.000150.000.000230.000.000730.000.000200.000.000205.000.000430.000.000610.000.000260.000.0001.800.000.0001.300.000.000520.000.000650.000.0001.600.000.0001.300.000.0001.500.000.000430.000.000185.000.000310.000.000400.000.000650.000.000135.000.000240.000.000190.000.000130.000.0001.550.000.000250.000.000390.000.000320.000.000185.000.000310.000.000390.000.000250.000.000500.000.000550.000.000700.000.000649.000.000820.000.000700.000.000150.000.000530.000.000780.000.000286.500.0001.150.000.000650.000.000115.000.000850.000.0001.400.000.000160.000.000520.000.000270.000.000700.000.000200.000.000150.000.000730.000.000230.000.000390.000.0001.300.000.000350.000.000130.000.000390.000.000190.000.0001.550.000.000365.000.000220.000.000310.000.000400.000.000650.000.000135.000.000700.000.0001.600.000.000165.000.000620.000.0001.850.000.000240.000.000800.000.000300.000.000185.000.000290.000.000430.000.000550.000.000650.000.000150.000.000230.000.000700.000.000730.000.000600.000.000290.000.000205.000.000560.000.0001.500.000.000390.000.000200.000.000380.000.000450.000.000155.000.000460.000.000610.000.000800.000.000210.000.000320.000.000195.000.0001.100.000.000920.000.000340.000.000550.000.0002.000.000.000155.000.000150.000.000780.000.000660.000.000550.000.000400.000.000170.000.000420.000.000355.000.000650.000.000600.000.000805.000.000200.000.000850.000.000170.000.000335.000.000250.000.000850.000.000215.000.0001.200.000.000950.000.000510.000.000480.000.000480.000.000235.000.000600.000.000649.999.999650.000.0001.300.000.000300.000.000290.000.000210.000.000125.000.000440.000.000600.000.000175.000.000900.000.000125.000.0001.200.000.000145.000.000130.000.000500.000.000200.000.000590.000.000400.000.000365.000.000130.000.000137.000.000550.000.000185.000.0001.100.000.000430.000.000375.000.000110.000.000110.000.000150.000.000560.000.000468.000.000130.000.0001.950.000.000668.000.000180.000.000400.000.000700.000.000200.000.000340.000.000349.000.000850.000.000300.000.000550.000.0001.300.000.000150.000.000350.000.000430.000.000500.000.000145.000.000600.000.000850.000.0001.700.000.0001.650.000.000539.000.000400.000.000165.000.000290.000.000295.000.000250.000.000140.000.000420.000.000300.000.000134.999.998260.000.000280.000.000300.000.0001.400.000.0002.200.000.000700.000.000930.000.000160.000.000500.000.000450.000.000390.000.0001.080.000.000470.000.000600.000.000320.000.000700.000.000180.000.000850.000.000155.000.000164.000.000490.000.000410.000.000750.000.000130.000.000550.000.000177.600.000560.000.000780.000.000380.000.000160.000.0001.700.000.0001.050.000.000650.000.000170.000.0001.301.265.0001.200.000.000155.000.000185.000.000190.000.000200.000.000190.000.000500.000.000170.000.000155.000.000180.000.000230.000.000380.000.000280.000.000320.000.000320.000.0001.170.000.000450.000.000650.000.000800.000.000245.000.0001.100.000.000850.000.000540.000.000210.000.000225.000.000350.000.000210.000.000310.000.000225.000.000160.000.000170.000.000500.000.000400.000.000110.000.000550.000.000510.000.000950.000.000890.000.000720.000.000480.000.000169.000.000378.000.000290.000.000355.000.000550.000.000170.000.000600.000.000200.000.000630.000.000285.000.000520.000.000170.000.000560.000.000410.000.000800.000.000175.000.000270.000.000140.000.0001.000.000.000120.000.000478.900.000260.000.000650.000.0002.600.000.000170.000.000420.000.000700.000.000380.000.000170.000.000385.000.000530.000.0001.300.000.000160.000.000580.000.000820.000.000180.000.0002.350.000.000948.000.000260.000.000360.000.000385.000.000250.000.000165.000.000308.000.000330.000.000128.000.000850.000.000153.500.000450.000.000530.000.000520.000.000400.000.000600.000.0003.500.000.000400.000.000360.000.000300.000.000850.000.000500.000.000350.000.000750.000.000450.000.000670.000.000270.000.000180.000.000270.000.000450.000.000175.000.000550.000.000140.000.000478.900.000250.000.000800.000.000400.000.000110.000.000230.000.000450.000.000380.000.000530.000.000160.000.000400.000.0001.170.000.000320.000.000153.500.000290.000.000245.000.0003.500.000.000660.000.000230.000.000240.000.000110.000.000540.000.000700.000.000685.000.000180.000.000450.000.000880.000.000230.000.000550.000.000560.000.000120.000.000220.000.000420.000.000190.000.000180.000.000450.000.000180.000.0001.300.000.0001.100.000.000750.000.000310.000.000300.000.000848.000.000145.000.000699.000.000196.000.000570.000.0001.300.000.000200.000.000515.000.000680.000.000155.000.000400.000.000320.000.000140.000.000450.000.0001.300.000.000820.000.000350.000.000530.000.000600.000.000710.000.000168.000.000280.000.000520.000.0001.400.000.000250.000.0001.000.000.000600.000.000130.000.000120.000.000460.000.000620.000.0001.050.000.000240.000.000135.000.000120.000.000135.000.000550.000.000700.000.0001.600.000.0001.500.000.000165.000.000750.000.0001.120.000.000330.000.000620.000.0002.000.000.000155.000.000245.000.000240.000.0001.300.000.000400.000.000220.000.000365.000.000340.000.000480.000.000480.000.0001.100.000.000698.000.000785.000.000700.000.000155.000.0001.000.000.0001.200.000.000300.000.000550.000.000730.000.000135.000.000250.000.000800.000.000660.000.000380.000.000600.000.000480.000.000485.000.000385.000.000500.000.0001.600.000.000309.000.000260.000.0001.300.000.000340.000.000400.000.000590.000.0001.200.000.000550.000.000680.000.000330.000.000240.000.0001.200.000.000240.000.000310.000.000430.000.000198.000.000120.000.000750.000.000155.000.0001.820.000.000420.000.000900.000.000370.000.000230.000.000480.000.000450.000.000380.000.000370.000.000210.000.000850.000.000340.000.000420.000.000497.000.000340.000.000174.999.999430.000.0001.300.000.000240.000.000300.000.000430.000.000300.000.000850.000.000900.000.000420.000.000120.000.0001.000.000.000850.000.000690.000.000250.000.000174.999.9991.250.000.000250.000.000198.000.000850.000.000340.000.000497.000.000420.000.000999.000.000240.000.0001.200.000.000125.000.000380.000.000300.000.000250.000.000485.000.000159.000.000135.000.000302.800.000370.000.000359.000.000279.000.000222.000.000379.000.000465.000.000720.000.000515.000.000640.000.000266.000.000720.000.000640.000.000275.000.000195.000.000165.000.000410.000.000300.000.000650.000.000635.000.000550.000.000140.000.000230.000.000445.000.000270.000.000150.000.000160.000.000440.000.000285.000.000250.000.000600.000.000320.000.000210.000.000780.000.000310.000.000290.000.000410.000.000460.000.000361.000.000395.000.000468.000.000234.000.000285.000.000250.000.000600.000.000361.000.000460.000.000320.000.000290.000.000410.000.000310.000.000210.000.000780.000.000570.000.0002.500.000.000200.000.000270.000.000360.000.000480.000.000590.000.0001.600.000.000850.000.000230.000.000330.000.000800.000.000560.000.000430.000.000265.000.000133.000.000950.000.000275.000.000519.000.0001.100.000.000650.000.000140.000.0001.200.000.000285.000.000250.000.000320.000.000361.000.000460.000.000600.000.000290.000.000410.000.000310.000.000210.000.000780.000.000550.000.000550.000.000180.000.0001.700.000.000252.000.000145.000.000340.000.000175.000.000490.000.000128.000.000165.000.000440.000.000410.000.000850.000.000158.000.0001.950.000.000275.000.000560.000.000225.000.000145.000.000185.000.000116.100.000550.000.000117.000.000260.000.000890.000.000180.000.0001.500.000.000500.000.000300.000.000380.000.000485.000.000360.000.000640.000.000195.000.000565.000.000650.000.000560.000.000596.614.000373.226.000389.708.000456.742.000596.614.000389.708.000373.226.000495.000.000850.000.000900.000.000389.708.000214.900.000347.429.519365.000.000422.000.000580.000.000560.000.0001.030.000.000450.000.000340.200.000150.000.000171.171.000350.000.000420.000.000272.000.000162.000.000255.000.000255.000.000340.000.000405.000.000210.000.000109.385.000395.000.000210.000.000189.600.000190.000.000420.000.000340.000.000500.000.000343.000.000177.000.000281.000.000260.000.0001.690.000.0002.101.242.0001.050.000.000150.000.000456.820.992167.700.000182.800.000192.800.000189.000.000300.000.000410.000.000342.000.000398.800.000300.000.000599.000.000595.000.0001.150.000.138790.000.00010.451.500.0001.995.000.0461.573.191.375406.000.000320.000.000267.000.000450.000.000135.000.00095.000.000160.000.000405.000.000320.000.000405.000.000320.000.000340.000.000109.385.000260.000.000425.000.000515.000.000256.500.000325.000.000340.000.000180.000.000239.000.000345.000.000202.000.000127.000.000175.000.0002.515.535.000650.000.000439.516.0001.000.000.000360.000.000370.000.0001.300.000.000680.000.000450.000.000382.000.000180.000.000222.000.000202.000.000463.000.000420.000.000375.000.000835.000.000460.000.000550.000.000320.000.000330.000.000128.000.000117.000.000260.000.000477.000.0001.600.000.000510.000.000473.000.000485.000.000580.000.000310.000.000180.000.000250.000.000310.000.000200.000.000790.000.000950.000.0005.000.000.0001.100.000.0001.800.000.000550.000.000410.000.000155.000.0001.100.000.0001.000.000.000185.000.000180.000.000138.000.000180.000.000193.000.000650.000.000601.000.0001.310.000.000185.000.000163.000.000355.000.000205.000.000177.500.000370.000.000435.000.000395.000.000195.000.000140.000.000210.000.000810.000.0001.380.000.000700.000.000475.000.000182.000.000355.000.000457.000.000355.000.000120.000.000340.000.000280.000.000453.500.000210.000.000600.000.000210.000.000230.000.000195.000.000202.000.000195.000.000190.000.000470.000.000355.000.000245.000.000453.500.000370.000.000330.000.000150.000.000255.000.000280.000.000324.000.000166.000.000260.000.000453.500.000650.000.000750.000.000190.000.000202.000.000205.000.000205.000.000870.000.000109.000.000205.000.0002.133.000.000202.000.000166.000.000320.000.000120.000.000415.000.000453.500.000400.000.000550.000.0002.800.000.000355.000.000166.000.000185.000.000166.000.000453.500.000353.000.000222.000.000409.000.000463.000.000280.000.000450.000.000629.000.000280.000.000310.000.000125.000.000340.000.000450.000.000650.000.000870.000.000850.000.000434.000.000220.000.0004.100.000.000389.708.000214.900.000142.000.000370.000.000135.000.0001.400.000.000184.500.000142.000.000800.000.000485.000.000380.000.000515.000.000260.000.000460.000.000630.000.000850.000.0002.100.000.000776.000.000650.000.000300.000.000410.000.000342.000.000398.800.000300.000.000599.000.000595.000.0001.150.000.138790.000.00010.451.500.0001.995.000.0461.573.191.375406.000.000320.000.000267.000.000450.000.000135.000.00095.000.000160.000.000405.000.000320.000.000405.000.000320.000.000340.000.000109.385.000260.000.000425.000.000515.000.000256.500.000325.000.0001.100.000.000795.000.000120.000.0001.937.500.000440.000.0002.300.000.000340.000.0001.368.000.0001.368.000.000210.000.000220.000.000650.000.000350.000.000220.000.000300.000.000113.000.000380.000.000450.000.000190.000.000423.000.000193.000.000340.000.0001.800.000.000180.000.000205.000.000239.000.000345.000.000202.000.000127.000.000175.000.0002.515.535.000650.000.000202.000.000222.000.000463.000.000180.000.000439.516.0001.000.000.000360.000.0001.300.000.000680.000.000450.000.000370.000.0001.100.000.000310.000.000310.000.000200.000.000180.000.000580.000.000180.000.000155.000.0001.000.000.000185.000.0001.100.000.000180.000.000138.000.000355.000.000457.000.000210.000.000700.000.000182.000.000177.500.000475.000.000355.000.000475.000.000810.000.0001.380.000.000355.000.000222.000.000195.000.000230.000.000195.000.000195.000.000700.000.000475.000.000182.000.000355.000.000457.000.000355.000.000120.000.000340.000.000280.000.000453.500.000210.000.000600.000.000210.000.000230.000.000195.000.000202.000.000195.000.000195.000.000225.000.000166.000.0001.300.000.000225.000.000166.000.000185.000.000222.000.000149.000.000163.000.000410.000.000211.000.000353.000.000163.000.000600.000.000210.000.000340.000.000410.000.000210.000.000280.000.000453.500.000353.000.000166.000.000166.000.0001.300.000.000202.000.000210.000.000355.000.000245.000.000166.000.000370.000.000453.500.000166.000.000205.000.000270.000.000170.000.000276.000.000463.000.000850.000.000355.000.000210.000.000463.000.000860.000.000353.000.000202.000.000320.000.000650.000.000280.000.000324.000.000453.500.000166.000.000255.000.000245.000.000195.000.000195.000.000195.000.000249.000.000275.000.000170.000.000550.000.0006.400.000.000233.000.000420.000.000990.000.000435.000.000355.000.0001.200.000.000291.000.000695.000.000260.000.000150.000.016990.000.000599.000.000260.000.000150.000.016990.000.000958.000.000276.000.000195.000.000700.000.000245.000.000175.000.000420.000.000300.000.000800.000.000380.000.000340.000.000520.000.000230.000.000980.000.000630.000.000341.550.000502.000.000160.000.000399.000.000445.900.000419.990.000281.900.0002.000.000.0001.300.000.000286.000.0001.550.000.000286.000.000420.000.000375.000.0002.500.000.0003.000.000.000710.000.000312.000.000207.400.000850.000.0001.150.000.0001.590.000.000530.000.0001.750.000.000385.000.0001.200.000.0001.080.000.000560.000.000330.000.000730.000.000760.000.000495.000.000540.000.000540.000.000695.000.0003.961.962.0002.317.500.0001.000.000.000390.000.000295.000.0002.317.500.0001.000.000.0003.961.962.0002.200.000.000950.000.000600.000.000495.000.000340.000.0001.300.000.000756.000.0001.400.000.000850.000.000223.000.000460.000.000435.000.000394.000.000450.000.000720.000.000890.000.000518.990.0001.900.000.000780.000.000460.000.000590.000.000470.000.000550.000.000899.800.000780.000.000785.000.0002.499.900.0001.800.000.000690.000.000388.900.0001.550.000.0001.850.000.000510.000.000526.000.0002.200.000.0001.500.000.000175.000.000549.990.000354.000.0002.500.000.000520.000.000750.000.0001.300.000.000530.000.000630.000.000795.000.0001.700.000.000529.000.000850.000.0002.550.000.000350.000.000795.000.0001.550.000.000425.000.000460.000.000170.000.000160.000.000980.000.000270.000.000650.000.000267.000.000487.000.000389.000.000375.000.000370.000.000420.000.0001.490.000.000245.000.000690.000.000369.990.000385.000.000550.000.000399.000.000160.000.000445.900.000419.990.000281.900.0002.000.000.0001.300.000.000286.000.000375.000.0003.000.000.0002.500.000.0001.550.000.000420.000.000286.000.0003.690.000.000500.000.0003.000.000.0001.300.000.0001.350.000.000360.000.0001.200.000.000420.000.000710.000.000854.000.0002.400.000.000108.000.000494.400.000174.000.000340.000.000324.000.0002.200.000.0003.550.000.000400.000.0001.793.000.0001.650.000.000317.000.000450.000.0001.500.000.000180.000.000550.000.000698.000.0001.200.000.000515.000.000390.000.000495.000.000390.000.000590.000.000985.000.000540.000.000210.000.000290.500.0002.050.000.000290.500.0001.200.000.000483.000.0001.800.000.0002.900.000.000950.000.000495.000.000400.000.000315.000.000405.000.000430.000.0001.949.900.0001.500.000.000459.100.0002.500.000.000359.000.000510.000.0002.100.000.000320.000.0002.000.000.000780.000.0002.500.000.000580.000.000203.000.000740.000.000520.000.0001.400.000.0001.250.000.0003.000.000.0001.690.000.000456.000.0002.500.000.000549.990.000388.900.0002.200.000.0003.800.000.000375.000.0004.620.000.0002.499.900.000870.000.000720.000.0001.850.000.000440.000.000354.000.0001.550.000.000510.000.000526.000.0001.500.000.000435.000.000879.000.000690.000.000920.000.0001.250.000.0003.000.000.000879.000.0001.100.000.000920.000.000435.000.000630.000.000795.000.000795.000.000270.000.000170.000.000160.000.000460.000.0001.700.000.000530.000.000350.000.000750.000.000529.000.000850.000.0001.300.000.000650.000.000267.000.000487.000.0001.550.000.000425.000.0002.550.000.000420.000.000375.000.000370.000.000385.000.000360.000.000420.000.000108.000.0002.400.000.000494.400.0001.200.000.000560.000.000174.000.000149.900.000420.000.000470.000.000457.000.000366.000.000480.000.000280.000.000350.000.000253.000.000457.000.000345.000.000402.000.000483.000.000350.000.000278.000.000199.478.700410.000.000260.000.000332.000.000260.000.000258.000.00079.000.00093.000.000140.000.000666.000.000281.000.000167.000.000355.000.000250.000.000730.000.000170.000.000480.000.000285.000.000158.000.000145.000.000190.000.000250.000.000120.000.000250.000.000280.000.000260.000.000285.000.000275.000.000280.000.000145.000.000300.000.000230.000.000200.000.000145.000.000310.000.0002.800.000.000265.000.000360.000.000850.000.000580.000.000410.000.000530.000.000415.800.000700.000.0001.050.000.000660.000.000305.000.000520.000.000360.000.000170.000.000331.000.0001.500.000.0001.400.000.000799.000.000920.000.000450.000.000780.000.000367.000.000450.000.000579.500.000580.000.000180.000.000416.000.000400.000.000180.000.000526.000.0001.430.000.000260.000.000500.000.0002.800.000.000260.000.000370.000.000455.000.000650.000.000750.000.000390.000.000370.000.000565.000.000360.000.000885.000.000257.000.000220.000.000160.000.000180.000.000200.000.000450.000.0001.850.000.000170.000.000320.000.000200.000.000390.000.000360.000.000565.000.000370.000.000257.000.000885.000.000220.000.000230.000.0001.300.000.000650.000.0001.450.000.000320.000.000550.000.000390.000.000970.000.000750.000.000300.000.0001.050.000.000365.000.000580.000.000305.000.0001.350.000.000750.000.000730.000.000430.000.000256.000.0001.650.000.0001.590.000.000285.000.000285.000.000930.000.000190.000.000950.000.000850.000.000898.000.000680.000.000370.000.0001.400.000.000980.000.000305.000.0001.900.000.0001.450.000.000780.000.0001.950.000.000890.000.000630.000.0002.200.000.0001.180.000.000800.000.000290.000.000250.000.0001.290.000.000220.000.000480.000.000550.000.000410.000.000443.100.000589.740.868345.000.000589.740.8681.400.000.000450.000.000645.853.7021.350.000.0001.300.000.0004.600.000.000840.000.000866.522.476440.000.0001.100.000.000375.000.000810.000.000500.000.000394.000.000459.000.000485.000.000372.000.000470.000.000850.000.000722.000.000620.000.000779.000.0003.500.000.000693.000.000700.000.000990.000.000535.000.000400.000.000720.000.000499.000.000480.000.000530.000.000565.000.000460.000.0002.550.000.0001.190.000.0001.700.000.000624.000.000155.000.000330.000.000250.000.000155.000.0002.000.000.000380.000.000650.000.000160.000.000145.000.000650.000.000300.000.0001.300.000.000208.000.000550.000.000520.000.000360.000.000590.000.000167.000.000160.000.000650.000.000145.000.000650.000.0001.050.000.000550.000.000208.000.0001.300.000.000500.000.000189.000.000300.000.000350.000.000280.000.000300.000.000190.000.000498.000.000650.000.000360.000.000395.000.0001.170.000.000650.000.000310.000.000315.000.000520.000.000700.000.000400.000.000170.000.000750.000.000950.000.000950.000.000400.000.000450.000.000200.000.000200.000.000305.000.000385.000.0002.800.000.000600.000.000310.000.000269.500.000170.000.000650.000.0001.170.000.000395.000.000280.000.000820.000.000700.000.000450.000.000370.000.0001.200.000.000730.000.000300.000.000900.000.000295.000.000374.000.000490.000.000600.000.000490.000.000730.000.000300.000.0001.200.000.0001.500.000.000600.000.000900.000.000750.000.000240.000.000590.000.000820.000.0001.350.000.0002.990.000.000220.000.0001.450.000.000451.500.000140.000.000155.000.000750.000.000170.000.000430.000.000800.000.0001.000.000.000790.000.000390.000.000400.000.000160.000.000700.000.000620.000.000500.000.000182.000.000130.000.000500.000.000245.000.000697.000.000380.000.0001.400.000.000780.000.0001.150.000.000940.000.000300.000.000105.000.000200.000.000990.000.000300.000.000290.000.000375.000.000320.000.000415.000.000320.000.0001.500.000.000550.000.000175.000.000480.000.000541.900.000390.000.000200.000.000500.000.000370.000.000175.000.000580.000.000178.000.000260.000.000690.000.000880.000.0003.950.000.000400.000.000140.000.000160.000.000780.000.000605.000.000372.100.000330.000.000287.000.000380.000.000340.000.0003.200.000.000330.000.000140.000.0001.250.000.000165.000.0001.375.000.000615.000.0001.200.000.000555.000.000290.000.000670.000.000900.000.000335.000.000144.990.000'"
            ],
            "application/vnd.google.colaboratory.intrinsic+json": {
              "type": "string"
            }
          },
          "metadata": {},
          "execution_count": 43
        }
      ]
    },
    {
      "cell_type": "code",
      "source": [
        "inmuebles['Precio'] = inmuebles['Precio'].str.replace('.','',regex=True)"
      ],
      "metadata": {
        "id": "O4PZCY0AOTIh"
      },
      "execution_count": null,
      "outputs": []
    },
    {
      "cell_type": "code",
      "source": [
        "inmuebles[['Precio','Barrio']]"
      ],
      "metadata": {
        "colab": {
          "base_uri": "https://localhost:8080/",
          "height": 423
        },
        "id": "85K4T3OXOm-_",
        "outputId": "33b97553-2f54-4cfa-b654-9be013c08ebb"
      },
      "execution_count": null,
      "outputs": [
        {
          "output_type": "execute_result",
          "data": {
            "text/plain": [
              "          Precio                  Barrio\n",
              "0      360000000      Zona Noroccidental\n",
              "1      670000000                Castilla\n",
              "2     1120000000         Chico Reservado\n",
              "3      890000000                 Usaquén\n",
              "4      970000000             Bella Suiza\n",
              "...          ...                     ...\n",
              "9515   290000000                 Kennedy\n",
              "9516   670000000  Parque Central Bavaria\n",
              "9517   900000000                Restrepo\n",
              "9518   335000000                Engativa\n",
              "9519   144990000                 Tintala\n",
              "\n",
              "[9520 rows x 2 columns]"
            ],
            "text/html": [
              "\n",
              "  <div id=\"df-a7e33c75-5257-40aa-956e-b2f8431263ff\">\n",
              "    <div class=\"colab-df-container\">\n",
              "      <div>\n",
              "<style scoped>\n",
              "    .dataframe tbody tr th:only-of-type {\n",
              "        vertical-align: middle;\n",
              "    }\n",
              "\n",
              "    .dataframe tbody tr th {\n",
              "        vertical-align: top;\n",
              "    }\n",
              "\n",
              "    .dataframe thead th {\n",
              "        text-align: right;\n",
              "    }\n",
              "</style>\n",
              "<table border=\"1\" class=\"dataframe\">\n",
              "  <thead>\n",
              "    <tr style=\"text-align: right;\">\n",
              "      <th></th>\n",
              "      <th>Precio</th>\n",
              "      <th>Barrio</th>\n",
              "    </tr>\n",
              "  </thead>\n",
              "  <tbody>\n",
              "    <tr>\n",
              "      <th>0</th>\n",
              "      <td>360000000</td>\n",
              "      <td>Zona Noroccidental</td>\n",
              "    </tr>\n",
              "    <tr>\n",
              "      <th>1</th>\n",
              "      <td>670000000</td>\n",
              "      <td>Castilla</td>\n",
              "    </tr>\n",
              "    <tr>\n",
              "      <th>2</th>\n",
              "      <td>1120000000</td>\n",
              "      <td>Chico Reservado</td>\n",
              "    </tr>\n",
              "    <tr>\n",
              "      <th>3</th>\n",
              "      <td>890000000</td>\n",
              "      <td>Usaquén</td>\n",
              "    </tr>\n",
              "    <tr>\n",
              "      <th>4</th>\n",
              "      <td>970000000</td>\n",
              "      <td>Bella Suiza</td>\n",
              "    </tr>\n",
              "    <tr>\n",
              "      <th>...</th>\n",
              "      <td>...</td>\n",
              "      <td>...</td>\n",
              "    </tr>\n",
              "    <tr>\n",
              "      <th>9515</th>\n",
              "      <td>290000000</td>\n",
              "      <td>Kennedy</td>\n",
              "    </tr>\n",
              "    <tr>\n",
              "      <th>9516</th>\n",
              "      <td>670000000</td>\n",
              "      <td>Parque Central Bavaria</td>\n",
              "    </tr>\n",
              "    <tr>\n",
              "      <th>9517</th>\n",
              "      <td>900000000</td>\n",
              "      <td>Restrepo</td>\n",
              "    </tr>\n",
              "    <tr>\n",
              "      <th>9518</th>\n",
              "      <td>335000000</td>\n",
              "      <td>Engativa</td>\n",
              "    </tr>\n",
              "    <tr>\n",
              "      <th>9519</th>\n",
              "      <td>144990000</td>\n",
              "      <td>Tintala</td>\n",
              "    </tr>\n",
              "  </tbody>\n",
              "</table>\n",
              "<p>9520 rows × 2 columns</p>\n",
              "</div>\n",
              "      <button class=\"colab-df-convert\" onclick=\"convertToInteractive('df-a7e33c75-5257-40aa-956e-b2f8431263ff')\"\n",
              "              title=\"Convert this dataframe to an interactive table.\"\n",
              "              style=\"display:none;\">\n",
              "        \n",
              "  <svg xmlns=\"http://www.w3.org/2000/svg\" height=\"24px\"viewBox=\"0 0 24 24\"\n",
              "       width=\"24px\">\n",
              "    <path d=\"M0 0h24v24H0V0z\" fill=\"none\"/>\n",
              "    <path d=\"M18.56 5.44l.94 2.06.94-2.06 2.06-.94-2.06-.94-.94-2.06-.94 2.06-2.06.94zm-11 1L8.5 8.5l.94-2.06 2.06-.94-2.06-.94L8.5 2.5l-.94 2.06-2.06.94zm10 10l.94 2.06.94-2.06 2.06-.94-2.06-.94-.94-2.06-.94 2.06-2.06.94z\"/><path d=\"M17.41 7.96l-1.37-1.37c-.4-.4-.92-.59-1.43-.59-.52 0-1.04.2-1.43.59L10.3 9.45l-7.72 7.72c-.78.78-.78 2.05 0 2.83L4 21.41c.39.39.9.59 1.41.59.51 0 1.02-.2 1.41-.59l7.78-7.78 2.81-2.81c.8-.78.8-2.07 0-2.86zM5.41 20L4 18.59l7.72-7.72 1.47 1.35L5.41 20z\"/>\n",
              "  </svg>\n",
              "      </button>\n",
              "      \n",
              "  <style>\n",
              "    .colab-df-container {\n",
              "      display:flex;\n",
              "      flex-wrap:wrap;\n",
              "      gap: 12px;\n",
              "    }\n",
              "\n",
              "    .colab-df-convert {\n",
              "      background-color: #E8F0FE;\n",
              "      border: none;\n",
              "      border-radius: 50%;\n",
              "      cursor: pointer;\n",
              "      display: none;\n",
              "      fill: #1967D2;\n",
              "      height: 32px;\n",
              "      padding: 0 0 0 0;\n",
              "      width: 32px;\n",
              "    }\n",
              "\n",
              "    .colab-df-convert:hover {\n",
              "      background-color: #E2EBFA;\n",
              "      box-shadow: 0px 1px 2px rgba(60, 64, 67, 0.3), 0px 1px 3px 1px rgba(60, 64, 67, 0.15);\n",
              "      fill: #174EA6;\n",
              "    }\n",
              "\n",
              "    [theme=dark] .colab-df-convert {\n",
              "      background-color: #3B4455;\n",
              "      fill: #D2E3FC;\n",
              "    }\n",
              "\n",
              "    [theme=dark] .colab-df-convert:hover {\n",
              "      background-color: #434B5C;\n",
              "      box-shadow: 0px 1px 3px 1px rgba(0, 0, 0, 0.15);\n",
              "      filter: drop-shadow(0px 1px 2px rgba(0, 0, 0, 0.3));\n",
              "      fill: #FFFFFF;\n",
              "    }\n",
              "  </style>\n",
              "\n",
              "      <script>\n",
              "        const buttonEl =\n",
              "          document.querySelector('#df-a7e33c75-5257-40aa-956e-b2f8431263ff button.colab-df-convert');\n",
              "        buttonEl.style.display =\n",
              "          google.colab.kernel.accessAllowed ? 'block' : 'none';\n",
              "\n",
              "        async function convertToInteractive(key) {\n",
              "          const element = document.querySelector('#df-a7e33c75-5257-40aa-956e-b2f8431263ff');\n",
              "          const dataTable =\n",
              "            await google.colab.kernel.invokeFunction('convertToInteractive',\n",
              "                                                     [key], {});\n",
              "          if (!dataTable) return;\n",
              "\n",
              "          const docLinkHtml = 'Like what you see? Visit the ' +\n",
              "            '<a target=\"_blank\" href=https://colab.research.google.com/notebooks/data_table.ipynb>data table notebook</a>'\n",
              "            + ' to learn more about interactive tables.';\n",
              "          element.innerHTML = '';\n",
              "          dataTable['output_type'] = 'display_data';\n",
              "          await google.colab.output.renderOutput(dataTable, element);\n",
              "          const docLink = document.createElement('div');\n",
              "          docLink.innerHTML = docLinkHtml;\n",
              "          element.appendChild(docLink);\n",
              "        }\n",
              "      </script>\n",
              "    </div>\n",
              "  </div>\n",
              "  "
            ]
          },
          "metadata": {},
          "execution_count": 46
        }
      ]
    },
    {
      "cell_type": "code",
      "source": [
        "inmuebles.info()"
      ],
      "metadata": {
        "colab": {
          "base_uri": "https://localhost:8080/"
        },
        "id": "ZP57N8bXO9Lm",
        "outputId": "7127ee91-ca38-442e-9430-8aa9dd59b206"
      },
      "execution_count": null,
      "outputs": [
        {
          "output_type": "stream",
          "name": "stdout",
          "text": [
            "<class 'pandas.core.frame.DataFrame'>\n",
            "RangeIndex: 9520 entries, 0 to 9519\n",
            "Data columns (total 10 columns):\n",
            " #   Column        Non-Null Count  Dtype \n",
            "---  ------        --------------  ----- \n",
            " 0   Tipo          9520 non-null   object\n",
            " 1   Descripcion   9520 non-null   object\n",
            " 2   Habitaciones  9520 non-null   int64 \n",
            " 3   Banos         9520 non-null   int64 \n",
            " 4   Area          9520 non-null   int64 \n",
            " 5   Barrio        9520 non-null   object\n",
            " 6   UPZ           9478 non-null   object\n",
            " 7   Valor         9520 non-null   object\n",
            " 8   Moneda        9520 non-null   object\n",
            " 9   Precio        9520 non-null   object\n",
            "dtypes: int64(3), object(7)\n",
            "memory usage: 743.9+ KB\n"
          ]
        }
      ]
    },
    {
      "cell_type": "code",
      "source": [
        "inmuebles['Precio_Millon'] = inmuebles.Precio.astype('float')/1000000\n",
        "inmuebles.info()"
      ],
      "metadata": {
        "colab": {
          "base_uri": "https://localhost:8080/"
        },
        "id": "0JwDQyb6POMq",
        "outputId": "051f1d7f-fc6b-4e2b-fd23-c2aace7491f0"
      },
      "execution_count": null,
      "outputs": [
        {
          "output_type": "stream",
          "name": "stdout",
          "text": [
            "<class 'pandas.core.frame.DataFrame'>\n",
            "RangeIndex: 9520 entries, 0 to 9519\n",
            "Data columns (total 11 columns):\n",
            " #   Column         Non-Null Count  Dtype  \n",
            "---  ------         --------------  -----  \n",
            " 0   Tipo           9520 non-null   object \n",
            " 1   Descripcion    9520 non-null   object \n",
            " 2   Habitaciones   9520 non-null   int64  \n",
            " 3   Banos          9520 non-null   int64  \n",
            " 4   Area           9520 non-null   int64  \n",
            " 5   Barrio         9520 non-null   object \n",
            " 6   UPZ            9478 non-null   object \n",
            " 7   Valor          9520 non-null   object \n",
            " 8   Moneda         9520 non-null   object \n",
            " 9   Precio         9520 non-null   object \n",
            " 10  Precio_Millon  9520 non-null   float64\n",
            "dtypes: float64(1), int64(3), object(7)\n",
            "memory usage: 818.2+ KB\n"
          ]
        }
      ]
    },
    {
      "cell_type": "code",
      "source": [
        "inmuebles.describe()"
      ],
      "metadata": {
        "colab": {
          "base_uri": "https://localhost:8080/",
          "height": 300
        },
        "id": "2OFAMdrAPoNq",
        "outputId": "b591add9-b93b-4195-c15e-760f92e1a7ef"
      },
      "execution_count": null,
      "outputs": [
        {
          "output_type": "execute_result",
          "data": {
            "text/plain": [
              "       Habitaciones        Banos           Area  Precio_Millon\n",
              "count   9520.000000  9520.000000    9520.000000    9520.000000\n",
              "mean       3.072479     2.447899     146.664706     602.062354\n",
              "std        2.049856     1.255314    1731.379622     704.602062\n",
              "min        1.000000     0.000000       2.000000      60.000000\n",
              "25%        2.000000     2.000000      57.000000     250.000000\n",
              "50%        3.000000     2.000000      80.000000     409.182500\n",
              "75%        3.000000     3.000000     135.000000     680.000000\n",
              "max      110.000000     9.000000  166243.000000   16000.000000"
            ],
            "text/html": [
              "\n",
              "  <div id=\"df-a45f45d5-2868-44f5-b5ea-432eb859dedc\">\n",
              "    <div class=\"colab-df-container\">\n",
              "      <div>\n",
              "<style scoped>\n",
              "    .dataframe tbody tr th:only-of-type {\n",
              "        vertical-align: middle;\n",
              "    }\n",
              "\n",
              "    .dataframe tbody tr th {\n",
              "        vertical-align: top;\n",
              "    }\n",
              "\n",
              "    .dataframe thead th {\n",
              "        text-align: right;\n",
              "    }\n",
              "</style>\n",
              "<table border=\"1\" class=\"dataframe\">\n",
              "  <thead>\n",
              "    <tr style=\"text-align: right;\">\n",
              "      <th></th>\n",
              "      <th>Habitaciones</th>\n",
              "      <th>Banos</th>\n",
              "      <th>Area</th>\n",
              "      <th>Precio_Millon</th>\n",
              "    </tr>\n",
              "  </thead>\n",
              "  <tbody>\n",
              "    <tr>\n",
              "      <th>count</th>\n",
              "      <td>9520.000000</td>\n",
              "      <td>9520.000000</td>\n",
              "      <td>9520.000000</td>\n",
              "      <td>9520.000000</td>\n",
              "    </tr>\n",
              "    <tr>\n",
              "      <th>mean</th>\n",
              "      <td>3.072479</td>\n",
              "      <td>2.447899</td>\n",
              "      <td>146.664706</td>\n",
              "      <td>602.062354</td>\n",
              "    </tr>\n",
              "    <tr>\n",
              "      <th>std</th>\n",
              "      <td>2.049856</td>\n",
              "      <td>1.255314</td>\n",
              "      <td>1731.379622</td>\n",
              "      <td>704.602062</td>\n",
              "    </tr>\n",
              "    <tr>\n",
              "      <th>min</th>\n",
              "      <td>1.000000</td>\n",
              "      <td>0.000000</td>\n",
              "      <td>2.000000</td>\n",
              "      <td>60.000000</td>\n",
              "    </tr>\n",
              "    <tr>\n",
              "      <th>25%</th>\n",
              "      <td>2.000000</td>\n",
              "      <td>2.000000</td>\n",
              "      <td>57.000000</td>\n",
              "      <td>250.000000</td>\n",
              "    </tr>\n",
              "    <tr>\n",
              "      <th>50%</th>\n",
              "      <td>3.000000</td>\n",
              "      <td>2.000000</td>\n",
              "      <td>80.000000</td>\n",
              "      <td>409.182500</td>\n",
              "    </tr>\n",
              "    <tr>\n",
              "      <th>75%</th>\n",
              "      <td>3.000000</td>\n",
              "      <td>3.000000</td>\n",
              "      <td>135.000000</td>\n",
              "      <td>680.000000</td>\n",
              "    </tr>\n",
              "    <tr>\n",
              "      <th>max</th>\n",
              "      <td>110.000000</td>\n",
              "      <td>9.000000</td>\n",
              "      <td>166243.000000</td>\n",
              "      <td>16000.000000</td>\n",
              "    </tr>\n",
              "  </tbody>\n",
              "</table>\n",
              "</div>\n",
              "      <button class=\"colab-df-convert\" onclick=\"convertToInteractive('df-a45f45d5-2868-44f5-b5ea-432eb859dedc')\"\n",
              "              title=\"Convert this dataframe to an interactive table.\"\n",
              "              style=\"display:none;\">\n",
              "        \n",
              "  <svg xmlns=\"http://www.w3.org/2000/svg\" height=\"24px\"viewBox=\"0 0 24 24\"\n",
              "       width=\"24px\">\n",
              "    <path d=\"M0 0h24v24H0V0z\" fill=\"none\"/>\n",
              "    <path d=\"M18.56 5.44l.94 2.06.94-2.06 2.06-.94-2.06-.94-.94-2.06-.94 2.06-2.06.94zm-11 1L8.5 8.5l.94-2.06 2.06-.94-2.06-.94L8.5 2.5l-.94 2.06-2.06.94zm10 10l.94 2.06.94-2.06 2.06-.94-2.06-.94-.94-2.06-.94 2.06-2.06.94z\"/><path d=\"M17.41 7.96l-1.37-1.37c-.4-.4-.92-.59-1.43-.59-.52 0-1.04.2-1.43.59L10.3 9.45l-7.72 7.72c-.78.78-.78 2.05 0 2.83L4 21.41c.39.39.9.59 1.41.59.51 0 1.02-.2 1.41-.59l7.78-7.78 2.81-2.81c.8-.78.8-2.07 0-2.86zM5.41 20L4 18.59l7.72-7.72 1.47 1.35L5.41 20z\"/>\n",
              "  </svg>\n",
              "      </button>\n",
              "      \n",
              "  <style>\n",
              "    .colab-df-container {\n",
              "      display:flex;\n",
              "      flex-wrap:wrap;\n",
              "      gap: 12px;\n",
              "    }\n",
              "\n",
              "    .colab-df-convert {\n",
              "      background-color: #E8F0FE;\n",
              "      border: none;\n",
              "      border-radius: 50%;\n",
              "      cursor: pointer;\n",
              "      display: none;\n",
              "      fill: #1967D2;\n",
              "      height: 32px;\n",
              "      padding: 0 0 0 0;\n",
              "      width: 32px;\n",
              "    }\n",
              "\n",
              "    .colab-df-convert:hover {\n",
              "      background-color: #E2EBFA;\n",
              "      box-shadow: 0px 1px 2px rgba(60, 64, 67, 0.3), 0px 1px 3px 1px rgba(60, 64, 67, 0.15);\n",
              "      fill: #174EA6;\n",
              "    }\n",
              "\n",
              "    [theme=dark] .colab-df-convert {\n",
              "      background-color: #3B4455;\n",
              "      fill: #D2E3FC;\n",
              "    }\n",
              "\n",
              "    [theme=dark] .colab-df-convert:hover {\n",
              "      background-color: #434B5C;\n",
              "      box-shadow: 0px 1px 3px 1px rgba(0, 0, 0, 0.15);\n",
              "      filter: drop-shadow(0px 1px 2px rgba(0, 0, 0, 0.3));\n",
              "      fill: #FFFFFF;\n",
              "    }\n",
              "  </style>\n",
              "\n",
              "      <script>\n",
              "        const buttonEl =\n",
              "          document.querySelector('#df-a45f45d5-2868-44f5-b5ea-432eb859dedc button.colab-df-convert');\n",
              "        buttonEl.style.display =\n",
              "          google.colab.kernel.accessAllowed ? 'block' : 'none';\n",
              "\n",
              "        async function convertToInteractive(key) {\n",
              "          const element = document.querySelector('#df-a45f45d5-2868-44f5-b5ea-432eb859dedc');\n",
              "          const dataTable =\n",
              "            await google.colab.kernel.invokeFunction('convertToInteractive',\n",
              "                                                     [key], {});\n",
              "          if (!dataTable) return;\n",
              "\n",
              "          const docLinkHtml = 'Like what you see? Visit the ' +\n",
              "            '<a target=\"_blank\" href=https://colab.research.google.com/notebooks/data_table.ipynb>data table notebook</a>'\n",
              "            + ' to learn more about interactive tables.';\n",
              "          element.innerHTML = '';\n",
              "          dataTable['output_type'] = 'display_data';\n",
              "          await google.colab.output.renderOutput(dataTable, element);\n",
              "          const docLink = document.createElement('div');\n",
              "          docLink.innerHTML = docLinkHtml;\n",
              "          element.appendChild(docLink);\n",
              "        }\n",
              "      </script>\n",
              "    </div>\n",
              "  </div>\n",
              "  "
            ]
          },
          "metadata": {},
          "execution_count": 49
        }
      ]
    },
    {
      "cell_type": "code",
      "source": [
        "pd.set_option('display.precision',2)\n",
        "pd.set_option('display.float_format', lambda x: '%.2f' % x)\n",
        "inmuebles.describe()"
      ],
      "metadata": {
        "colab": {
          "base_uri": "https://localhost:8080/",
          "height": 300
        },
        "id": "fA1hAJW8QWZ7",
        "outputId": "26a7b561-ac83-4bde-c08d-c863a02140fa"
      },
      "execution_count": null,
      "outputs": [
        {
          "output_type": "execute_result",
          "data": {
            "text/plain": [
              "       Habitaciones   Banos      Area  Precio_Millon\n",
              "count       9520.00 9520.00   9520.00        9520.00\n",
              "mean           3.07    2.45    146.66         602.06\n",
              "std            2.05    1.26   1731.38         704.60\n",
              "min            1.00    0.00      2.00          60.00\n",
              "25%            2.00    2.00     57.00         250.00\n",
              "50%            3.00    2.00     80.00         409.18\n",
              "75%            3.00    3.00    135.00         680.00\n",
              "max          110.00    9.00 166243.00       16000.00"
            ],
            "text/html": [
              "\n",
              "  <div id=\"df-8cab5212-37c8-4d51-9c4b-e68f5d5c6c2a\">\n",
              "    <div class=\"colab-df-container\">\n",
              "      <div>\n",
              "<style scoped>\n",
              "    .dataframe tbody tr th:only-of-type {\n",
              "        vertical-align: middle;\n",
              "    }\n",
              "\n",
              "    .dataframe tbody tr th {\n",
              "        vertical-align: top;\n",
              "    }\n",
              "\n",
              "    .dataframe thead th {\n",
              "        text-align: right;\n",
              "    }\n",
              "</style>\n",
              "<table border=\"1\" class=\"dataframe\">\n",
              "  <thead>\n",
              "    <tr style=\"text-align: right;\">\n",
              "      <th></th>\n",
              "      <th>Habitaciones</th>\n",
              "      <th>Banos</th>\n",
              "      <th>Area</th>\n",
              "      <th>Precio_Millon</th>\n",
              "    </tr>\n",
              "  </thead>\n",
              "  <tbody>\n",
              "    <tr>\n",
              "      <th>count</th>\n",
              "      <td>9520.00</td>\n",
              "      <td>9520.00</td>\n",
              "      <td>9520.00</td>\n",
              "      <td>9520.00</td>\n",
              "    </tr>\n",
              "    <tr>\n",
              "      <th>mean</th>\n",
              "      <td>3.07</td>\n",
              "      <td>2.45</td>\n",
              "      <td>146.66</td>\n",
              "      <td>602.06</td>\n",
              "    </tr>\n",
              "    <tr>\n",
              "      <th>std</th>\n",
              "      <td>2.05</td>\n",
              "      <td>1.26</td>\n",
              "      <td>1731.38</td>\n",
              "      <td>704.60</td>\n",
              "    </tr>\n",
              "    <tr>\n",
              "      <th>min</th>\n",
              "      <td>1.00</td>\n",
              "      <td>0.00</td>\n",
              "      <td>2.00</td>\n",
              "      <td>60.00</td>\n",
              "    </tr>\n",
              "    <tr>\n",
              "      <th>25%</th>\n",
              "      <td>2.00</td>\n",
              "      <td>2.00</td>\n",
              "      <td>57.00</td>\n",
              "      <td>250.00</td>\n",
              "    </tr>\n",
              "    <tr>\n",
              "      <th>50%</th>\n",
              "      <td>3.00</td>\n",
              "      <td>2.00</td>\n",
              "      <td>80.00</td>\n",
              "      <td>409.18</td>\n",
              "    </tr>\n",
              "    <tr>\n",
              "      <th>75%</th>\n",
              "      <td>3.00</td>\n",
              "      <td>3.00</td>\n",
              "      <td>135.00</td>\n",
              "      <td>680.00</td>\n",
              "    </tr>\n",
              "    <tr>\n",
              "      <th>max</th>\n",
              "      <td>110.00</td>\n",
              "      <td>9.00</td>\n",
              "      <td>166243.00</td>\n",
              "      <td>16000.00</td>\n",
              "    </tr>\n",
              "  </tbody>\n",
              "</table>\n",
              "</div>\n",
              "      <button class=\"colab-df-convert\" onclick=\"convertToInteractive('df-8cab5212-37c8-4d51-9c4b-e68f5d5c6c2a')\"\n",
              "              title=\"Convert this dataframe to an interactive table.\"\n",
              "              style=\"display:none;\">\n",
              "        \n",
              "  <svg xmlns=\"http://www.w3.org/2000/svg\" height=\"24px\"viewBox=\"0 0 24 24\"\n",
              "       width=\"24px\">\n",
              "    <path d=\"M0 0h24v24H0V0z\" fill=\"none\"/>\n",
              "    <path d=\"M18.56 5.44l.94 2.06.94-2.06 2.06-.94-2.06-.94-.94-2.06-.94 2.06-2.06.94zm-11 1L8.5 8.5l.94-2.06 2.06-.94-2.06-.94L8.5 2.5l-.94 2.06-2.06.94zm10 10l.94 2.06.94-2.06 2.06-.94-2.06-.94-.94-2.06-.94 2.06-2.06.94z\"/><path d=\"M17.41 7.96l-1.37-1.37c-.4-.4-.92-.59-1.43-.59-.52 0-1.04.2-1.43.59L10.3 9.45l-7.72 7.72c-.78.78-.78 2.05 0 2.83L4 21.41c.39.39.9.59 1.41.59.51 0 1.02-.2 1.41-.59l7.78-7.78 2.81-2.81c.8-.78.8-2.07 0-2.86zM5.41 20L4 18.59l7.72-7.72 1.47 1.35L5.41 20z\"/>\n",
              "  </svg>\n",
              "      </button>\n",
              "      \n",
              "  <style>\n",
              "    .colab-df-container {\n",
              "      display:flex;\n",
              "      flex-wrap:wrap;\n",
              "      gap: 12px;\n",
              "    }\n",
              "\n",
              "    .colab-df-convert {\n",
              "      background-color: #E8F0FE;\n",
              "      border: none;\n",
              "      border-radius: 50%;\n",
              "      cursor: pointer;\n",
              "      display: none;\n",
              "      fill: #1967D2;\n",
              "      height: 32px;\n",
              "      padding: 0 0 0 0;\n",
              "      width: 32px;\n",
              "    }\n",
              "\n",
              "    .colab-df-convert:hover {\n",
              "      background-color: #E2EBFA;\n",
              "      box-shadow: 0px 1px 2px rgba(60, 64, 67, 0.3), 0px 1px 3px 1px rgba(60, 64, 67, 0.15);\n",
              "      fill: #174EA6;\n",
              "    }\n",
              "\n",
              "    [theme=dark] .colab-df-convert {\n",
              "      background-color: #3B4455;\n",
              "      fill: #D2E3FC;\n",
              "    }\n",
              "\n",
              "    [theme=dark] .colab-df-convert:hover {\n",
              "      background-color: #434B5C;\n",
              "      box-shadow: 0px 1px 3px 1px rgba(0, 0, 0, 0.15);\n",
              "      filter: drop-shadow(0px 1px 2px rgba(0, 0, 0, 0.3));\n",
              "      fill: #FFFFFF;\n",
              "    }\n",
              "  </style>\n",
              "\n",
              "      <script>\n",
              "        const buttonEl =\n",
              "          document.querySelector('#df-8cab5212-37c8-4d51-9c4b-e68f5d5c6c2a button.colab-df-convert');\n",
              "        buttonEl.style.display =\n",
              "          google.colab.kernel.accessAllowed ? 'block' : 'none';\n",
              "\n",
              "        async function convertToInteractive(key) {\n",
              "          const element = document.querySelector('#df-8cab5212-37c8-4d51-9c4b-e68f5d5c6c2a');\n",
              "          const dataTable =\n",
              "            await google.colab.kernel.invokeFunction('convertToInteractive',\n",
              "                                                     [key], {});\n",
              "          if (!dataTable) return;\n",
              "\n",
              "          const docLinkHtml = 'Like what you see? Visit the ' +\n",
              "            '<a target=\"_blank\" href=https://colab.research.google.com/notebooks/data_table.ipynb>data table notebook</a>'\n",
              "            + ' to learn more about interactive tables.';\n",
              "          element.innerHTML = '';\n",
              "          dataTable['output_type'] = 'display_data';\n",
              "          await google.colab.output.renderOutput(dataTable, element);\n",
              "          const docLink = document.createElement('div');\n",
              "          docLink.innerHTML = docLinkHtml;\n",
              "          element.appendChild(docLink);\n",
              "        }\n",
              "      </script>\n",
              "    </div>\n",
              "  </div>\n",
              "  "
            ]
          },
          "metadata": {},
          "execution_count": 50
        }
      ]
    },
    {
      "cell_type": "code",
      "source": [
        "inmuebles.loc[inmuebles.Habitaciones == 110]"
      ],
      "metadata": {
        "colab": {
          "base_uri": "https://localhost:8080/",
          "height": 142
        },
        "id": "boVAQbi5RKsm",
        "outputId": "8a215d47-6536-47a2-843c-223b1fc1f013"
      },
      "execution_count": null,
      "outputs": [
        {
          "output_type": "execute_result",
          "data": {
            "text/plain": [
              "     Tipo                Descripcion  Habitaciones  Banos  Area    Barrio  \\\n",
              "897  Casa  Casa en venta en La Uribe           110      2   110  La Uribe   \n",
              "\n",
              "         UPZ          Valor Moneda     Precio  Precio_Millon  \n",
              "897  Usaquén  $ 480.000.000      $  480000000         480.00  "
            ],
            "text/html": [
              "\n",
              "  <div id=\"df-ea7c1ddd-5193-4f37-9ab3-0d780991559e\">\n",
              "    <div class=\"colab-df-container\">\n",
              "      <div>\n",
              "<style scoped>\n",
              "    .dataframe tbody tr th:only-of-type {\n",
              "        vertical-align: middle;\n",
              "    }\n",
              "\n",
              "    .dataframe tbody tr th {\n",
              "        vertical-align: top;\n",
              "    }\n",
              "\n",
              "    .dataframe thead th {\n",
              "        text-align: right;\n",
              "    }\n",
              "</style>\n",
              "<table border=\"1\" class=\"dataframe\">\n",
              "  <thead>\n",
              "    <tr style=\"text-align: right;\">\n",
              "      <th></th>\n",
              "      <th>Tipo</th>\n",
              "      <th>Descripcion</th>\n",
              "      <th>Habitaciones</th>\n",
              "      <th>Banos</th>\n",
              "      <th>Area</th>\n",
              "      <th>Barrio</th>\n",
              "      <th>UPZ</th>\n",
              "      <th>Valor</th>\n",
              "      <th>Moneda</th>\n",
              "      <th>Precio</th>\n",
              "      <th>Precio_Millon</th>\n",
              "    </tr>\n",
              "  </thead>\n",
              "  <tbody>\n",
              "    <tr>\n",
              "      <th>897</th>\n",
              "      <td>Casa</td>\n",
              "      <td>Casa en venta en La Uribe</td>\n",
              "      <td>110</td>\n",
              "      <td>2</td>\n",
              "      <td>110</td>\n",
              "      <td>La Uribe</td>\n",
              "      <td>Usaquén</td>\n",
              "      <td>$ 480.000.000</td>\n",
              "      <td>$</td>\n",
              "      <td>480000000</td>\n",
              "      <td>480.00</td>\n",
              "    </tr>\n",
              "  </tbody>\n",
              "</table>\n",
              "</div>\n",
              "      <button class=\"colab-df-convert\" onclick=\"convertToInteractive('df-ea7c1ddd-5193-4f37-9ab3-0d780991559e')\"\n",
              "              title=\"Convert this dataframe to an interactive table.\"\n",
              "              style=\"display:none;\">\n",
              "        \n",
              "  <svg xmlns=\"http://www.w3.org/2000/svg\" height=\"24px\"viewBox=\"0 0 24 24\"\n",
              "       width=\"24px\">\n",
              "    <path d=\"M0 0h24v24H0V0z\" fill=\"none\"/>\n",
              "    <path d=\"M18.56 5.44l.94 2.06.94-2.06 2.06-.94-2.06-.94-.94-2.06-.94 2.06-2.06.94zm-11 1L8.5 8.5l.94-2.06 2.06-.94-2.06-.94L8.5 2.5l-.94 2.06-2.06.94zm10 10l.94 2.06.94-2.06 2.06-.94-2.06-.94-.94-2.06-.94 2.06-2.06.94z\"/><path d=\"M17.41 7.96l-1.37-1.37c-.4-.4-.92-.59-1.43-.59-.52 0-1.04.2-1.43.59L10.3 9.45l-7.72 7.72c-.78.78-.78 2.05 0 2.83L4 21.41c.39.39.9.59 1.41.59.51 0 1.02-.2 1.41-.59l7.78-7.78 2.81-2.81c.8-.78.8-2.07 0-2.86zM5.41 20L4 18.59l7.72-7.72 1.47 1.35L5.41 20z\"/>\n",
              "  </svg>\n",
              "      </button>\n",
              "      \n",
              "  <style>\n",
              "    .colab-df-container {\n",
              "      display:flex;\n",
              "      flex-wrap:wrap;\n",
              "      gap: 12px;\n",
              "    }\n",
              "\n",
              "    .colab-df-convert {\n",
              "      background-color: #E8F0FE;\n",
              "      border: none;\n",
              "      border-radius: 50%;\n",
              "      cursor: pointer;\n",
              "      display: none;\n",
              "      fill: #1967D2;\n",
              "      height: 32px;\n",
              "      padding: 0 0 0 0;\n",
              "      width: 32px;\n",
              "    }\n",
              "\n",
              "    .colab-df-convert:hover {\n",
              "      background-color: #E2EBFA;\n",
              "      box-shadow: 0px 1px 2px rgba(60, 64, 67, 0.3), 0px 1px 3px 1px rgba(60, 64, 67, 0.15);\n",
              "      fill: #174EA6;\n",
              "    }\n",
              "\n",
              "    [theme=dark] .colab-df-convert {\n",
              "      background-color: #3B4455;\n",
              "      fill: #D2E3FC;\n",
              "    }\n",
              "\n",
              "    [theme=dark] .colab-df-convert:hover {\n",
              "      background-color: #434B5C;\n",
              "      box-shadow: 0px 1px 3px 1px rgba(0, 0, 0, 0.15);\n",
              "      filter: drop-shadow(0px 1px 2px rgba(0, 0, 0, 0.3));\n",
              "      fill: #FFFFFF;\n",
              "    }\n",
              "  </style>\n",
              "\n",
              "      <script>\n",
              "        const buttonEl =\n",
              "          document.querySelector('#df-ea7c1ddd-5193-4f37-9ab3-0d780991559e button.colab-df-convert');\n",
              "        buttonEl.style.display =\n",
              "          google.colab.kernel.accessAllowed ? 'block' : 'none';\n",
              "\n",
              "        async function convertToInteractive(key) {\n",
              "          const element = document.querySelector('#df-ea7c1ddd-5193-4f37-9ab3-0d780991559e');\n",
              "          const dataTable =\n",
              "            await google.colab.kernel.invokeFunction('convertToInteractive',\n",
              "                                                     [key], {});\n",
              "          if (!dataTable) return;\n",
              "\n",
              "          const docLinkHtml = 'Like what you see? Visit the ' +\n",
              "            '<a target=\"_blank\" href=https://colab.research.google.com/notebooks/data_table.ipynb>data table notebook</a>'\n",
              "            + ' to learn more about interactive tables.';\n",
              "          element.innerHTML = '';\n",
              "          dataTable['output_type'] = 'display_data';\n",
              "          await google.colab.output.renderOutput(dataTable, element);\n",
              "          const docLink = document.createElement('div');\n",
              "          docLink.innerHTML = docLinkHtml;\n",
              "          element.appendChild(docLink);\n",
              "        }\n",
              "      </script>\n",
              "    </div>\n",
              "  </div>\n",
              "  "
            ]
          },
          "metadata": {},
          "execution_count": 51
        }
      ]
    },
    {
      "cell_type": "code",
      "source": [
        "inmuebles.loc[inmuebles.Area == 2]"
      ],
      "metadata": {
        "colab": {
          "base_uri": "https://localhost:8080/",
          "height": 179
        },
        "id": "zcCwMeZJRhhC",
        "outputId": "c159138b-4632-4b61-a332-edf65e4523b2"
      },
      "execution_count": null,
      "outputs": [
        {
          "output_type": "execute_result",
          "data": {
            "text/plain": [
              "             Tipo                            Descripcion  Habitaciones  Banos  \\\n",
              "8401  Apartamento  Apartamento en venta en San Cristobal             3      1   \n",
              "\n",
              "      Area         Barrio      UPZ          Valor Moneda     Precio  \\\n",
              "8401     2  San Cristobal  Sosiego  $ 180.000.000      $  180000000   \n",
              "\n",
              "      Precio_Millon  \n",
              "8401         180.00  "
            ],
            "text/html": [
              "\n",
              "  <div id=\"df-d58f1fee-fc01-432d-b200-23bfb9a7f57d\">\n",
              "    <div class=\"colab-df-container\">\n",
              "      <div>\n",
              "<style scoped>\n",
              "    .dataframe tbody tr th:only-of-type {\n",
              "        vertical-align: middle;\n",
              "    }\n",
              "\n",
              "    .dataframe tbody tr th {\n",
              "        vertical-align: top;\n",
              "    }\n",
              "\n",
              "    .dataframe thead th {\n",
              "        text-align: right;\n",
              "    }\n",
              "</style>\n",
              "<table border=\"1\" class=\"dataframe\">\n",
              "  <thead>\n",
              "    <tr style=\"text-align: right;\">\n",
              "      <th></th>\n",
              "      <th>Tipo</th>\n",
              "      <th>Descripcion</th>\n",
              "      <th>Habitaciones</th>\n",
              "      <th>Banos</th>\n",
              "      <th>Area</th>\n",
              "      <th>Barrio</th>\n",
              "      <th>UPZ</th>\n",
              "      <th>Valor</th>\n",
              "      <th>Moneda</th>\n",
              "      <th>Precio</th>\n",
              "      <th>Precio_Millon</th>\n",
              "    </tr>\n",
              "  </thead>\n",
              "  <tbody>\n",
              "    <tr>\n",
              "      <th>8401</th>\n",
              "      <td>Apartamento</td>\n",
              "      <td>Apartamento en venta en San Cristobal</td>\n",
              "      <td>3</td>\n",
              "      <td>1</td>\n",
              "      <td>2</td>\n",
              "      <td>San Cristobal</td>\n",
              "      <td>Sosiego</td>\n",
              "      <td>$ 180.000.000</td>\n",
              "      <td>$</td>\n",
              "      <td>180000000</td>\n",
              "      <td>180.00</td>\n",
              "    </tr>\n",
              "  </tbody>\n",
              "</table>\n",
              "</div>\n",
              "      <button class=\"colab-df-convert\" onclick=\"convertToInteractive('df-d58f1fee-fc01-432d-b200-23bfb9a7f57d')\"\n",
              "              title=\"Convert this dataframe to an interactive table.\"\n",
              "              style=\"display:none;\">\n",
              "        \n",
              "  <svg xmlns=\"http://www.w3.org/2000/svg\" height=\"24px\"viewBox=\"0 0 24 24\"\n",
              "       width=\"24px\">\n",
              "    <path d=\"M0 0h24v24H0V0z\" fill=\"none\"/>\n",
              "    <path d=\"M18.56 5.44l.94 2.06.94-2.06 2.06-.94-2.06-.94-.94-2.06-.94 2.06-2.06.94zm-11 1L8.5 8.5l.94-2.06 2.06-.94-2.06-.94L8.5 2.5l-.94 2.06-2.06.94zm10 10l.94 2.06.94-2.06 2.06-.94-2.06-.94-.94-2.06-.94 2.06-2.06.94z\"/><path d=\"M17.41 7.96l-1.37-1.37c-.4-.4-.92-.59-1.43-.59-.52 0-1.04.2-1.43.59L10.3 9.45l-7.72 7.72c-.78.78-.78 2.05 0 2.83L4 21.41c.39.39.9.59 1.41.59.51 0 1.02-.2 1.41-.59l7.78-7.78 2.81-2.81c.8-.78.8-2.07 0-2.86zM5.41 20L4 18.59l7.72-7.72 1.47 1.35L5.41 20z\"/>\n",
              "  </svg>\n",
              "      </button>\n",
              "      \n",
              "  <style>\n",
              "    .colab-df-container {\n",
              "      display:flex;\n",
              "      flex-wrap:wrap;\n",
              "      gap: 12px;\n",
              "    }\n",
              "\n",
              "    .colab-df-convert {\n",
              "      background-color: #E8F0FE;\n",
              "      border: none;\n",
              "      border-radius: 50%;\n",
              "      cursor: pointer;\n",
              "      display: none;\n",
              "      fill: #1967D2;\n",
              "      height: 32px;\n",
              "      padding: 0 0 0 0;\n",
              "      width: 32px;\n",
              "    }\n",
              "\n",
              "    .colab-df-convert:hover {\n",
              "      background-color: #E2EBFA;\n",
              "      box-shadow: 0px 1px 2px rgba(60, 64, 67, 0.3), 0px 1px 3px 1px rgba(60, 64, 67, 0.15);\n",
              "      fill: #174EA6;\n",
              "    }\n",
              "\n",
              "    [theme=dark] .colab-df-convert {\n",
              "      background-color: #3B4455;\n",
              "      fill: #D2E3FC;\n",
              "    }\n",
              "\n",
              "    [theme=dark] .colab-df-convert:hover {\n",
              "      background-color: #434B5C;\n",
              "      box-shadow: 0px 1px 3px 1px rgba(0, 0, 0, 0.15);\n",
              "      filter: drop-shadow(0px 1px 2px rgba(0, 0, 0, 0.3));\n",
              "      fill: #FFFFFF;\n",
              "    }\n",
              "  </style>\n",
              "\n",
              "      <script>\n",
              "        const buttonEl =\n",
              "          document.querySelector('#df-d58f1fee-fc01-432d-b200-23bfb9a7f57d button.colab-df-convert');\n",
              "        buttonEl.style.display =\n",
              "          google.colab.kernel.accessAllowed ? 'block' : 'none';\n",
              "\n",
              "        async function convertToInteractive(key) {\n",
              "          const element = document.querySelector('#df-d58f1fee-fc01-432d-b200-23bfb9a7f57d');\n",
              "          const dataTable =\n",
              "            await google.colab.kernel.invokeFunction('convertToInteractive',\n",
              "                                                     [key], {});\n",
              "          if (!dataTable) return;\n",
              "\n",
              "          const docLinkHtml = 'Like what you see? Visit the ' +\n",
              "            '<a target=\"_blank\" href=https://colab.research.google.com/notebooks/data_table.ipynb>data table notebook</a>'\n",
              "            + ' to learn more about interactive tables.';\n",
              "          element.innerHTML = '';\n",
              "          dataTable['output_type'] = 'display_data';\n",
              "          await google.colab.output.renderOutput(dataTable, element);\n",
              "          const docLink = document.createElement('div');\n",
              "          docLink.innerHTML = docLinkHtml;\n",
              "          element.appendChild(docLink);\n",
              "        }\n",
              "      </script>\n",
              "    </div>\n",
              "  </div>\n",
              "  "
            ]
          },
          "metadata": {},
          "execution_count": 52
        }
      ]
    },
    {
      "cell_type": "code",
      "source": [
        "inmuebles['Precio_Millon'].plot.hist(bins=10)"
      ],
      "metadata": {
        "colab": {
          "base_uri": "https://localhost:8080/",
          "height": 283
        },
        "id": "fd44PJPCSJwN",
        "outputId": "7d7f35c6-428c-4cbc-e8cb-28a4a18cef6b"
      },
      "execution_count": null,
      "outputs": [
        {
          "output_type": "execute_result",
          "data": {
            "text/plain": [
              "<matplotlib.axes._subplots.AxesSubplot at 0x7fe7566719d0>"
            ]
          },
          "metadata": {},
          "execution_count": 55
        },
        {
          "output_type": "display_data",
          "data": {
            "text/plain": [
              "<Figure size 432x288 with 1 Axes>"
            ],
            "image/png": "[encoded data removed]"
          },
          "metadata": {
            "needs_background": "light"
          }
        }
      ]
    },
    {
      "cell_type": "code",
      "source": [
        "import matplotlib.pyplot as plt\n",
        "import seaborn as sns\n",
        "\n",
        "plt.figure(figsize=(10,6))\n",
        "grafica = sns.histplot(data=inmuebles, x='Precio_Millon', kde=True, hue='Tipo')\n",
        "grafica.set_title('Distribución de Valores de los inmuebles en Bogotá')\n",
        "plt.xlim((50,1000))\n",
        "plt.savefig('/content/drive/MyDrive/inmersion_datos/valor_inmuebles.png',format='png')\n",
        "plt.show()"
      ],
      "metadata": {
        "colab": {
          "base_uri": "https://localhost:8080/",
          "height": 405
        },
        "id": "yhdim-1uSx2c",
        "outputId": "00df0c40-2bc9-460a-d4fd-d0089fab4b5c"
      },
      "execution_count": null,
      "outputs": [
        {
          "output_type": "display_data",
          "data": {
            "text/plain": [
              "<Figure size 720x432 with 1 Axes>"
            ],
            "image/png": "[encoded data removed]"
          },
          "metadata": {
            "needs_background": "light"
          }
        }
      ]
    },
    {
      "cell_type": "markdown",
      "source": [
        "**Desafíos**\n",
        "\n",
        "1. Estudiar mejor el histograma de valores, seleccionar 3 tipos de inmuebles (Refinar el gráfico: Títulos, aumentar el tamaño de labels, colores, conclusión de la información)\n",
        "\n",
        "2. Precio del m2 por barrio y hacer el gráfico más adecuado para esta nueva variable."
      ],
      "metadata": {
        "id": "q4dm6mfCYB-h"
      }
    },
    {
      "cell_type": "markdown",
      "source": [
        "#**Aula 3**"
      ],
      "metadata": {
        "id": "uWrFOixRmcZr"
      }
    },
    {
      "cell_type": "code",
      "source": [],
      "metadata": {
        "id": "l7IujydcVLW0"
      },
      "execution_count": null,
      "outputs": []
    }
  ]
}